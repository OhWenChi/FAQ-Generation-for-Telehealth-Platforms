{
 "cells": [
  {
   "cell_type": "code",
   "execution_count": null,
   "metadata": {
    "colab": {
     "base_uri": "https://localhost:8080/"
    },
    "id": "kVIf9UsrxAOb",
    "outputId": "1214596d-7685-40c0-fa29-5dc4ee6b8687"
   },
   "outputs": [
    {
     "name": "stdout",
     "output_type": "stream",
     "text": [
      "Requirement already satisfied: transformers in /usr/local/lib/python3.12/dist-packages (4.55.4)\n",
      "Requirement already satisfied: datasets in /usr/local/lib/python3.12/dist-packages (4.0.0)\n",
      "Requirement already satisfied: evaluate in /usr/local/lib/python3.12/dist-packages (0.4.5)\n",
      "Requirement already satisfied: peft in /usr/local/lib/python3.12/dist-packages (0.17.1)\n",
      "Requirement already satisfied: accelerate in /usr/local/lib/python3.12/dist-packages (1.10.1)\n",
      "Requirement already satisfied: bitsandbytes in /usr/local/lib/python3.12/dist-packages (0.47.0)\n",
      "Requirement already satisfied: filelock in /usr/local/lib/python3.12/dist-packages (from transformers) (3.19.1)\n",
      "Requirement already satisfied: huggingface-hub<1.0,>=0.34.0 in /usr/local/lib/python3.12/dist-packages (from transformers) (0.34.4)\n",
      "Requirement already satisfied: numpy>=1.17 in /usr/local/lib/python3.12/dist-packages (from transformers) (2.0.2)\n",
      "Requirement already satisfied: packaging>=20.0 in /usr/local/lib/python3.12/dist-packages (from transformers) (25.0)\n",
      "Requirement already satisfied: pyyaml>=5.1 in /usr/local/lib/python3.12/dist-packages (from transformers) (6.0.2)\n",
      "Requirement already satisfied: regex!=2019.12.17 in /usr/local/lib/python3.12/dist-packages (from transformers) (2024.11.6)\n",
      "Requirement already satisfied: requests in /usr/local/lib/python3.12/dist-packages (from transformers) (2.32.4)\n",
      "Requirement already satisfied: tokenizers<0.22,>=0.21 in /usr/local/lib/python3.12/dist-packages (from transformers) (0.21.4)\n",
      "Requirement already satisfied: safetensors>=0.4.3 in /usr/local/lib/python3.12/dist-packages (from transformers) (0.6.2)\n",
      "Requirement already satisfied: tqdm>=4.27 in /usr/local/lib/python3.12/dist-packages (from transformers) (4.67.1)\n",
      "Requirement already satisfied: pyarrow>=15.0.0 in /usr/local/lib/python3.12/dist-packages (from datasets) (18.1.0)\n",
      "Requirement already satisfied: dill<0.3.9,>=0.3.0 in /usr/local/lib/python3.12/dist-packages (from datasets) (0.3.8)\n",
      "Requirement already satisfied: pandas in /usr/local/lib/python3.12/dist-packages (from datasets) (2.2.2)\n",
      "Requirement already satisfied: xxhash in /usr/local/lib/python3.12/dist-packages (from datasets) (3.5.0)\n",
      "Requirement already satisfied: multiprocess<0.70.17 in /usr/local/lib/python3.12/dist-packages (from datasets) (0.70.16)\n",
      "Requirement already satisfied: fsspec<=2025.3.0,>=2023.1.0 in /usr/local/lib/python3.12/dist-packages (from fsspec[http]<=2025.3.0,>=2023.1.0->datasets) (2025.3.0)\n",
      "Requirement already satisfied: psutil in /usr/local/lib/python3.12/dist-packages (from peft) (5.9.5)\n",
      "Requirement already satisfied: torch>=1.13.0 in /usr/local/lib/python3.12/dist-packages (from peft) (2.8.0+cu126)\n",
      "Requirement already satisfied: aiohttp!=4.0.0a0,!=4.0.0a1 in /usr/local/lib/python3.12/dist-packages (from fsspec[http]<=2025.3.0,>=2023.1.0->datasets) (3.12.15)\n",
      "Requirement already satisfied: typing-extensions>=3.7.4.3 in /usr/local/lib/python3.12/dist-packages (from huggingface-hub<1.0,>=0.34.0->transformers) (4.15.0)\n",
      "Requirement already satisfied: hf-xet<2.0.0,>=1.1.3 in /usr/local/lib/python3.12/dist-packages (from huggingface-hub<1.0,>=0.34.0->transformers) (1.1.8)\n",
      "Requirement already satisfied: charset_normalizer<4,>=2 in /usr/local/lib/python3.12/dist-packages (from requests->transformers) (3.4.3)\n",
      "Requirement already satisfied: idna<4,>=2.5 in /usr/local/lib/python3.12/dist-packages (from requests->transformers) (3.10)\n",
      "Requirement already satisfied: urllib3<3,>=1.21.1 in /usr/local/lib/python3.12/dist-packages (from requests->transformers) (2.5.0)\n",
      "Requirement already satisfied: certifi>=2017.4.17 in /usr/local/lib/python3.12/dist-packages (from requests->transformers) (2025.8.3)\n",
      "Requirement already satisfied: setuptools in /usr/local/lib/python3.12/dist-packages (from torch>=1.13.0->peft) (75.2.0)\n",
      "Requirement already satisfied: sympy>=1.13.3 in /usr/local/lib/python3.12/dist-packages (from torch>=1.13.0->peft) (1.13.3)\n",
      "Requirement already satisfied: networkx in /usr/local/lib/python3.12/dist-packages (from torch>=1.13.0->peft) (3.5)\n",
      "Requirement already satisfied: jinja2 in /usr/local/lib/python3.12/dist-packages (from torch>=1.13.0->peft) (3.1.6)\n",
      "Requirement already satisfied: nvidia-cuda-nvrtc-cu12==12.6.77 in /usr/local/lib/python3.12/dist-packages (from torch>=1.13.0->peft) (12.6.77)\n",
      "Requirement already satisfied: nvidia-cuda-runtime-cu12==12.6.77 in /usr/local/lib/python3.12/dist-packages (from torch>=1.13.0->peft) (12.6.77)\n",
      "Requirement already satisfied: nvidia-cuda-cupti-cu12==12.6.80 in /usr/local/lib/python3.12/dist-packages (from torch>=1.13.0->peft) (12.6.80)\n",
      "Requirement already satisfied: nvidia-cudnn-cu12==9.10.2.21 in /usr/local/lib/python3.12/dist-packages (from torch>=1.13.0->peft) (9.10.2.21)\n",
      "Requirement already satisfied: nvidia-cublas-cu12==12.6.4.1 in /usr/local/lib/python3.12/dist-packages (from torch>=1.13.0->peft) (12.6.4.1)\n",
      "Requirement already satisfied: nvidia-cufft-cu12==11.3.0.4 in /usr/local/lib/python3.12/dist-packages (from torch>=1.13.0->peft) (11.3.0.4)\n",
      "Requirement already satisfied: nvidia-curand-cu12==10.3.7.77 in /usr/local/lib/python3.12/dist-packages (from torch>=1.13.0->peft) (10.3.7.77)\n",
      "Requirement already satisfied: nvidia-cusolver-cu12==11.7.1.2 in /usr/local/lib/python3.12/dist-packages (from torch>=1.13.0->peft) (11.7.1.2)\n",
      "Requirement already satisfied: nvidia-cusparse-cu12==12.5.4.2 in /usr/local/lib/python3.12/dist-packages (from torch>=1.13.0->peft) (12.5.4.2)\n",
      "Requirement already satisfied: nvidia-cusparselt-cu12==0.7.1 in /usr/local/lib/python3.12/dist-packages (from torch>=1.13.0->peft) (0.7.1)\n",
      "Requirement already satisfied: nvidia-nccl-cu12==2.27.3 in /usr/local/lib/python3.12/dist-packages (from torch>=1.13.0->peft) (2.27.3)\n",
      "Requirement already satisfied: nvidia-nvtx-cu12==12.6.77 in /usr/local/lib/python3.12/dist-packages (from torch>=1.13.0->peft) (12.6.77)\n",
      "Requirement already satisfied: nvidia-nvjitlink-cu12==12.6.85 in /usr/local/lib/python3.12/dist-packages (from torch>=1.13.0->peft) (12.6.85)\n",
      "Requirement already satisfied: nvidia-cufile-cu12==1.11.1.6 in /usr/local/lib/python3.12/dist-packages (from torch>=1.13.0->peft) (1.11.1.6)\n",
      "Requirement already satisfied: triton==3.4.0 in /usr/local/lib/python3.12/dist-packages (from torch>=1.13.0->peft) (3.4.0)\n",
      "Requirement already satisfied: python-dateutil>=2.8.2 in /usr/local/lib/python3.12/dist-packages (from pandas->datasets) (2.9.0.post0)\n",
      "Requirement already satisfied: pytz>=2020.1 in /usr/local/lib/python3.12/dist-packages (from pandas->datasets) (2025.2)\n",
      "Requirement already satisfied: tzdata>=2022.7 in /usr/local/lib/python3.12/dist-packages (from pandas->datasets) (2025.2)\n",
      "Requirement already satisfied: aiohappyeyeballs>=2.5.0 in /usr/local/lib/python3.12/dist-packages (from aiohttp!=4.0.0a0,!=4.0.0a1->fsspec[http]<=2025.3.0,>=2023.1.0->datasets) (2.6.1)\n",
      "Requirement already satisfied: aiosignal>=1.4.0 in /usr/local/lib/python3.12/dist-packages (from aiohttp!=4.0.0a0,!=4.0.0a1->fsspec[http]<=2025.3.0,>=2023.1.0->datasets) (1.4.0)\n",
      "Requirement already satisfied: attrs>=17.3.0 in /usr/local/lib/python3.12/dist-packages (from aiohttp!=4.0.0a0,!=4.0.0a1->fsspec[http]<=2025.3.0,>=2023.1.0->datasets) (25.3.0)\n",
      "Requirement already satisfied: frozenlist>=1.1.1 in /usr/local/lib/python3.12/dist-packages (from aiohttp!=4.0.0a0,!=4.0.0a1->fsspec[http]<=2025.3.0,>=2023.1.0->datasets) (1.7.0)\n",
      "Requirement already satisfied: multidict<7.0,>=4.5 in /usr/local/lib/python3.12/dist-packages (from aiohttp!=4.0.0a0,!=4.0.0a1->fsspec[http]<=2025.3.0,>=2023.1.0->datasets) (6.6.4)\n",
      "Requirement already satisfied: propcache>=0.2.0 in /usr/local/lib/python3.12/dist-packages (from aiohttp!=4.0.0a0,!=4.0.0a1->fsspec[http]<=2025.3.0,>=2023.1.0->datasets) (0.3.2)\n",
      "Requirement already satisfied: yarl<2.0,>=1.17.0 in /usr/local/lib/python3.12/dist-packages (from aiohttp!=4.0.0a0,!=4.0.0a1->fsspec[http]<=2025.3.0,>=2023.1.0->datasets) (1.20.1)\n",
      "Requirement already satisfied: six>=1.5 in /usr/local/lib/python3.12/dist-packages (from python-dateutil>=2.8.2->pandas->datasets) (1.17.0)\n",
      "Requirement already satisfied: mpmath<1.4,>=1.1.0 in /usr/local/lib/python3.12/dist-packages (from sympy>=1.13.3->torch>=1.13.0->peft) (1.3.0)\n",
      "Requirement already satisfied: MarkupSafe>=2.0 in /usr/local/lib/python3.12/dist-packages (from jinja2->torch>=1.13.0->peft) (3.0.2)\n"
     ]
    }
   ],
   "source": [
    "!pip install transformers datasets evaluate peft accelerate bitsandbytes torch"
   ]
  },
  {
   "cell_type": "code",
   "execution_count": null,
   "metadata": {
    "colab": {
     "base_uri": "https://localhost:8080/"
    },
    "id": "hT16ANExxB3k",
    "outputId": "32843fce-2c43-4c6a-fd00-c22b3234654c"
   },
   "outputs": [
    {
     "name": "stdout",
     "output_type": "stream",
     "text": [
      "Collecting rouge_score\n",
      "  Downloading rouge_score-0.1.2.tar.gz (17 kB)\n",
      "  Preparing metadata (setup.py) ... \u001b[?25l\u001b[?25hdone\n",
      "Requirement already satisfied: absl-py in /usr/local/lib/python3.12/dist-packages (from rouge_score) (1.4.0)\n",
      "Requirement already satisfied: nltk in /usr/local/lib/python3.12/dist-packages (from rouge_score) (3.9.1)\n",
      "Requirement already satisfied: numpy in /usr/local/lib/python3.12/dist-packages (from rouge_score) (2.0.2)\n",
      "Requirement already satisfied: six>=1.14.0 in /usr/local/lib/python3.12/dist-packages (from rouge_score) (1.17.0)\n",
      "Requirement already satisfied: click in /usr/local/lib/python3.12/dist-packages (from nltk->rouge_score) (8.2.1)\n",
      "Requirement already satisfied: joblib in /usr/local/lib/python3.12/dist-packages (from nltk->rouge_score) (1.5.1)\n",
      "Requirement already satisfied: regex>=2021.8.3 in /usr/local/lib/python3.12/dist-packages (from nltk->rouge_score) (2024.11.6)\n",
      "Requirement already satisfied: tqdm in /usr/local/lib/python3.12/dist-packages (from nltk->rouge_score) (4.67.1)\n",
      "Building wheels for collected packages: rouge_score\n",
      "  Building wheel for rouge_score (setup.py) ... \u001b[?25l\u001b[?25hdone\n",
      "  Created wheel for rouge_score: filename=rouge_score-0.1.2-py3-none-any.whl size=24934 sha256=09e7b83325e707a60ec0b66be0a7af57c2e0a5311cfa9cc335cb38f3396a0456\n",
      "  Stored in directory: /root/.cache/pip/wheels/85/9d/af/01feefbe7d55ef5468796f0c68225b6788e85d9d0a281e7a70\n",
      "Successfully built rouge_score\n",
      "Installing collected packages: rouge_score\n",
      "Successfully installed rouge_score-0.1.2\n"
     ]
    }
   ],
   "source": [
    "!pip install rouge_score"
   ]
  },
  {
   "cell_type": "code",
   "execution_count": null,
   "metadata": {
    "colab": {
     "base_uri": "https://localhost:8080/"
    },
    "id": "mJY8g7-bxB01",
    "outputId": "0eb2510e-8616-40fb-bf4e-7dc5284958f1"
   },
   "outputs": [
    {
     "name": "stdout",
     "output_type": "stream",
     "text": [
      "Collecting bert_score\n",
      "  Downloading bert_score-0.3.13-py3-none-any.whl.metadata (15 kB)\n",
      "Requirement already satisfied: torch>=1.0.0 in /usr/local/lib/python3.12/dist-packages (from bert_score) (2.8.0+cu126)\n",
      "Requirement already satisfied: pandas>=1.0.1 in /usr/local/lib/python3.12/dist-packages (from bert_score) (2.2.2)\n",
      "Requirement already satisfied: transformers>=3.0.0 in /usr/local/lib/python3.12/dist-packages (from bert_score) (4.55.4)\n",
      "Requirement already satisfied: numpy in /usr/local/lib/python3.12/dist-packages (from bert_score) (2.0.2)\n",
      "Requirement already satisfied: requests in /usr/local/lib/python3.12/dist-packages (from bert_score) (2.32.4)\n",
      "Requirement already satisfied: tqdm>=4.31.1 in /usr/local/lib/python3.12/dist-packages (from bert_score) (4.67.1)\n",
      "Requirement already satisfied: matplotlib in /usr/local/lib/python3.12/dist-packages (from bert_score) (3.10.0)\n",
      "Requirement already satisfied: packaging>=20.9 in /usr/local/lib/python3.12/dist-packages (from bert_score) (25.0)\n",
      "Requirement already satisfied: python-dateutil>=2.8.2 in /usr/local/lib/python3.12/dist-packages (from pandas>=1.0.1->bert_score) (2.9.0.post0)\n",
      "Requirement already satisfied: pytz>=2020.1 in /usr/local/lib/python3.12/dist-packages (from pandas>=1.0.1->bert_score) (2025.2)\n",
      "Requirement already satisfied: tzdata>=2022.7 in /usr/local/lib/python3.12/dist-packages (from pandas>=1.0.1->bert_score) (2025.2)\n",
      "Requirement already satisfied: filelock in /usr/local/lib/python3.12/dist-packages (from torch>=1.0.0->bert_score) (3.19.1)\n",
      "Requirement already satisfied: typing-extensions>=4.10.0 in /usr/local/lib/python3.12/dist-packages (from torch>=1.0.0->bert_score) (4.15.0)\n",
      "Requirement already satisfied: setuptools in /usr/local/lib/python3.12/dist-packages (from torch>=1.0.0->bert_score) (75.2.0)\n",
      "Requirement already satisfied: sympy>=1.13.3 in /usr/local/lib/python3.12/dist-packages (from torch>=1.0.0->bert_score) (1.13.3)\n",
      "Requirement already satisfied: networkx in /usr/local/lib/python3.12/dist-packages (from torch>=1.0.0->bert_score) (3.5)\n",
      "Requirement already satisfied: jinja2 in /usr/local/lib/python3.12/dist-packages (from torch>=1.0.0->bert_score) (3.1.6)\n",
      "Requirement already satisfied: fsspec in /usr/local/lib/python3.12/dist-packages (from torch>=1.0.0->bert_score) (2025.3.0)\n",
      "Requirement already satisfied: nvidia-cuda-nvrtc-cu12==12.6.77 in /usr/local/lib/python3.12/dist-packages (from torch>=1.0.0->bert_score) (12.6.77)\n",
      "Requirement already satisfied: nvidia-cuda-runtime-cu12==12.6.77 in /usr/local/lib/python3.12/dist-packages (from torch>=1.0.0->bert_score) (12.6.77)\n",
      "Requirement already satisfied: nvidia-cuda-cupti-cu12==12.6.80 in /usr/local/lib/python3.12/dist-packages (from torch>=1.0.0->bert_score) (12.6.80)\n",
      "Requirement already satisfied: nvidia-cudnn-cu12==9.10.2.21 in /usr/local/lib/python3.12/dist-packages (from torch>=1.0.0->bert_score) (9.10.2.21)\n",
      "Requirement already satisfied: nvidia-cublas-cu12==12.6.4.1 in /usr/local/lib/python3.12/dist-packages (from torch>=1.0.0->bert_score) (12.6.4.1)\n",
      "Requirement already satisfied: nvidia-cufft-cu12==11.3.0.4 in /usr/local/lib/python3.12/dist-packages (from torch>=1.0.0->bert_score) (11.3.0.4)\n",
      "Requirement already satisfied: nvidia-curand-cu12==10.3.7.77 in /usr/local/lib/python3.12/dist-packages (from torch>=1.0.0->bert_score) (10.3.7.77)\n",
      "Requirement already satisfied: nvidia-cusolver-cu12==11.7.1.2 in /usr/local/lib/python3.12/dist-packages (from torch>=1.0.0->bert_score) (11.7.1.2)\n",
      "Requirement already satisfied: nvidia-cusparse-cu12==12.5.4.2 in /usr/local/lib/python3.12/dist-packages (from torch>=1.0.0->bert_score) (12.5.4.2)\n",
      "Requirement already satisfied: nvidia-cusparselt-cu12==0.7.1 in /usr/local/lib/python3.12/dist-packages (from torch>=1.0.0->bert_score) (0.7.1)\n",
      "Requirement already satisfied: nvidia-nccl-cu12==2.27.3 in /usr/local/lib/python3.12/dist-packages (from torch>=1.0.0->bert_score) (2.27.3)\n",
      "Requirement already satisfied: nvidia-nvtx-cu12==12.6.77 in /usr/local/lib/python3.12/dist-packages (from torch>=1.0.0->bert_score) (12.6.77)\n",
      "Requirement already satisfied: nvidia-nvjitlink-cu12==12.6.85 in /usr/local/lib/python3.12/dist-packages (from torch>=1.0.0->bert_score) (12.6.85)\n",
      "Requirement already satisfied: nvidia-cufile-cu12==1.11.1.6 in /usr/local/lib/python3.12/dist-packages (from torch>=1.0.0->bert_score) (1.11.1.6)\n",
      "Requirement already satisfied: triton==3.4.0 in /usr/local/lib/python3.12/dist-packages (from torch>=1.0.0->bert_score) (3.4.0)\n",
      "Requirement already satisfied: huggingface-hub<1.0,>=0.34.0 in /usr/local/lib/python3.12/dist-packages (from transformers>=3.0.0->bert_score) (0.34.4)\n",
      "Requirement already satisfied: pyyaml>=5.1 in /usr/local/lib/python3.12/dist-packages (from transformers>=3.0.0->bert_score) (6.0.2)\n",
      "Requirement already satisfied: regex!=2019.12.17 in /usr/local/lib/python3.12/dist-packages (from transformers>=3.0.0->bert_score) (2024.11.6)\n",
      "Requirement already satisfied: tokenizers<0.22,>=0.21 in /usr/local/lib/python3.12/dist-packages (from transformers>=3.0.0->bert_score) (0.21.4)\n",
      "Requirement already satisfied: safetensors>=0.4.3 in /usr/local/lib/python3.12/dist-packages (from transformers>=3.0.0->bert_score) (0.6.2)\n",
      "Requirement already satisfied: contourpy>=1.0.1 in /usr/local/lib/python3.12/dist-packages (from matplotlib->bert_score) (1.3.3)\n",
      "Requirement already satisfied: cycler>=0.10 in /usr/local/lib/python3.12/dist-packages (from matplotlib->bert_score) (0.12.1)\n",
      "Requirement already satisfied: fonttools>=4.22.0 in /usr/local/lib/python3.12/dist-packages (from matplotlib->bert_score) (4.59.1)\n",
      "Requirement already satisfied: kiwisolver>=1.3.1 in /usr/local/lib/python3.12/dist-packages (from matplotlib->bert_score) (1.4.9)\n",
      "Requirement already satisfied: pillow>=8 in /usr/local/lib/python3.12/dist-packages (from matplotlib->bert_score) (11.3.0)\n",
      "Requirement already satisfied: pyparsing>=2.3.1 in /usr/local/lib/python3.12/dist-packages (from matplotlib->bert_score) (3.2.3)\n",
      "Requirement already satisfied: charset_normalizer<4,>=2 in /usr/local/lib/python3.12/dist-packages (from requests->bert_score) (3.4.3)\n",
      "Requirement already satisfied: idna<4,>=2.5 in /usr/local/lib/python3.12/dist-packages (from requests->bert_score) (3.10)\n",
      "Requirement already satisfied: urllib3<3,>=1.21.1 in /usr/local/lib/python3.12/dist-packages (from requests->bert_score) (2.5.0)\n",
      "Requirement already satisfied: certifi>=2017.4.17 in /usr/local/lib/python3.12/dist-packages (from requests->bert_score) (2025.8.3)\n",
      "Requirement already satisfied: hf-xet<2.0.0,>=1.1.3 in /usr/local/lib/python3.12/dist-packages (from huggingface-hub<1.0,>=0.34.0->transformers>=3.0.0->bert_score) (1.1.8)\n",
      "Requirement already satisfied: six>=1.5 in /usr/local/lib/python3.12/dist-packages (from python-dateutil>=2.8.2->pandas>=1.0.1->bert_score) (1.17.0)\n",
      "Requirement already satisfied: mpmath<1.4,>=1.1.0 in /usr/local/lib/python3.12/dist-packages (from sympy>=1.13.3->torch>=1.0.0->bert_score) (1.3.0)\n",
      "Requirement already satisfied: MarkupSafe>=2.0 in /usr/local/lib/python3.12/dist-packages (from jinja2->torch>=1.0.0->bert_score) (3.0.2)\n",
      "Downloading bert_score-0.3.13-py3-none-any.whl (61 kB)\n",
      "\u001b[2K   \u001b[90m━━━━━━━━━━━━━━━━━━━━━━━━━━━━━━━━━━━━━━━━\u001b[0m \u001b[32m61.1/61.1 kB\u001b[0m \u001b[31m5.0 MB/s\u001b[0m eta \u001b[36m0:00:00\u001b[0m\n",
      "\u001b[?25hInstalling collected packages: bert_score\n",
      "Successfully installed bert_score-0.3.13\n"
     ]
    }
   ],
   "source": [
    "!pip install bert_score"
   ]
  },
  {
   "cell_type": "code",
   "execution_count": null,
   "metadata": {
    "id": "k4EhZdVexBxb"
   },
   "outputs": [],
   "source": [
    "# STEP 1: Load and clean MedDialog dataset\n",
    "import json\n",
    "import pandas as pd\n",
    "from datasets import Dataset, DatasetDict\n",
    "from sklearn.model_selection import train_test_split\n",
    "\n",
    "def load_and_filter_dataset(path):\n",
    "    with open(path, \"r\") as f:\n",
    "        data = json.load(f)\n",
    "\n",
    "    cleaned_data = []\n",
    "    for entry in data:\n",
    "        utterances = entry.get(\"utterances\", [])\n",
    "        if len(utterances) < 2:\n",
    "            continue\n",
    "        patient = utterances[0].replace(\"patient:\", \"\").strip()\n",
    "        doctor = utterances[1].replace(\"doctor:\", \"\").strip()\n",
    "\n",
    "        if 10 < len(doctor.split()) < 100:  # filter bad/short/long responses\n",
    "            input_text = f\"You are a helpful telehealth doctor. Provide a short, clear response.\\nPatient: {patient}\\nDoctor:\"\n",
    "            cleaned_data.append({\"input\": input_text, \"output\": doctor})\n",
    "\n",
    "    return pd.DataFrame(cleaned_data)\n",
    "\n",
    "# Load datasets\n",
    "train_df = load_and_filter_dataset(\"english-train.json\")\n",
    "val_df   = load_and_filter_dataset(\"english-dev.json\")\n",
    "test_df  = load_and_filter_dataset(\"english-test.json\")\n",
    "\n",
    "# Split 20% of train data for validation (benchmarking)\n",
    "train_df, benchmark_df = train_test_split(train_df, test_size=0.2, random_state=42)\n",
    "\n",
    "dataset = DatasetDict({\n",
    "    \"train\": Dataset.from_pandas(train_df),\n",
    "    \"benchmark\": Dataset.from_pandas(benchmark_df),  # Benchmark dataset (20%)\n",
    "    \"test\": Dataset.from_pandas(test_df)\n",
    "})"
   ]
  },
  {
   "cell_type": "code",
   "execution_count": null,
   "metadata": {
    "colab": {
     "base_uri": "https://localhost:8080/"
    },
    "id": "sj4kRMTTxBuz",
    "outputId": "a0ba5b79-9635-4d93-ef4a-6eb8483beadf"
   },
   "outputs": [
    {
     "name": "stdout",
     "output_type": "stream",
     "text": [
      "Dataset Sizes\n",
      "Total samples before split (train.json): 2001\n",
      "Validation (dev.json): 142\n",
      "Test (test.json): 355\n",
      "\n",
      "After Split (train - train + benchmark)\n",
      "Train size: 1600\n",
      "Benchmark (20% of train): 401\n",
      "Validation (dev): 142\n",
      "Test size: 355\n",
      "\n",
      "Final\n",
      "Total samples before split: 2001\n",
      "Train size: 1600\n",
      "Eval size: 401\n",
      "Test size: 355\n"
     ]
    }
   ],
   "source": [
    "# After loading all datasets\n",
    "print(\"Dataset Sizes\")\n",
    "print(f\"Total samples before split (train.json): {len(load_and_filter_dataset('english-train.json'))}\")\n",
    "print(f\"Validation (dev.json): {len(val_df)}\")\n",
    "print(f\"Test (test.json): {len(test_df)}\")\n",
    "\n",
    "# Sizes after your 80/20 split\n",
    "print(\"\\nAfter Split (train - train + benchmark)\")\n",
    "print(f\"Train size: {len(train_df)}\")\n",
    "print(f\"Benchmark (20% of train): {len(benchmark_df)}\")\n",
    "print(f\"Validation (dev): {len(val_df)}\")\n",
    "print(f\"Test size: {len(test_df)}\")\n",
    "\n",
    "# Final\n",
    "print(\"\\nFinal\")\n",
    "print(f\"Total samples before split: {len(train_df) + len(benchmark_df)}\")\n",
    "print(f\"Train size: {len(train_df)}\")\n",
    "print(f\"Eval size: {len(benchmark_df)}\")\n",
    "print(f\"Test size: {len(test_df)}\")"
   ]
  },
  {
   "cell_type": "code",
   "execution_count": null,
   "metadata": {
    "colab": {
     "base_uri": "https://localhost:8080/",
     "height": 383,
     "referenced_widgets": [
      "1398462610d74145b6cea9bc537ef7b8",
      "2db35d10478a4d5780bbd751869ea5f0",
      "9eb32cf7ef4145568a787b349800c89e",
      "098688d5df684e5788563bd5acd2b42a",
      "43d33038051a4bfea9db9f00ca96f835",
      "4545986eb9e0471aafa885a0de14cfa5",
      "c1619268b3d7414c8743991ce232056a",
      "1670a257206d436b9bdf57e9d7164cb0",
      "c0586216d72d4c8ebe9644bb5712c5ab",
      "84d406470bbd460d85cbb08c3d2e1f7e",
      "d7ebcb71c7fd484d92eddf38563fc034",
      "725aa53ee9d1422ab1ab9137c9679283",
      "384d4b82630249cca350a680d7b30433",
      "7d9be5ba4d6a4a78b8fa10ed9c3e562c",
      "270b7184798b4def9e2ddc242f601178",
      "28f61447474b479ba11b7868079f0988",
      "385463cdd7d1460089fa5edbe2995f18",
      "7c9fe79f611f482d9d37a9860af1339c",
      "a8ae82c09c824fa2a1a6ad7170800cb0",
      "aa26bd0392c443a8813c4ad0b86b3981",
      "41be9a1d94c0447dbf014164bb91ff45",
      "53be2f8fed264a9080966e73869fcec8",
      "3a77685906db4eafb52738ee7d7d1c8a",
      "30751ba1bab64e759747709e0111e5d5",
      "7b3e75bda4be403e80bc0fd505ddf22d",
      "adb488d715324f24a180275c4be28155",
      "ee1180b07da2441bbcfc76dd77e56287",
      "61ae771fabf641faa1e6c87047cf5557",
      "382c1879f7a7431fa5bc98b4827a054b",
      "d827483f5cee4e77ae26d794b3cad44a",
      "1bb47c645b1c43b588d58011ef025924",
      "9d886fa4a0d446359a3e17d57762f8d2",
      "1e5b331729f64257afff6eedce720f52",
      "9745c7e159a84ec3846e2ece80f716a5",
      "52ff3879ab644646925335ccf640a97b",
      "ad8d567516e142dfb2b7e21d4c75ca7e",
      "dbd41c681e9048718f876671be301798",
      "2b484c2d4b1943de892844a3246847ae",
      "c7437c5fd7bf4c3eb0b56930f7a3e60c",
      "6ee7a97976894d96b750ab948e272537",
      "68b976d2ad184a1cbc50a653502827b4",
      "919c5171bf854084a6646d0f09f66f1b",
      "ab1abf8a178249fc932fd0b085d09b3d",
      "4b9748098615457583472fc3b94fd38b",
      "014bccccf4f94f35b372521812d6a27f",
      "e19d7c2e9aef46f190dec06244c67853",
      "718ab1e1b9094f4a95a39830b07644e6",
      "45b17977848546d39da2602cabdb7e49",
      "71fd785d72c84fd8974223acab943ae9",
      "82dc7cb486c648c7875c4054c2a3c5e2",
      "c0b9818471b347559b5227c8503a3d2e",
      "c8083ea7e14e43e0bab8e22b925bf2c6",
      "4372d574aba2417a905306a1792c26a6",
      "41c47ff779aa44bf9b20afd2b10da65a",
      "63ce266965dd4e26a59389d62ca2c0c8",
      "a6c34015976147eeac4944f75f597756",
      "138dedcffd10461ea5aab5f135986f66",
      "491498c14c3a45d3801c54ced4789f81",
      "1496496f9b344d01abe05d7dcd702722",
      "fda87411dbf1463ca24d2d754f928c99",
      "dd07312120b547be8274eafc982e1d73",
      "5a594da868d546a0a0561e588d485d05",
      "1913c4cde5854b9d9e66021edfe29ea0",
      "437370123c05400884b117d074beca31",
      "e4ed3f2f721b4e619c61d6a766d3c743",
      "2de6e92da16f4097a83195255e2ac3a8",
      "54e4b904a67c4f5284bdc560010ca98d",
      "68843c95efdc4263b51d6f2d8e943d7d",
      "0791814899d9409891dd265a6cfe538d",
      "aecf9d061d7b4c10b9bb22ddc6dc401d",
      "798ae576b183477c9a20261c4670435a",
      "7e9da8d2a35c4abe98bde55aff7b31f5",
      "4a8f8d7a335a461c9aacc556f8a4ea3f",
      "59e9eebe7582429b9abe9ff8cd170826",
      "73b9014bf8d544b9a3a126134a9d4e7e",
      "fbf1328715944a1a8bd1a8f3a9fd07ca",
      "ca3f16e7a05e4d67925313acc8d5ccb6"
     ]
    },
    "id": "WUiZzzd_xBrr",
    "outputId": "7abf6963-dafa-40ca-f0bc-a236ad6ec359"
   },
   "outputs": [
    {
     "name": "stderr",
     "output_type": "stream",
     "text": [
      "/usr/local/lib/python3.12/dist-packages/huggingface_hub/utils/_auth.py:94: UserWarning: \n",
      "The secret `HF_TOKEN` does not exist in your Colab secrets.\n",
      "To authenticate with the Hugging Face Hub, create a token in your settings tab (https://huggingface.co/settings/tokens), set it as secret in your Google Colab and restart your session.\n",
      "You will be able to reuse this secret in all of your notebooks.\n",
      "Please note that authentication is recommended but still optional to access public models or datasets.\n",
      "  warnings.warn(\n"
     ]
    },
    {
     "data": {
      "application/vnd.jupyter.widget-view+json": {
       "model_id": "1398462610d74145b6cea9bc537ef7b8",
       "version_major": 2,
       "version_minor": 0
      },
      "text/plain": [
       "tokenizer_config.json: 0.00B [00:00, ?B/s]"
      ]
     },
     "metadata": {},
     "output_type": "display_data"
    },
    {
     "data": {
      "application/vnd.jupyter.widget-view+json": {
       "model_id": "725aa53ee9d1422ab1ab9137c9679283",
       "version_major": 2,
       "version_minor": 0
      },
      "text/plain": [
       "spiece.model:   0%|          | 0.00/792k [00:00<?, ?B/s]"
      ]
     },
     "metadata": {},
     "output_type": "display_data"
    },
    {
     "data": {
      "application/vnd.jupyter.widget-view+json": {
       "model_id": "3a77685906db4eafb52738ee7d7d1c8a",
       "version_major": 2,
       "version_minor": 0
      },
      "text/plain": [
       "special_tokens_map.json: 0.00B [00:00, ?B/s]"
      ]
     },
     "metadata": {},
     "output_type": "display_data"
    },
    {
     "data": {
      "application/vnd.jupyter.widget-view+json": {
       "model_id": "9745c7e159a84ec3846e2ece80f716a5",
       "version_major": 2,
       "version_minor": 0
      },
      "text/plain": [
       "tokenizer.json: 0.00B [00:00, ?B/s]"
      ]
     },
     "metadata": {},
     "output_type": "display_data"
    },
    {
     "name": "stderr",
     "output_type": "stream",
     "text": [
      "You are using the default legacy behaviour of the <class 'transformers.models.t5.tokenization_t5.T5Tokenizer'>. This is expected, and simply means that the `legacy` (previous) behavior will be used so nothing changes for you. If you want to use the new behaviour, set `legacy=False`. This should only be set if you understand what it means, and thoroughly read the reason why this was added as explained in https://github.com/huggingface/transformers/pull/24565\n"
     ]
    },
    {
     "data": {
      "application/vnd.jupyter.widget-view+json": {
       "model_id": "014bccccf4f94f35b372521812d6a27f",
       "version_major": 2,
       "version_minor": 0
      },
      "text/plain": [
       "Map:   0%|          | 0/1600 [00:00<?, ? examples/s]"
      ]
     },
     "metadata": {},
     "output_type": "display_data"
    },
    {
     "data": {
      "application/vnd.jupyter.widget-view+json": {
       "model_id": "a6c34015976147eeac4944f75f597756",
       "version_major": 2,
       "version_minor": 0
      },
      "text/plain": [
       "Map:   0%|          | 0/401 [00:00<?, ? examples/s]"
      ]
     },
     "metadata": {},
     "output_type": "display_data"
    },
    {
     "data": {
      "application/vnd.jupyter.widget-view+json": {
       "model_id": "54e4b904a67c4f5284bdc560010ca98d",
       "version_major": 2,
       "version_minor": 0
      },
      "text/plain": [
       "Map:   0%|          | 0/355 [00:00<?, ? examples/s]"
      ]
     },
     "metadata": {},
     "output_type": "display_data"
    }
   ],
   "source": [
    "# STEP 2: Tokenize data for flan-t5-small\n",
    "from transformers import T5Tokenizer\n",
    "\n",
    "model_name = \"google/flan-t5-small\"      # Load the tokenizer\n",
    "tokenizer = T5Tokenizer.from_pretrained(model_name)     # Load the pretrained FLAN-T5-Small model\n",
    "\n",
    "def preprocess(example):\n",
    "    inputs = tokenizer(example[\"input\"], padding=\"max_length\", truncation=True, max_length=512)\n",
    "    targets = tokenizer(example[\"output\"], padding=\"max_length\", truncation=True, max_length=128)\n",
    "    inputs[\"labels\"] = [t if t != tokenizer.pad_token_id else -100 for t in targets[\"input_ids\"]]\n",
    "    return inputs\n",
    "\n",
    "# The line below is where the error occurred. Removed 'remove_columns'\n",
    "tokenized_dataset = dataset.map(preprocess, batched=True)"
   ]
  },
  {
   "cell_type": "code",
   "execution_count": null,
   "metadata": {
    "colab": {
     "base_uri": "https://localhost:8080/",
     "height": 113,
     "referenced_widgets": [
      "868c044bba0b48079b8b03f2b3122385",
      "ada9496d069048f1828d1a6b0261c040",
      "e935eedb8f984ccfa85d41139a22a677",
      "c0cf8a094b48473fa42f570c6c6419ca",
      "8d2e22d425ff415784d8ac100022d212",
      "5ccc677db97846ec98477b48ef16f7e3",
      "3c0cb848bde34d30a1d97b5839ca7ef7",
      "7f2e48c133684035bd87c2fde5d928eb",
      "731d6a2a163c48e3a62e14160633a9d9",
      "b4c3a0ed1c6540b780c3c09b6715e187",
      "38f3b5062c96439493349bb8606b71bc",
      "0402be7aea0f4c499b3ac1f8a7a25b51",
      "5bd15df6329a4ca8895d5f76653f5518",
      "6648500b87a54b9590b339c44eecb2e2",
      "2bcfda800ef34e24a1ee0c14f9ee619b",
      "29486b5e1bcb4835a13b8cc7267f71b9",
      "1fb099076f9748d1a5d5f53cd2de9154",
      "b695f5d4e62a4b4f93b2d3340f64ce7f",
      "7acd01fce89c43f7bd63d52ad2aa80f6",
      "a3bb71e2ebe64d93ab5fe9114085739f",
      "322f67f34d374a9cb77ddc71d4f37a28",
      "7ef4d480caf8431dab8440d52b251b8d",
      "42cc32f5c86347eeaa4ee235932899fd",
      "76e499510ff342db95d6cf092bbeca87",
      "1a7dfb0d7d9f4b01be43ee134ec8a83a",
      "86d19bd4914d49119f676dd637405f2a",
      "68a209b9b940444d99bfbb844a79278b",
      "da0af6c066044fae95a9565a10cd28f3",
      "f88a4bd31c6a43a99312ff5549509a77",
      "3abcafd79d044cdf80a0a883b02e37ea",
      "81d78c5739c043129df0e654e503afe3",
      "2031109537a04aab8b04e13bad9f062e",
      "5e12944e943046a58a65586515b906d2"
     ]
    },
    "id": "Rr13FQAlxBoj",
    "outputId": "5a7e687a-1fca-4f75-966c-d8230c0af890"
   },
   "outputs": [
    {
     "data": {
      "application/vnd.jupyter.widget-view+json": {
       "model_id": "868c044bba0b48079b8b03f2b3122385",
       "version_major": 2,
       "version_minor": 0
      },
      "text/plain": [
       "config.json: 0.00B [00:00, ?B/s]"
      ]
     },
     "metadata": {},
     "output_type": "display_data"
    },
    {
     "data": {
      "application/vnd.jupyter.widget-view+json": {
       "model_id": "0402be7aea0f4c499b3ac1f8a7a25b51",
       "version_major": 2,
       "version_minor": 0
      },
      "text/plain": [
       "model.safetensors:   0%|          | 0.00/308M [00:00<?, ?B/s]"
      ]
     },
     "metadata": {},
     "output_type": "display_data"
    },
    {
     "data": {
      "application/vnd.jupyter.widget-view+json": {
       "model_id": "42cc32f5c86347eeaa4ee235932899fd",
       "version_major": 2,
       "version_minor": 0
      },
      "text/plain": [
       "generation_config.json:   0%|          | 0.00/147 [00:00<?, ?B/s]"
      ]
     },
     "metadata": {},
     "output_type": "display_data"
    }
   ],
   "source": [
    "# STEP 3: Setup PEFT LoRA config\n",
    "from transformers import T5ForConditionalGeneration\n",
    "from peft import get_peft_model, LoraConfig, TaskType\n",
    "\n",
    "model = T5ForConditionalGeneration.from_pretrained(model_name)\n",
    "\n",
    "lora_config = LoraConfig(\n",
    "    r=16,\n",
    "    lora_alpha=32,\n",
    "    lora_dropout=0.1,\n",
    "    target_modules=[\"q\", \"v\", \"k\", \"o\", \"wi\", \"wo\"],\n",
    "    bias=\"none\",\n",
    "    task_type=TaskType.SEQ_2_SEQ_LM\n",
    ")\n",
    "\n",
    "model = get_peft_model(model, lora_config)"
   ]
  },
  {
   "cell_type": "code",
   "execution_count": null,
   "metadata": {
    "colab": {
     "base_uri": "https://localhost:8080/",
     "height": 1000
    },
    "id": "0w4wX1N2xBlT",
    "outputId": "105b8f8d-2fba-41bb-ed05-eb30ce42a3e1"
   },
   "outputs": [
    {
     "metadata": {
      "tags": null
     },
     "name": "stderr",
     "output_type": "stream",
     "text": [
      "/tmp/ipython-input-4245134283.py:18: FutureWarning: `tokenizer` is deprecated and will be removed in version 5.0.0 for `Trainer.__init__`. Use `processing_class` instead.\n",
      "  trainer = Trainer(\n"
     ]
    },
    {
     "data": {
      "text/html": [
       "\n",
       "    <div>\n",
       "      \n",
       "      <progress value='3691' max='12000' style='width:300px; height:20px; vertical-align: middle;'></progress>\n",
       "      [ 3691/12000 14:11 < 31:57, 4.33 it/s, Epoch 9.22/30]\n",
       "    </div>\n",
       "    <table border=\"1\" class=\"dataframe\">\n",
       "  <thead>\n",
       " <tr style=\"text-align: left;\">\n",
       "      <th>Epoch</th>\n",
       "      <th>Training Loss</th>\n",
       "      <th>Validation Loss</th>\n",
       "    </tr>\n",
       "  </thead>\n",
       "  <tbody>\n",
       "    <tr>\n",
       "      <td>1</td>\n",
       "      <td>2.768800</td>\n",
       "      <td>2.332036</td>\n",
       "    </tr>\n",
       "    <tr>\n",
       "      <td>2</td>\n",
       "      <td>2.316200</td>\n",
       "      <td>2.128158</td>\n",
       "    </tr>\n",
       "    <tr>\n",
       "      <td>3</td>\n",
       "      <td>2.203600</td>\n",
       "      <td>2.051652</td>\n",
       "    </tr>\n",
       "    <tr>\n",
       "      <td>4</td>\n",
       "      <td>2.253700</td>\n",
       "      <td>2.012990</td>\n",
       "    </tr>\n",
       "    <tr>\n",
       "      <td>5</td>\n",
       "      <td>2.138100</td>\n",
       "      <td>1.983109</td>\n",
       "    </tr>\n",
       "    <tr>\n",
       "      <td>6</td>\n",
       "      <td>2.060300</td>\n",
       "      <td>1.966293</td>\n",
       "    </tr>\n",
       "    <tr>\n",
       "      <td>7</td>\n",
       "      <td>2.193300</td>\n",
       "      <td>1.944934</td>\n",
       "    </tr>\n",
       "    <tr>\n",
       "      <td>8</td>\n",
       "      <td>2.038000</td>\n",
       "      <td>1.933965</td>\n",
       "    </tr>\n",
       "    <tr>\n",
       "      <td>9</td>\n",
       "      <td>2.118500</td>\n",
       "      <td>1.922216</td>\n",
       "    </tr>\n",
       "  </tbody>\n",
       "</table><p>"
      ],
      "text/plain": [
       "<IPython.core.display.HTML object>"
      ]
     },
     "metadata": {},
     "output_type": "display_data"
    },
    {
     "data": {
      "text/html": [
       "\n",
       "    <div>\n",
       "      \n",
       "      <progress value='12000' max='12000' style='width:300px; height:20px; vertical-align: middle;'></progress>\n",
       "      [12000/12000 45:05, Epoch 30/30]\n",
       "    </div>\n",
       "    <table border=\"1\" class=\"dataframe\">\n",
       "  <thead>\n",
       " <tr style=\"text-align: left;\">\n",
       "      <th>Epoch</th>\n",
       "      <th>Training Loss</th>\n",
       "      <th>Validation Loss</th>\n",
       "    </tr>\n",
       "  </thead>\n",
       "  <tbody>\n",
       "    <tr>\n",
       "      <td>1</td>\n",
       "      <td>2.768800</td>\n",
       "      <td>2.332036</td>\n",
       "    </tr>\n",
       "    <tr>\n",
       "      <td>2</td>\n",
       "      <td>2.316200</td>\n",
       "      <td>2.128158</td>\n",
       "    </tr>\n",
       "    <tr>\n",
       "      <td>3</td>\n",
       "      <td>2.203600</td>\n",
       "      <td>2.051652</td>\n",
       "    </tr>\n",
       "    <tr>\n",
       "      <td>4</td>\n",
       "      <td>2.253700</td>\n",
       "      <td>2.012990</td>\n",
       "    </tr>\n",
       "    <tr>\n",
       "      <td>5</td>\n",
       "      <td>2.138100</td>\n",
       "      <td>1.983109</td>\n",
       "    </tr>\n",
       "    <tr>\n",
       "      <td>6</td>\n",
       "      <td>2.060300</td>\n",
       "      <td>1.966293</td>\n",
       "    </tr>\n",
       "    <tr>\n",
       "      <td>7</td>\n",
       "      <td>2.193300</td>\n",
       "      <td>1.944934</td>\n",
       "    </tr>\n",
       "    <tr>\n",
       "      <td>8</td>\n",
       "      <td>2.038000</td>\n",
       "      <td>1.933965</td>\n",
       "    </tr>\n",
       "    <tr>\n",
       "      <td>9</td>\n",
       "      <td>2.118500</td>\n",
       "      <td>1.922216</td>\n",
       "    </tr>\n",
       "    <tr>\n",
       "      <td>10</td>\n",
       "      <td>1.993100</td>\n",
       "      <td>1.913510</td>\n",
       "    </tr>\n",
       "    <tr>\n",
       "      <td>11</td>\n",
       "      <td>2.036800</td>\n",
       "      <td>1.904243</td>\n",
       "    </tr>\n",
       "    <tr>\n",
       "      <td>12</td>\n",
       "      <td>1.976300</td>\n",
       "      <td>1.897917</td>\n",
       "    </tr>\n",
       "    <tr>\n",
       "      <td>13</td>\n",
       "      <td>1.993200</td>\n",
       "      <td>1.890316</td>\n",
       "    </tr>\n",
       "    <tr>\n",
       "      <td>14</td>\n",
       "      <td>1.956600</td>\n",
       "      <td>1.886093</td>\n",
       "    </tr>\n",
       "    <tr>\n",
       "      <td>15</td>\n",
       "      <td>1.921800</td>\n",
       "      <td>1.886447</td>\n",
       "    </tr>\n",
       "    <tr>\n",
       "      <td>16</td>\n",
       "      <td>2.055900</td>\n",
       "      <td>1.878033</td>\n",
       "    </tr>\n",
       "    <tr>\n",
       "      <td>17</td>\n",
       "      <td>1.914900</td>\n",
       "      <td>1.873570</td>\n",
       "    </tr>\n",
       "    <tr>\n",
       "      <td>18</td>\n",
       "      <td>2.026000</td>\n",
       "      <td>1.871925</td>\n",
       "    </tr>\n",
       "    <tr>\n",
       "      <td>19</td>\n",
       "      <td>1.946200</td>\n",
       "      <td>1.866291</td>\n",
       "    </tr>\n",
       "    <tr>\n",
       "      <td>20</td>\n",
       "      <td>2.033600</td>\n",
       "      <td>1.862422</td>\n",
       "    </tr>\n",
       "    <tr>\n",
       "      <td>21</td>\n",
       "      <td>1.916800</td>\n",
       "      <td>1.861302</td>\n",
       "    </tr>\n",
       "    <tr>\n",
       "      <td>22</td>\n",
       "      <td>1.971900</td>\n",
       "      <td>1.859070</td>\n",
       "    </tr>\n",
       "    <tr>\n",
       "      <td>23</td>\n",
       "      <td>1.948200</td>\n",
       "      <td>1.857559</td>\n",
       "    </tr>\n",
       "    <tr>\n",
       "      <td>24</td>\n",
       "      <td>1.900900</td>\n",
       "      <td>1.854688</td>\n",
       "    </tr>\n",
       "    <tr>\n",
       "      <td>25</td>\n",
       "      <td>2.001300</td>\n",
       "      <td>1.853789</td>\n",
       "    </tr>\n",
       "    <tr>\n",
       "      <td>26</td>\n",
       "      <td>1.985000</td>\n",
       "      <td>1.852295</td>\n",
       "    </tr>\n",
       "    <tr>\n",
       "      <td>27</td>\n",
       "      <td>1.845700</td>\n",
       "      <td>1.850863</td>\n",
       "    </tr>\n",
       "    <tr>\n",
       "      <td>28</td>\n",
       "      <td>2.094300</td>\n",
       "      <td>1.850494</td>\n",
       "    </tr>\n",
       "    <tr>\n",
       "      <td>29</td>\n",
       "      <td>1.924300</td>\n",
       "      <td>1.850819</td>\n",
       "    </tr>\n",
       "    <tr>\n",
       "      <td>30</td>\n",
       "      <td>1.895300</td>\n",
       "      <td>1.850984</td>\n",
       "    </tr>\n",
       "  </tbody>\n",
       "</table><p>"
      ],
      "text/plain": [
       "<IPython.core.display.HTML object>"
      ]
     },
     "metadata": {},
     "output_type": "display_data"
    }
   ],
   "source": [
    "# STEP 4: Setup Trainer\n",
    "from transformers import TrainingArguments, Trainer\n",
    "\n",
    "training_args = TrainingArguments(\n",
    "    output_dir=\"./flan-t5-base-telehealth-lora\",\n",
    "    eval_strategy=\"epoch\",\n",
    "    save_strategy=\"epoch\",\n",
    "    learning_rate=2e-4,\n",
    "    per_device_train_batch_size=4,\n",
    "    per_device_eval_batch_size=4,\n",
    "    num_train_epochs=30,\n",
    "    weight_decay=0.01,\n",
    "    logging_steps=20,\n",
    "    report_to=\"none\",\n",
    "    save_total_limit=2\n",
    ")\n",
    "\n",
    "trainer = Trainer(\n",
    "    model=model,\n",
    "    args=training_args,\n",
    "    train_dataset=tokenized_dataset[\"train\"],\n",
    "    eval_dataset=tokenized_dataset[\"benchmark\"],  # Evaluation on benchmark dataset\n",
    "    tokenizer=tokenizer\n",
    ")\n",
    "\n",
    "trainer.train()\n",
    "model.save_pretrained(\"./flan-t5-base-telehealth-lora\")"
   ]
  },
  {
   "cell_type": "code",
   "execution_count": null,
   "metadata": {
    "colab": {
     "base_uri": "https://localhost:8080/",
     "height": 429,
     "referenced_widgets": [
      "21588db60cbc42ffa62f35c80556dea9",
      "4466dd57178a46c29e7c4722f90f1f5d",
      "e67e96f9b15a47f6b03ce238d6c5a4ad",
      "a767db4f8a1c40a099e4be1ebf62f772",
      "2895ef05355f4aea8304afc8890d85ae",
      "e44e6ceb230c41018cc0e7b971ca2efa",
      "bc8d014f36a94885b6eea3d0ace1437c",
      "33ec241e854641728763cb21cc57d421",
      "b609efd052094d1ebb0c2b74a2037377",
      "0efc455c778c4dfd94a4c3220837072e",
      "f71514f01c664908aa0b4d02ea14e7b1",
      "af626168758648a288f12219fd7fc365",
      "697875802f7549b29ecbbf0444980923",
      "0b274f94a94944c7a673348259036c14",
      "72d3ddf29ad0461eb68ba3bb9350345d",
      "795a098886684742af2141ee570d6a05",
      "51bf4036bd6143ff9acd5b97f644d6d4",
      "8171cfc93d594def8514dff64cf131f4",
      "7392e1d3393f4fbc83fc1b9804e16355",
      "5d369655455348ff9992d8a76f816851",
      "1116e4f8f823460a9712c9cd95bc3e34",
      "383cf4c91afa47959ed546840a2b5360",
      "3124e6acb0bc4217be330702be1db452",
      "6fa25fc61836481b8116aefad2d0cce6",
      "5b128a7a8cc247aa947732ae19ad3c2f",
      "b934ae6368c840b9a9f679168bb3ae5c",
      "2974fc9c1e014f79a911c4083d6a4534",
      "ee447c38428f4db1aba166cb0404ea69",
      "a7bbe1ef2dc44fe0a543eb332f67d2d8",
      "745ba1d9fa614783820019016fd7f255",
      "78c442eb44ac477987ffd05b67a6fd1d",
      "4960f591efa8444ebd32713321f6d3fd",
      "ab5c10b5257b4e4496f797333153b423",
      "a9bd3fe630274db8ae1106a90c3561a1",
      "088b88ec39504ac98a4553615e8208c2",
      "db94808f5100451c911623b6bfaeef97",
      "8260aa080b934f6f959b906c11ce7a98",
      "89e2aa753c054458bdfcd243b417cfb5",
      "7eb690a5975441f0b8c2f145e43d0dbc",
      "b4b4b7c129e24cc2a45d3ca71f90b60b",
      "b2c3a9abeff049e28dfc5bca51dcbe78",
      "06330de088874d868f2671bd95b0427a",
      "3b9b2486bd8b4d4e93cacf3b536682f5",
      "479774947d0b478a9d7329abd1d317e8",
      "252a0016b497431198125912ae846f05",
      "4347318c718c4c30aa5e758646ec3617",
      "9221805d3c1244e3a07844e2d503cad5",
      "4e0a2287fe9e411eb735d1e4ab72e9db",
      "1824cecb23c043d28ae6fcd760f21004",
      "863e68380a2e4d4b85643a1df06bc57c",
      "c01b941db5b248bab4013d072913488b",
      "e2e7bd9111444614bbe4a20854c514d4",
      "adac24dbff0f48c1a1eea225b1a61d34",
      "d94e48cfe34e4494893e2c174107914d",
      "1729765cc92542d88bdb8dc6d25708a6",
      "e8d4d049b44f4944bbdfaabfad49c1fa",
      "8180125f5e2f49f3aef2aa573f629675",
      "a9a8dc27e40b41d6bb7f1c480bff6237",
      "181b540591c943069eb0547f0e1e56e3",
      "7bdc0a3085e64264a3f602ad53a93dbb",
      "e37e3e1fc5524b8db7177041b646db9f",
      "72b5a82a3b564b60ae76eb512155bff0",
      "5bfe794186004d70be0c8ee2e56f523b",
      "5ee60a1db51b4f87b1d54ce48cff4884",
      "9bf788d9c5ba4405b2d49f0c7f846e96",
      "0f98f1122be746fc84f778226bc1151e",
      "0264406aac7e49a3b730927eea47cc5c",
      "0beb03af9e24474e8e7b744534dcf5ae",
      "81ffca2e62574379926bdd6691a980c4",
      "97edae40ecdb4452ae8cf03078e39343",
      "5ee52a6c4eab46e7bbc488410089214f",
      "a5a12759a4374e1fa3e83303c4028b12",
      "442f7ee362a745219c4ba3ea24c3f1d4",
      "df6c4e8b915d42d29b68d1ea2673f46e",
      "1e730ba39b8b48cf8b21dc7b948cfa0f",
      "9d8eb223c9c14fd09beb26572d764c47",
      "0bae756a55824534af3662e0f689311c",
      "7ebac597b81b417e88399d96ad4290e7",
      "ac48d6bdeac74383ae651b2caca2224f",
      "6f8609de5ed746de8d9dbd0270101e41",
      "657d2bf8e1254d1694ff415be725fc60",
      "28c2674ccb7e4688b8c5b32d0268a292",
      "b2e20f7b93d74db8bf7dd4bbd4ceaadf",
      "5d8044432e46433f9637ff29e95e352f",
      "1c6d29592f554b6abb3c1f7865550a5e",
      "3e477263f542458f9efdeb1bafcc40d4",
      "b07856ef569d4c7c8f1bd44f0da2c89c",
      "b9c05d42f9df493aa0c910a55a280c2a"
     ]
    },
    "id": "Lfw6M_n-xRP8",
    "outputId": "8fc4d0b9-6675-40d5-d2d4-55f8beddf2c9"
   },
   "outputs": [
    {
     "data": {
      "application/vnd.jupyter.widget-view+json": {
       "model_id": "21588db60cbc42ffa62f35c80556dea9",
       "version_major": 2,
       "version_minor": 0
      },
      "text/plain": [
       "Downloading builder script: 0.00B [00:00, ?B/s]"
      ]
     },
     "metadata": {},
     "output_type": "display_data"
    },
    {
     "data": {
      "application/vnd.jupyter.widget-view+json": {
       "model_id": "af626168758648a288f12219fd7fc365",
       "version_major": 2,
       "version_minor": 0
      },
      "text/plain": [
       "Downloading builder script: 0.00B [00:00, ?B/s]"
      ]
     },
     "metadata": {},
     "output_type": "display_data"
    },
    {
     "name": "stdout",
     "output_type": "stream",
     "text": [
      "Evaluating Pretrained Model on Benchmark Dataset...\n"
     ]
    },
    {
     "data": {
      "application/vnd.jupyter.widget-view+json": {
       "model_id": "3124e6acb0bc4217be330702be1db452",
       "version_major": 2,
       "version_minor": 0
      },
      "text/plain": [
       "tokenizer_config.json:   0%|          | 0.00/25.0 [00:00<?, ?B/s]"
      ]
     },
     "metadata": {},
     "output_type": "display_data"
    },
    {
     "data": {
      "application/vnd.jupyter.widget-view+json": {
       "model_id": "a9bd3fe630274db8ae1106a90c3561a1",
       "version_major": 2,
       "version_minor": 0
      },
      "text/plain": [
       "config.json:   0%|          | 0.00/482 [00:00<?, ?B/s]"
      ]
     },
     "metadata": {},
     "output_type": "display_data"
    },
    {
     "data": {
      "application/vnd.jupyter.widget-view+json": {
       "model_id": "252a0016b497431198125912ae846f05",
       "version_major": 2,
       "version_minor": 0
      },
      "text/plain": [
       "vocab.json:   0%|          | 0.00/899k [00:00<?, ?B/s]"
      ]
     },
     "metadata": {},
     "output_type": "display_data"
    },
    {
     "data": {
      "application/vnd.jupyter.widget-view+json": {
       "model_id": "e8d4d049b44f4944bbdfaabfad49c1fa",
       "version_major": 2,
       "version_minor": 0
      },
      "text/plain": [
       "merges.txt:   0%|          | 0.00/456k [00:00<?, ?B/s]"
      ]
     },
     "metadata": {},
     "output_type": "display_data"
    },
    {
     "data": {
      "application/vnd.jupyter.widget-view+json": {
       "model_id": "0264406aac7e49a3b730927eea47cc5c",
       "version_major": 2,
       "version_minor": 0
      },
      "text/plain": [
       "tokenizer.json:   0%|          | 0.00/1.36M [00:00<?, ?B/s]"
      ]
     },
     "metadata": {},
     "output_type": "display_data"
    },
    {
     "data": {
      "application/vnd.jupyter.widget-view+json": {
       "model_id": "7ebac597b81b417e88399d96ad4290e7",
       "version_major": 2,
       "version_minor": 0
      },
      "text/plain": [
       "model.safetensors:   0%|          | 0.00/1.42G [00:00<?, ?B/s]"
      ]
     },
     "metadata": {},
     "output_type": "display_data"
    },
    {
     "name": "stderr",
     "output_type": "stream",
     "text": [
      "Some weights of RobertaModel were not initialized from the model checkpoint at roberta-large and are newly initialized: ['pooler.dense.bias', 'pooler.dense.weight']\n",
      "You should probably TRAIN this model on a down-stream task to be able to use it for predictions and inference.\n"
     ]
    },
    {
     "name": "stdout",
     "output_type": "stream",
     "text": [
      "Evaluating LoRA Fine-Tuned Model on Benchmark Dataset...\n",
      "         Metric  Pretrained  LoRA Fine-Tuned\n",
      "0       ROUGE-1    0.063780         0.348287\n",
      "1       ROUGE-2    0.003637         0.151422\n",
      "2       ROUGE-L    0.053289         0.302246\n",
      "3  BERTScore-F1    0.845616         0.893121\n"
     ]
    }
   ],
   "source": [
    "# STEP 5: Evaluate (ROUGE + BERTScore)\n",
    "\n",
    "import torch\n",
    "from evaluate import load\n",
    "from datasets import Dataset\n",
    "\n",
    "device = torch.device(\"cuda\" if torch.cuda.is_available() else \"cpu\")\n",
    "rouge = load(\"rouge\")\n",
    "bertscore = load(\"bertscore\")\n",
    "\n",
    "def evaluate_model(model, eval_df):\n",
    "    preds, refs = [], []\n",
    "\n",
    "    # Convert the Dataset to a pandas DataFrame\n",
    "    eval_df = eval_df.to_pandas()\n",
    "\n",
    "    for i, row in eval_df.iterrows():\n",
    "        patient_text = row[\"input\"].split(\"Patient:\")[1].split(\"\\n\")[0].strip()\n",
    "        prompt = f\"You are a helpful telehealth doctor. Provide a short, clear response.\\nPatient: {patient_text}\\nDoctor:\"\n",
    "        inputs = tokenizer(prompt, return_tensors=\"pt\", truncation=True, padding=\"max_length\", max_length=512).to(device)\n",
    "        outputs = model.generate(\n",
    "            **inputs,\n",
    "            max_new_tokens=128,     # 64\n",
    "            num_beams=4,\n",
    "            early_stopping=True,\n",
    "            repetition_penalty=1.2,\n",
    "            no_repeat_ngram_size=3\n",
    "        )\n",
    "        preds.append(tokenizer.decode(outputs[0], skip_special_tokens=True))\n",
    "        refs.append(row[\"output\"])\n",
    "\n",
    "    # Evaluate ROUGE\n",
    "    rouge_result = rouge.compute(predictions=preds, references=refs)\n",
    "\n",
    "    # Evaluate BERTScore\n",
    "    bert_result = bertscore.compute(predictions=preds, references=refs, lang=\"en\")\n",
    "\n",
    "    return rouge_result, sum(bert_result[\"f1\"]) / len(bert_result[\"f1\"])\n",
    "\n",
    "# Evaluate pretrained model\n",
    "print(\"Evaluating Pretrained Model on Benchmark Dataset...\")\n",
    "pre_model = T5ForConditionalGeneration.from_pretrained(model_name).to(device)\n",
    "pre_rouge, pre_bert = evaluate_model(pre_model, dataset[\"benchmark\"])\n",
    "\n",
    "# Evaluate LoRA fine-tuned model\n",
    "print(\"Evaluating LoRA Fine-Tuned Model on Benchmark Dataset...\")\n",
    "lora_model = T5ForConditionalGeneration.from_pretrained(\"./flan-t5-base-telehealth-lora\").to(device)\n",
    "lora_rouge, lora_bert = evaluate_model(lora_model, dataset[\"benchmark\"])\n",
    "\n",
    "# Performance comparison (Before vs After Fine-Tuning)\n",
    "import pandas as pd\n",
    "\n",
    "comparison_df = pd.DataFrame({\n",
    "    \"Metric\": [\"ROUGE-1\", \"ROUGE-2\", \"ROUGE-L\", \"BERTScore-F1\"],\n",
    "    \"Pretrained\": [\n",
    "        pre_rouge[\"rouge1\"],\n",
    "        pre_rouge[\"rouge2\"],\n",
    "        pre_rouge[\"rougeL\"],\n",
    "        pre_bert,\n",
    "    ],\n",
    "    \"LoRA Fine-Tuned\": [\n",
    "        lora_rouge[\"rouge1\"],\n",
    "        lora_rouge[\"rouge2\"],\n",
    "        lora_rouge[\"rougeL\"],\n",
    "        lora_bert,\n",
    "    ]\n",
    "})\n",
    "\n",
    "print(comparison_df)\n",
    "comparison_df.to_csv(\"benchmark_model_comparison.csv\", index=False)"
   ]
  },
  {
   "cell_type": "code",
   "execution_count": null,
   "metadata": {
    "colab": {
     "base_uri": "https://localhost:8080/",
     "height": 1000
    },
    "id": "UcbjPR03dJF9",
    "outputId": "467c5ef8-5096-4d1b-d6dc-48b65d47e6d2"
   },
   "outputs": [
    {
     "data": {
      "image/png": "[encoded data removed]",
      "text/plain": [
       "<Figure size 800x500 with 1 Axes>"
      ]
     },
     "metadata": {},
     "output_type": "display_data"
    },
    {
     "data": {
      "image/png": "[encoded data removed]",
      "text/plain": [
       "<Figure size 800x600 with 1 Axes>"
      ]
     },
     "metadata": {},
     "output_type": "display_data"
    }
   ],
   "source": [
    "# Visualization\n",
    "import matplotlib.pyplot as plt\n",
    "\n",
    "def plot_training_logs(trainer):\n",
    "    logs = pd.DataFrame(trainer.state.log_history)\n",
    "    if \"loss\" in logs.columns:\n",
    "        plt.figure(figsize=(8,5))\n",
    "        plt.plot(logs[\"epoch\"], logs[\"loss\"], label=\"Train Loss\")\n",
    "        if \"eval_loss\" in logs.columns:\n",
    "            plt.plot(logs[\"epoch\"], logs[\"eval_loss\"], label=\"Eval Loss\")\n",
    "        plt.xlabel(\"Epoch\")\n",
    "        plt.ylabel(\"Loss\")\n",
    "        plt.title(\"Training & Evaluation Loss\")\n",
    "        plt.legend()\n",
    "        plt.savefig(\"training_loss_curve.png\")\n",
    "        plt.show()\n",
    "\n",
    "# Call after training\n",
    "plot_training_logs(trainer)\n",
    "\n",
    "# Metric Comparison Plot\n",
    "def plot_metrics(comparison_df):\n",
    "    comparison_df.set_index(\"Metric\").plot(kind=\"bar\", figsize=(8,6))\n",
    "    plt.title(\"Pretrained vs Fine-Tuned Model Performance\")\n",
    "    plt.ylabel(\"Score\")\n",
    "    plt.xticks(rotation=0)\n",
    "    plt.legend(loc=\"lower right\")\n",
    "    plt.savefig(\"model_comparison_metrics.png\")\n",
    "    plt.show()\n",
    "\n",
    "# Call after comparison_df is created\n",
    "plot_metrics(comparison_df)"
   ]
  },
  {
   "cell_type": "code",
   "execution_count": null,
   "metadata": {
    "id": "DrR3CZ_DUg1Z"
   },
   "outputs": [],
   "source": [
    "# Prompt engineering\n",
    "# Step 1: Define the prompt engineering template with enhanced responses\n",
    "def build_prompt(input_text, prompt_type=\"general\"):\n",
    "    input_text = input_text.strip()\n",
    "\n",
    "    if prompt_type == \"general\":\n",
    "        return (\n",
    "            f\"You are a helpful telehealth doctor. Provide a clear, actionable response with medical context and next steps.\\n\"\n",
    "            f\"Patient: {input_text}\\nDoctor:\"\n",
    "        )\n",
    "\n",
    "    elif prompt_type == \"diagnosis\":\n",
    "        return (\n",
    "            f\"You are a licensed telehealth physician. Assess the symptoms and explain 1-2 possible causes with suggested next steps.\\n\"\n",
    "            f\"Patient: {input_text}\\nDoctor:\"\n",
    "        )\n",
    "\n",
    "    elif prompt_type == \"psychological\":\n",
    "        return (\n",
    "            f\"You are a compassionate telehealth doctor. Reassure the patient, then provide steps to manage their mental well-being.\\n\"\n",
    "            f\"Patient: {input_text}\\nDoctor:\"\n",
    "        )\n",
    "\n",
    "    elif prompt_type == \"medication\":\n",
    "        return (\n",
    "            f\"You are a helpful telehealth doctor. If medication is needed, suggest general types (not specific brands). Include dosage instructions and when to consult with a healthcare provider.\\n\"\n",
    "            f\"Patient: {input_text}\\nDoctor:\"\n",
    "        )\n",
    "\n",
    "    else:\n",
    "        raise ValueError(\"Unsupported prompt type.\")"
   ]
  },
  {
   "cell_type": "code",
   "execution_count": null,
   "metadata": {
    "id": "we-o0XGIUosY"
   },
   "outputs": [],
   "source": [
    "# Step 2: Generate answers based on the prompt type\n",
    "def generate_answer(input_text, model, tokenizer, prompt_type=\"general\"):\n",
    "    prompt = build_prompt(input_text, prompt_type)\n",
    "    inputs = tokenizer(prompt, return_tensors=\"pt\", truncation=True, padding=\"max_length\", max_length=512).to(model.device)\n",
    "\n",
    "    outputs = model.generate(\n",
    "        **inputs,\n",
    "        max_new_tokens=128,   # 64\n",
    "        num_beams=4,\n",
    "        early_stopping=True,\n",
    "        repetition_penalty=1.2,\n",
    "        no_repeat_ngram_size=3\n",
    "    )\n",
    "\n",
    "    response = tokenizer.decode(outputs[0], skip_special_tokens=True).strip()\n",
    "    if response.lower().startswith(\"doctor:\"):\n",
    "        response = response[7:].strip()\n",
    "    return response"
   ]
  },
  {
   "cell_type": "code",
   "execution_count": null,
   "metadata": {
    "id": "_40slSQtUqAP"
   },
   "outputs": [],
   "source": [
    "# Step 3: Evaluate the model with different prompt types\n",
    "def evaluate_model(model, tokenizer, test_df, prompt_type=\"general\"):\n",
    "    from evaluate import load\n",
    "    rouge = load(\"rouge\")\n",
    "    bertscore = load(\"bertscore\")\n",
    "\n",
    "    preds, refs = [], []\n",
    "    for _, row in test_df.iterrows():\n",
    "        patient_text = row[\"input\"].split(\"Patient:\")[1].split(\"\\n\")[0].strip()\n",
    "        prompt = build_prompt(patient_text, prompt_type)\n",
    "        inputs = tokenizer(prompt, return_tensors=\"pt\", truncation=True, padding=\"max_length\", max_length=512).to(model.device)\n",
    "        outputs = model.generate(\n",
    "            **inputs,\n",
    "            max_new_tokens=64,\n",
    "            num_beams=4,\n",
    "            early_stopping=True,\n",
    "            repetition_penalty=1.2,\n",
    "            no_repeat_ngram_size=3\n",
    "        )\n",
    "        preds.append(tokenizer.decode(outputs[0], skip_special_tokens=True))\n",
    "        refs.append(row[\"output\"])\n",
    "\n",
    "    rouge_result = rouge.compute(predictions=preds, references=refs)\n",
    "    bert_result = bertscore.compute(predictions=preds, references=refs, lang=\"en\")\n",
    "    return rouge_result, sum(bert_result[\"f1\"]) / len(bert_result[\"f1\"])"
   ]
  },
  {
   "cell_type": "code",
   "execution_count": null,
   "metadata": {
    "colab": {
     "base_uri": "https://localhost:8080/"
    },
    "id": "zJsNaIi9dwUb",
    "outputId": "e3572bb8-025c-4114-f442-caeccde99de2"
   },
   "outputs": [
    {
     "name": "stderr",
     "output_type": "stream",
     "text": [
      "Some weights of RobertaModel were not initialized from the model checkpoint at roberta-large and are newly initialized: ['pooler.dense.bias', 'pooler.dense.weight']\n",
      "You should probably TRAIN this model on a down-stream task to be able to use it for predictions and inference.\n"
     ]
    },
    {
     "name": "stdout",
     "output_type": "stream",
     "text": [
      "\n",
      "Prompt Type: general\n",
      "ROUGE-1: 0.3370\n",
      "ROUGE-2: 0.1302\n",
      "ROUGE-L: 0.2927\n",
      "BERTScore-F1: 0.8906\n"
     ]
    },
    {
     "name": "stderr",
     "output_type": "stream",
     "text": [
      "Some weights of RobertaModel were not initialized from the model checkpoint at roberta-large and are newly initialized: ['pooler.dense.bias', 'pooler.dense.weight']\n",
      "You should probably TRAIN this model on a down-stream task to be able to use it for predictions and inference.\n"
     ]
    },
    {
     "name": "stdout",
     "output_type": "stream",
     "text": [
      "\n",
      "Prompt Type: diagnosis\n",
      "ROUGE-1: 0.3296\n",
      "ROUGE-2: 0.1215\n",
      "ROUGE-L: 0.2857\n",
      "BERTScore-F1: 0.8899\n"
     ]
    },
    {
     "name": "stderr",
     "output_type": "stream",
     "text": [
      "Some weights of RobertaModel were not initialized from the model checkpoint at roberta-large and are newly initialized: ['pooler.dense.bias', 'pooler.dense.weight']\n",
      "You should probably TRAIN this model on a down-stream task to be able to use it for predictions and inference.\n"
     ]
    },
    {
     "name": "stdout",
     "output_type": "stream",
     "text": [
      "\n",
      "Prompt Type: psychological\n",
      "ROUGE-1: 0.3232\n",
      "ROUGE-2: 0.1229\n",
      "ROUGE-L: 0.2779\n",
      "BERTScore-F1: 0.8876\n"
     ]
    },
    {
     "name": "stderr",
     "output_type": "stream",
     "text": [
      "Some weights of RobertaModel were not initialized from the model checkpoint at roberta-large and are newly initialized: ['pooler.dense.bias', 'pooler.dense.weight']\n",
      "You should probably TRAIN this model on a down-stream task to be able to use it for predictions and inference.\n"
     ]
    },
    {
     "name": "stdout",
     "output_type": "stream",
     "text": [
      "\n",
      "Prompt Type: medication\n",
      "ROUGE-1: 0.2878\n",
      "ROUGE-2: 0.0963\n",
      "ROUGE-L: 0.2460\n",
      "BERTScore-F1: 0.8844\n"
     ]
    }
   ],
   "source": [
    "# Step 4: Perform evaluation with different prompt types\n",
    "\n",
    "results = []\n",
    "\n",
    "for prompt_type in [\"general\", \"diagnosis\", \"psychological\", \"medication\"]:\n",
    "    rouge_result, bert_f1 = evaluate_model(model, tokenizer, test_df, prompt_type=prompt_type)\n",
    "    results.append({\n",
    "        \"Prompt Type\": prompt_type,\n",
    "        \"ROUGE-1\": rouge_result[\"rouge1\"],\n",
    "        \"ROUGE-2\": rouge_result[\"rouge2\"],\n",
    "        \"ROUGE-L\": rouge_result[\"rougeL\"],\n",
    "        \"BERTScore-F1\": bert_f1\n",
    "    })\n",
    "    print(f\"\\nPrompt Type: {prompt_type}\")\n",
    "    print(f\"ROUGE-1: {rouge_result['rouge1']:.4f}\")\n",
    "    print(f\"ROUGE-2: {rouge_result['rouge2']:.4f}\")\n",
    "    print(f\"ROUGE-L: {rouge_result['rougeL']:.4f}\")\n",
    "    print(f\"BERTScore-F1: {bert_f1:.4f}\")\n",
    "\n",
    "# Convert results to DataFrame\n",
    "df_results = pd.DataFrame(results)"
   ]
  },
  {
   "cell_type": "code",
   "execution_count": null,
   "metadata": {
    "colab": {
     "base_uri": "https://localhost:8080/",
     "height": 1000
    },
    "id": "NHRy4Cf5dPFH",
    "outputId": "2b04c5f2-c89f-457c-9286-70149799d935"
   },
   "outputs": [
    {
     "data": {
      "image/png": "[encoded data removed]",
      "text/plain": [
       "<Figure size 1000x600 with 1 Axes>"
      ]
     },
     "metadata": {},
     "output_type": "display_data"
    },
    {
     "data": {
      "image/png": "[encoded data removed]",
      "text/plain": [
       "<Figure size 1000x600 with 1 Axes>"
      ]
     },
     "metadata": {},
     "output_type": "display_data"
    }
   ],
   "source": [
    "# Visualization 1: Grouped Bar Plot (comparison across metrics)\n",
    "df_results.set_index(\"Prompt Type\")[[\"ROUGE-1\", \"ROUGE-2\", \"ROUGE-L\", \"BERTScore-F1\"]].plot(\n",
    "    kind=\"bar\", figsize=(10,6), width=0.8\n",
    ")\n",
    "plt.title(\"Evaluation Metrics by Prompt Type\")\n",
    "plt.ylabel(\"Score\")\n",
    "plt.xticks(rotation=0)\n",
    "plt.legend(title=\"Metric\")\n",
    "plt.tight_layout()\n",
    "plt.savefig(\"prompt_type_evaluation.png\")\n",
    "plt.show()\n",
    "\n",
    "# Visualization 2: Line Plot (trend across prompt types)\n",
    "df_results.set_index(\"Prompt Type\")[[\"ROUGE-1\", \"ROUGE-2\", \"ROUGE-L\", \"BERTScore-F1\"]].plot(\n",
    "    kind=\"line\", marker=\"o\", figsize=(10,6)\n",
    ")\n",
    "plt.title(\"Metric Trends Across Prompt Types\")\n",
    "plt.ylabel(\"Score\")\n",
    "plt.xticks(rotation=0)\n",
    "plt.grid(True, linestyle=\"--\", alpha=0.6)\n",
    "plt.tight_layout()\n",
    "plt.savefig(\"prompt_type_trends.png\")\n",
    "plt.show()"
   ]
  },
  {
   "cell_type": "code",
   "execution_count": null,
   "metadata": {
    "colab": {
     "base_uri": "https://localhost:8080/"
    },
    "id": "SHdBXjrCUs9g",
    "outputId": "7236a9be-3b8b-4d7c-cff0-4de7c7c57901"
   },
   "outputs": [
    {
     "name": "stdout",
     "output_type": "stream",
     "text": [
      "\n",
      "Telehealth Assistant is ready.\n",
      "Please choose a prompt mode:\n",
      "1 - General\n",
      "2 - Diagnosis\n",
      "3 - Psychological\n",
      "4 - Medication\n",
      "Enter mode number (1-4): 1\n",
      "\n",
      "Prompt mode set to [GENERAL]. Type 'exit' to quit.\n",
      "\n",
      "Patient: Hey Doc, I’ve been sneezing nonstop, do you think it’s just allergies?\n",
      "Doctor: this is a common side effect. Take the medication with food, avoid allergens, and consider antihistamines if needed. Seek care if symptoms persist or worsen. \n",
      "\n",
      "Patient: I’ve had a cough and low-grade fever for three days. Should I be worried?\n",
      "Doctor: this may be a viral infection. Stay hydrated and stay hydrated. Seek care if symptoms persist or worsen. \n",
      "\n",
      "Patient: I just twisted my ankle while jogging. It’s swollen but not bruised, should I get an X-ray?\n",
      "Doctor: in brief: if your ankle is swollen, you should get a X-ray. if you have a severe infection, you will need a doctor to check your ankle. \n",
      "\n",
      "Patient: Is it okay to exercise if I have a cold?\n",
      "Doctor: exercise can be a risk factor. Let’s discuss ways to exercise and how to avoid colds. \n",
      "\n",
      "Patient: I have a sore throat and mild fever. What should I do?\n",
      "Doctor: rest, hydrate, and monitor. Consult a doctor if symptoms worsen. \n",
      "\n",
      "Patient: exit\n",
      "Thank you. Stay healthy!\n"
     ]
    }
   ],
   "source": [
    "# Step 5: Interactive Chat with the model\n",
    "def chat_with_model(model, tokenizer):\n",
    "    print(\"\\nTelehealth Assistant is ready.\")\n",
    "    print(\"Please choose a prompt mode:\")\n",
    "    print(\"1 - General\")\n",
    "    print(\"2 - Diagnosis\")\n",
    "    print(\"3 - Psychological\")\n",
    "    print(\"4 - Medication\")\n",
    "\n",
    "    mode_map = {\n",
    "        \"1\": \"general\",\n",
    "        \"2\": \"diagnosis\",\n",
    "        \"3\": \"psychological\",\n",
    "        \"4\": \"medication\"\n",
    "    }\n",
    "\n",
    "    mode = input(\"Enter mode number (1-4): \").strip()\n",
    "    prompt_type = mode_map.get(mode, \"general\")  # default to general\n",
    "\n",
    "    print(f\"\\nPrompt mode set to [{prompt_type.upper()}]. Type 'exit' to quit.\\n\")\n",
    "\n",
    "    while True:\n",
    "        user_input = input(\"Patient: \").strip()\n",
    "        if user_input.lower() == \"exit\":\n",
    "            print(\"Thank you. Stay healthy!\")\n",
    "            break\n",
    "        doctor_reply = generate_answer(user_input, model, tokenizer, prompt_type=prompt_type)\n",
    "        print(\"Doctor:\", doctor_reply, \"\\n\")\n",
    "\n",
    "# Start the chat system\n",
    "chat_with_model(model, tokenizer)"
   ]
  },
  {
   "cell_type": "code",
   "execution_count": 1,
   "metadata": {},
   "outputs": [
    {
     "name": "stderr",
     "output_type": "stream",
     "text": [
      "[NbConvertApp] Converting notebook Model_FAQ_Telehealth_Flan_T5_Small_OhWenChi.ipynb to pdf\n",
      "[NbConvertApp] ERROR | Notebook JSON is invalid: Additional properties are not allowed ('metadata' was unexpected)\n",
      "\n",
      "Failed validating 'additionalProperties' in stream:\n",
      "\n",
      "On instance['cells'][7]['outputs'][0]:\n",
      "{'metadata': {'tags': None},\n",
      " 'name': 'stderr',\n",
      " 'output_type': 'stream',\n",
      " 'text': '/tmp/ipython-input-4245134283.py:18: FutureWarning: `tokenizer` '\n",
      "         '...'}\n",
      "[NbConvertApp] Support files will be in Model_FAQ_Telehealth_Flan_T5_Small_OhWenChi_files\\\n",
      "[NbConvertApp] Making directory .\\Model_FAQ_Telehealth_Flan_T5_Small_OhWenChi_files\n",
      "[NbConvertApp] Writing 93677 bytes to notebook.tex\n",
      "[NbConvertApp] Building PDF\n",
      "[NbConvertApp] Running xelatex 3 times: ['xelatex', 'notebook.tex', '-quiet']\n",
      "[NbConvertApp] Running bibtex 1 time: ['bibtex', 'notebook']\n",
      "[NbConvertApp] WARNING | b had problems, most likely because there were no citations\n",
      "[NbConvertApp] PDF successfully created\n",
      "[NbConvertApp] Writing 183610 bytes to Model_FAQ_Telehealth_Flan_T5_Small_OhWenChi.pdf\n"
     ]
    }
   ],
   "source": [
    "!jupyter nbconvert --to pdf Model_FAQ_Telehealth_Flan_T5_Small_OhWenChi.ipynb"
   ]
  },
  {
   "cell_type": "code",
   "execution_count": null,
   "metadata": {},
   "outputs": [],
   "source": []
  }
 ],
 "metadata": {
  "accelerator": "GPU",
  "colab": {
   "gpuType": "T4",
   "provenance": []
  },
  "kernelspec": {
   "display_name": "Python [conda env:base] *",
   "language": "python",
   "name": "conda-base-py"
  },
  "language_info": {
   "codemirror_mode": {
    "name": "ipython",
    "version": 3
   },
   "file_extension": ".py",
   "mimetype": "text/x-python",
   "name": "python",
   "nbconvert_exporter": "python",
   "pygments_lexer": "ipython3",
   "version": "3.12.7"
  }
 },
 "nbformat": 4,
 "nbformat_minor": 4
}
