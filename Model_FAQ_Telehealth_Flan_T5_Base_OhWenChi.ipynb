{
 "cells": [
  {
   "cell_type": "code",
   "execution_count": null,
   "metadata": {
    "colab": {
     "base_uri": "https://localhost:8080/"
    },
    "id": "kVIf9UsrxAOb",
    "outputId": "21c8cfc2-7ef8-4678-de94-063ab2c2e2e1"
   },
   "outputs": [
    {
     "name": "stdout",
     "output_type": "stream",
     "text": [
      "Requirement already satisfied: transformers in /usr/local/lib/python3.12/dist-packages (4.55.2)\n",
      "Requirement already satisfied: datasets in /usr/local/lib/python3.12/dist-packages (4.0.0)\n",
      "Collecting evaluate\n",
      "  Downloading evaluate-0.4.5-py3-none-any.whl.metadata (9.5 kB)\n",
      "Requirement already satisfied: peft in /usr/local/lib/python3.12/dist-packages (0.17.0)\n",
      "Requirement already satisfied: accelerate in /usr/local/lib/python3.12/dist-packages (1.10.0)\n",
      "Collecting bitsandbytes\n",
      "  Downloading bitsandbytes-0.47.0-py3-none-manylinux_2_24_x86_64.whl.metadata (11 kB)\n",
      "Requirement already satisfied: filelock in /usr/local/lib/python3.12/dist-packages (from transformers) (3.19.1)\n",
      "Requirement already satisfied: huggingface-hub<1.0,>=0.34.0 in /usr/local/lib/python3.12/dist-packages (from transformers) (0.34.4)\n",
      "Requirement already satisfied: numpy>=1.17 in /usr/local/lib/python3.12/dist-packages (from transformers) (2.0.2)\n",
      "Requirement already satisfied: packaging>=20.0 in /usr/local/lib/python3.12/dist-packages (from transformers) (25.0)\n",
      "Requirement already satisfied: pyyaml>=5.1 in /usr/local/lib/python3.12/dist-packages (from transformers) (6.0.2)\n",
      "Requirement already satisfied: regex!=2019.12.17 in /usr/local/lib/python3.12/dist-packages (from transformers) (2024.11.6)\n",
      "Requirement already satisfied: requests in /usr/local/lib/python3.12/dist-packages (from transformers) (2.32.4)\n",
      "Requirement already satisfied: tokenizers<0.22,>=0.21 in /usr/local/lib/python3.12/dist-packages (from transformers) (0.21.4)\n",
      "Requirement already satisfied: safetensors>=0.4.3 in /usr/local/lib/python3.12/dist-packages (from transformers) (0.6.2)\n",
      "Requirement already satisfied: tqdm>=4.27 in /usr/local/lib/python3.12/dist-packages (from transformers) (4.67.1)\n",
      "Requirement already satisfied: pyarrow>=15.0.0 in /usr/local/lib/python3.12/dist-packages (from datasets) (18.1.0)\n",
      "Requirement already satisfied: dill<0.3.9,>=0.3.0 in /usr/local/lib/python3.12/dist-packages (from datasets) (0.3.8)\n",
      "Requirement already satisfied: pandas in /usr/local/lib/python3.12/dist-packages (from datasets) (2.2.2)\n",
      "Requirement already satisfied: xxhash in /usr/local/lib/python3.12/dist-packages (from datasets) (3.5.0)\n",
      "Requirement already satisfied: multiprocess<0.70.17 in /usr/local/lib/python3.12/dist-packages (from datasets) (0.70.16)\n",
      "Requirement already satisfied: fsspec<=2025.3.0,>=2023.1.0 in /usr/local/lib/python3.12/dist-packages (from fsspec[http]<=2025.3.0,>=2023.1.0->datasets) (2025.3.0)\n",
      "Requirement already satisfied: psutil in /usr/local/lib/python3.12/dist-packages (from peft) (5.9.5)\n",
      "Requirement already satisfied: torch>=1.13.0 in /usr/local/lib/python3.12/dist-packages (from peft) (2.8.0+cu126)\n",
      "Requirement already satisfied: aiohttp!=4.0.0a0,!=4.0.0a1 in /usr/local/lib/python3.12/dist-packages (from fsspec[http]<=2025.3.0,>=2023.1.0->datasets) (3.12.15)\n",
      "Requirement already satisfied: typing-extensions>=3.7.4.3 in /usr/local/lib/python3.12/dist-packages (from huggingface-hub<1.0,>=0.34.0->transformers) (4.14.1)\n",
      "Requirement already satisfied: hf-xet<2.0.0,>=1.1.3 in /usr/local/lib/python3.12/dist-packages (from huggingface-hub<1.0,>=0.34.0->transformers) (1.1.7)\n",
      "Requirement already satisfied: charset_normalizer<4,>=2 in /usr/local/lib/python3.12/dist-packages (from requests->transformers) (3.4.3)\n",
      "Requirement already satisfied: idna<4,>=2.5 in /usr/local/lib/python3.12/dist-packages (from requests->transformers) (3.10)\n",
      "Requirement already satisfied: urllib3<3,>=1.21.1 in /usr/local/lib/python3.12/dist-packages (from requests->transformers) (2.5.0)\n",
      "Requirement already satisfied: certifi>=2017.4.17 in /usr/local/lib/python3.12/dist-packages (from requests->transformers) (2025.8.3)\n",
      "Requirement already satisfied: setuptools in /usr/local/lib/python3.12/dist-packages (from torch>=1.13.0->peft) (75.2.0)\n",
      "Requirement already satisfied: sympy>=1.13.3 in /usr/local/lib/python3.12/dist-packages (from torch>=1.13.0->peft) (1.13.3)\n",
      "Requirement already satisfied: networkx in /usr/local/lib/python3.12/dist-packages (from torch>=1.13.0->peft) (3.5)\n",
      "Requirement already satisfied: jinja2 in /usr/local/lib/python3.12/dist-packages (from torch>=1.13.0->peft) (3.1.6)\n",
      "Requirement already satisfied: nvidia-cuda-nvrtc-cu12==12.6.77 in /usr/local/lib/python3.12/dist-packages (from torch>=1.13.0->peft) (12.6.77)\n",
      "Requirement already satisfied: nvidia-cuda-runtime-cu12==12.6.77 in /usr/local/lib/python3.12/dist-packages (from torch>=1.13.0->peft) (12.6.77)\n",
      "Requirement already satisfied: nvidia-cuda-cupti-cu12==12.6.80 in /usr/local/lib/python3.12/dist-packages (from torch>=1.13.0->peft) (12.6.80)\n",
      "Requirement already satisfied: nvidia-cudnn-cu12==9.10.2.21 in /usr/local/lib/python3.12/dist-packages (from torch>=1.13.0->peft) (9.10.2.21)\n",
      "Requirement already satisfied: nvidia-cublas-cu12==12.6.4.1 in /usr/local/lib/python3.12/dist-packages (from torch>=1.13.0->peft) (12.6.4.1)\n",
      "Requirement already satisfied: nvidia-cufft-cu12==11.3.0.4 in /usr/local/lib/python3.12/dist-packages (from torch>=1.13.0->peft) (11.3.0.4)\n",
      "Requirement already satisfied: nvidia-curand-cu12==10.3.7.77 in /usr/local/lib/python3.12/dist-packages (from torch>=1.13.0->peft) (10.3.7.77)\n",
      "Requirement already satisfied: nvidia-cusolver-cu12==11.7.1.2 in /usr/local/lib/python3.12/dist-packages (from torch>=1.13.0->peft) (11.7.1.2)\n",
      "Requirement already satisfied: nvidia-cusparse-cu12==12.5.4.2 in /usr/local/lib/python3.12/dist-packages (from torch>=1.13.0->peft) (12.5.4.2)\n",
      "Requirement already satisfied: nvidia-cusparselt-cu12==0.7.1 in /usr/local/lib/python3.12/dist-packages (from torch>=1.13.0->peft) (0.7.1)\n",
      "Requirement already satisfied: nvidia-nccl-cu12==2.27.3 in /usr/local/lib/python3.12/dist-packages (from torch>=1.13.0->peft) (2.27.3)\n",
      "Requirement already satisfied: nvidia-nvtx-cu12==12.6.77 in /usr/local/lib/python3.12/dist-packages (from torch>=1.13.0->peft) (12.6.77)\n",
      "Requirement already satisfied: nvidia-nvjitlink-cu12==12.6.85 in /usr/local/lib/python3.12/dist-packages (from torch>=1.13.0->peft) (12.6.85)\n",
      "Requirement already satisfied: nvidia-cufile-cu12==1.11.1.6 in /usr/local/lib/python3.12/dist-packages (from torch>=1.13.0->peft) (1.11.1.6)\n",
      "Requirement already satisfied: triton==3.4.0 in /usr/local/lib/python3.12/dist-packages (from torch>=1.13.0->peft) (3.4.0)\n",
      "Requirement already satisfied: python-dateutil>=2.8.2 in /usr/local/lib/python3.12/dist-packages (from pandas->datasets) (2.9.0.post0)\n",
      "Requirement already satisfied: pytz>=2020.1 in /usr/local/lib/python3.12/dist-packages (from pandas->datasets) (2025.2)\n",
      "Requirement already satisfied: tzdata>=2022.7 in /usr/local/lib/python3.12/dist-packages (from pandas->datasets) (2025.2)\n",
      "Requirement already satisfied: aiohappyeyeballs>=2.5.0 in /usr/local/lib/python3.12/dist-packages (from aiohttp!=4.0.0a0,!=4.0.0a1->fsspec[http]<=2025.3.0,>=2023.1.0->datasets) (2.6.1)\n",
      "Requirement already satisfied: aiosignal>=1.4.0 in /usr/local/lib/python3.12/dist-packages (from aiohttp!=4.0.0a0,!=4.0.0a1->fsspec[http]<=2025.3.0,>=2023.1.0->datasets) (1.4.0)\n",
      "Requirement already satisfied: attrs>=17.3.0 in /usr/local/lib/python3.12/dist-packages (from aiohttp!=4.0.0a0,!=4.0.0a1->fsspec[http]<=2025.3.0,>=2023.1.0->datasets) (25.3.0)\n",
      "Requirement already satisfied: frozenlist>=1.1.1 in /usr/local/lib/python3.12/dist-packages (from aiohttp!=4.0.0a0,!=4.0.0a1->fsspec[http]<=2025.3.0,>=2023.1.0->datasets) (1.7.0)\n",
      "Requirement already satisfied: multidict<7.0,>=4.5 in /usr/local/lib/python3.12/dist-packages (from aiohttp!=4.0.0a0,!=4.0.0a1->fsspec[http]<=2025.3.0,>=2023.1.0->datasets) (6.6.4)\n",
      "Requirement already satisfied: propcache>=0.2.0 in /usr/local/lib/python3.12/dist-packages (from aiohttp!=4.0.0a0,!=4.0.0a1->fsspec[http]<=2025.3.0,>=2023.1.0->datasets) (0.3.2)\n",
      "Requirement already satisfied: yarl<2.0,>=1.17.0 in /usr/local/lib/python3.12/dist-packages (from aiohttp!=4.0.0a0,!=4.0.0a1->fsspec[http]<=2025.3.0,>=2023.1.0->datasets) (1.20.1)\n",
      "Requirement already satisfied: six>=1.5 in /usr/local/lib/python3.12/dist-packages (from python-dateutil>=2.8.2->pandas->datasets) (1.17.0)\n",
      "Requirement already satisfied: mpmath<1.4,>=1.1.0 in /usr/local/lib/python3.12/dist-packages (from sympy>=1.13.3->torch>=1.13.0->peft) (1.3.0)\n",
      "Requirement already satisfied: MarkupSafe>=2.0 in /usr/local/lib/python3.12/dist-packages (from jinja2->torch>=1.13.0->peft) (3.0.2)\n",
      "Downloading evaluate-0.4.5-py3-none-any.whl (84 kB)\n",
      "\u001b[2K   \u001b[90m━━━━━━━━━━━━━━━━━━━━━━━━━━━━━━━━━━━━━━━━\u001b[0m \u001b[32m84.1/84.1 kB\u001b[0m \u001b[31m4.5 MB/s\u001b[0m eta \u001b[36m0:00:00\u001b[0m\n",
      "\u001b[?25hDownloading bitsandbytes-0.47.0-py3-none-manylinux_2_24_x86_64.whl (61.3 MB)\n",
      "\u001b[2K   \u001b[90m━━━━━━━━━━━━━━━━━━━━━━━━━━━━━━━━━━━━━━━━\u001b[0m \u001b[32m61.3/61.3 MB\u001b[0m \u001b[31m15.8 MB/s\u001b[0m eta \u001b[36m0:00:00\u001b[0m\n",
      "\u001b[?25hInstalling collected packages: bitsandbytes, evaluate\n",
      "Successfully installed bitsandbytes-0.47.0 evaluate-0.4.5\n"
     ]
    }
   ],
   "source": [
    "!pip install transformers datasets evaluate peft accelerate bitsandbytes torch"
   ]
  },
  {
   "cell_type": "code",
   "execution_count": null,
   "metadata": {
    "colab": {
     "base_uri": "https://localhost:8080/"
    },
    "id": "hT16ANExxB3k",
    "outputId": "d9fc715f-98b7-46c3-c712-d8e948a8db05"
   },
   "outputs": [
    {
     "name": "stdout",
     "output_type": "stream",
     "text": [
      "Collecting rouge_score\n",
      "  Downloading rouge_score-0.1.2.tar.gz (17 kB)\n",
      "  Preparing metadata (setup.py) ... \u001b[?25l\u001b[?25hdone\n",
      "Requirement already satisfied: absl-py in /usr/local/lib/python3.12/dist-packages (from rouge_score) (1.4.0)\n",
      "Requirement already satisfied: nltk in /usr/local/lib/python3.12/dist-packages (from rouge_score) (3.9.1)\n",
      "Requirement already satisfied: numpy in /usr/local/lib/python3.12/dist-packages (from rouge_score) (2.0.2)\n",
      "Requirement already satisfied: six>=1.14.0 in /usr/local/lib/python3.12/dist-packages (from rouge_score) (1.17.0)\n",
      "Requirement already satisfied: click in /usr/local/lib/python3.12/dist-packages (from nltk->rouge_score) (8.2.1)\n",
      "Requirement already satisfied: joblib in /usr/local/lib/python3.12/dist-packages (from nltk->rouge_score) (1.5.1)\n",
      "Requirement already satisfied: regex>=2021.8.3 in /usr/local/lib/python3.12/dist-packages (from nltk->rouge_score) (2024.11.6)\n",
      "Requirement already satisfied: tqdm in /usr/local/lib/python3.12/dist-packages (from nltk->rouge_score) (4.67.1)\n",
      "Building wheels for collected packages: rouge_score\n",
      "  Building wheel for rouge_score (setup.py) ... \u001b[?25l\u001b[?25hdone\n",
      "  Created wheel for rouge_score: filename=rouge_score-0.1.2-py3-none-any.whl size=24934 sha256=7983d0fd5cf409999f2c47ea1c355bdc50ce619154c5aeb683564e6c996f6579\n",
      "  Stored in directory: /root/.cache/pip/wheels/85/9d/af/01feefbe7d55ef5468796f0c68225b6788e85d9d0a281e7a70\n",
      "Successfully built rouge_score\n",
      "Installing collected packages: rouge_score\n",
      "Successfully installed rouge_score-0.1.2\n"
     ]
    }
   ],
   "source": [
    "!pip install rouge_score"
   ]
  },
  {
   "cell_type": "code",
   "execution_count": null,
   "metadata": {
    "colab": {
     "base_uri": "https://localhost:8080/"
    },
    "id": "mJY8g7-bxB01",
    "outputId": "a0a1728e-2c33-4a78-d659-8935339b6020"
   },
   "outputs": [
    {
     "name": "stdout",
     "output_type": "stream",
     "text": [
      "Collecting bert_score\n",
      "  Downloading bert_score-0.3.13-py3-none-any.whl.metadata (15 kB)\n",
      "Requirement already satisfied: torch>=1.0.0 in /usr/local/lib/python3.12/dist-packages (from bert_score) (2.8.0+cu126)\n",
      "Requirement already satisfied: pandas>=1.0.1 in /usr/local/lib/python3.12/dist-packages (from bert_score) (2.2.2)\n",
      "Requirement already satisfied: transformers>=3.0.0 in /usr/local/lib/python3.12/dist-packages (from bert_score) (4.55.2)\n",
      "Requirement already satisfied: numpy in /usr/local/lib/python3.12/dist-packages (from bert_score) (2.0.2)\n",
      "Requirement already satisfied: requests in /usr/local/lib/python3.12/dist-packages (from bert_score) (2.32.4)\n",
      "Requirement already satisfied: tqdm>=4.31.1 in /usr/local/lib/python3.12/dist-packages (from bert_score) (4.67.1)\n",
      "Requirement already satisfied: matplotlib in /usr/local/lib/python3.12/dist-packages (from bert_score) (3.10.0)\n",
      "Requirement already satisfied: packaging>=20.9 in /usr/local/lib/python3.12/dist-packages (from bert_score) (25.0)\n",
      "Requirement already satisfied: python-dateutil>=2.8.2 in /usr/local/lib/python3.12/dist-packages (from pandas>=1.0.1->bert_score) (2.9.0.post0)\n",
      "Requirement already satisfied: pytz>=2020.1 in /usr/local/lib/python3.12/dist-packages (from pandas>=1.0.1->bert_score) (2025.2)\n",
      "Requirement already satisfied: tzdata>=2022.7 in /usr/local/lib/python3.12/dist-packages (from pandas>=1.0.1->bert_score) (2025.2)\n",
      "Requirement already satisfied: filelock in /usr/local/lib/python3.12/dist-packages (from torch>=1.0.0->bert_score) (3.19.1)\n",
      "Requirement already satisfied: typing-extensions>=4.10.0 in /usr/local/lib/python3.12/dist-packages (from torch>=1.0.0->bert_score) (4.14.1)\n",
      "Requirement already satisfied: setuptools in /usr/local/lib/python3.12/dist-packages (from torch>=1.0.0->bert_score) (75.2.0)\n",
      "Requirement already satisfied: sympy>=1.13.3 in /usr/local/lib/python3.12/dist-packages (from torch>=1.0.0->bert_score) (1.13.3)\n",
      "Requirement already satisfied: networkx in /usr/local/lib/python3.12/dist-packages (from torch>=1.0.0->bert_score) (3.5)\n",
      "Requirement already satisfied: jinja2 in /usr/local/lib/python3.12/dist-packages (from torch>=1.0.0->bert_score) (3.1.6)\n",
      "Requirement already satisfied: fsspec in /usr/local/lib/python3.12/dist-packages (from torch>=1.0.0->bert_score) (2025.3.0)\n",
      "Requirement already satisfied: nvidia-cuda-nvrtc-cu12==12.6.77 in /usr/local/lib/python3.12/dist-packages (from torch>=1.0.0->bert_score) (12.6.77)\n",
      "Requirement already satisfied: nvidia-cuda-runtime-cu12==12.6.77 in /usr/local/lib/python3.12/dist-packages (from torch>=1.0.0->bert_score) (12.6.77)\n",
      "Requirement already satisfied: nvidia-cuda-cupti-cu12==12.6.80 in /usr/local/lib/python3.12/dist-packages (from torch>=1.0.0->bert_score) (12.6.80)\n",
      "Requirement already satisfied: nvidia-cudnn-cu12==9.10.2.21 in /usr/local/lib/python3.12/dist-packages (from torch>=1.0.0->bert_score) (9.10.2.21)\n",
      "Requirement already satisfied: nvidia-cublas-cu12==12.6.4.1 in /usr/local/lib/python3.12/dist-packages (from torch>=1.0.0->bert_score) (12.6.4.1)\n",
      "Requirement already satisfied: nvidia-cufft-cu12==11.3.0.4 in /usr/local/lib/python3.12/dist-packages (from torch>=1.0.0->bert_score) (11.3.0.4)\n",
      "Requirement already satisfied: nvidia-curand-cu12==10.3.7.77 in /usr/local/lib/python3.12/dist-packages (from torch>=1.0.0->bert_score) (10.3.7.77)\n",
      "Requirement already satisfied: nvidia-cusolver-cu12==11.7.1.2 in /usr/local/lib/python3.12/dist-packages (from torch>=1.0.0->bert_score) (11.7.1.2)\n",
      "Requirement already satisfied: nvidia-cusparse-cu12==12.5.4.2 in /usr/local/lib/python3.12/dist-packages (from torch>=1.0.0->bert_score) (12.5.4.2)\n",
      "Requirement already satisfied: nvidia-cusparselt-cu12==0.7.1 in /usr/local/lib/python3.12/dist-packages (from torch>=1.0.0->bert_score) (0.7.1)\n",
      "Requirement already satisfied: nvidia-nccl-cu12==2.27.3 in /usr/local/lib/python3.12/dist-packages (from torch>=1.0.0->bert_score) (2.27.3)\n",
      "Requirement already satisfied: nvidia-nvtx-cu12==12.6.77 in /usr/local/lib/python3.12/dist-packages (from torch>=1.0.0->bert_score) (12.6.77)\n",
      "Requirement already satisfied: nvidia-nvjitlink-cu12==12.6.85 in /usr/local/lib/python3.12/dist-packages (from torch>=1.0.0->bert_score) (12.6.85)\n",
      "Requirement already satisfied: nvidia-cufile-cu12==1.11.1.6 in /usr/local/lib/python3.12/dist-packages (from torch>=1.0.0->bert_score) (1.11.1.6)\n",
      "Requirement already satisfied: triton==3.4.0 in /usr/local/lib/python3.12/dist-packages (from torch>=1.0.0->bert_score) (3.4.0)\n",
      "Requirement already satisfied: huggingface-hub<1.0,>=0.34.0 in /usr/local/lib/python3.12/dist-packages (from transformers>=3.0.0->bert_score) (0.34.4)\n",
      "Requirement already satisfied: pyyaml>=5.1 in /usr/local/lib/python3.12/dist-packages (from transformers>=3.0.0->bert_score) (6.0.2)\n",
      "Requirement already satisfied: regex!=2019.12.17 in /usr/local/lib/python3.12/dist-packages (from transformers>=3.0.0->bert_score) (2024.11.6)\n",
      "Requirement already satisfied: tokenizers<0.22,>=0.21 in /usr/local/lib/python3.12/dist-packages (from transformers>=3.0.0->bert_score) (0.21.4)\n",
      "Requirement already satisfied: safetensors>=0.4.3 in /usr/local/lib/python3.12/dist-packages (from transformers>=3.0.0->bert_score) (0.6.2)\n",
      "Requirement already satisfied: contourpy>=1.0.1 in /usr/local/lib/python3.12/dist-packages (from matplotlib->bert_score) (1.3.3)\n",
      "Requirement already satisfied: cycler>=0.10 in /usr/local/lib/python3.12/dist-packages (from matplotlib->bert_score) (0.12.1)\n",
      "Requirement already satisfied: fonttools>=4.22.0 in /usr/local/lib/python3.12/dist-packages (from matplotlib->bert_score) (4.59.1)\n",
      "Requirement already satisfied: kiwisolver>=1.3.1 in /usr/local/lib/python3.12/dist-packages (from matplotlib->bert_score) (1.4.9)\n",
      "Requirement already satisfied: pillow>=8 in /usr/local/lib/python3.12/dist-packages (from matplotlib->bert_score) (11.3.0)\n",
      "Requirement already satisfied: pyparsing>=2.3.1 in /usr/local/lib/python3.12/dist-packages (from matplotlib->bert_score) (3.2.3)\n",
      "Requirement already satisfied: charset_normalizer<4,>=2 in /usr/local/lib/python3.12/dist-packages (from requests->bert_score) (3.4.3)\n",
      "Requirement already satisfied: idna<4,>=2.5 in /usr/local/lib/python3.12/dist-packages (from requests->bert_score) (3.10)\n",
      "Requirement already satisfied: urllib3<3,>=1.21.1 in /usr/local/lib/python3.12/dist-packages (from requests->bert_score) (2.5.0)\n",
      "Requirement already satisfied: certifi>=2017.4.17 in /usr/local/lib/python3.12/dist-packages (from requests->bert_score) (2025.8.3)\n",
      "Requirement already satisfied: hf-xet<2.0.0,>=1.1.3 in /usr/local/lib/python3.12/dist-packages (from huggingface-hub<1.0,>=0.34.0->transformers>=3.0.0->bert_score) (1.1.7)\n",
      "Requirement already satisfied: six>=1.5 in /usr/local/lib/python3.12/dist-packages (from python-dateutil>=2.8.2->pandas>=1.0.1->bert_score) (1.17.0)\n",
      "Requirement already satisfied: mpmath<1.4,>=1.1.0 in /usr/local/lib/python3.12/dist-packages (from sympy>=1.13.3->torch>=1.0.0->bert_score) (1.3.0)\n",
      "Requirement already satisfied: MarkupSafe>=2.0 in /usr/local/lib/python3.12/dist-packages (from jinja2->torch>=1.0.0->bert_score) (3.0.2)\n",
      "Downloading bert_score-0.3.13-py3-none-any.whl (61 kB)\n",
      "\u001b[2K   \u001b[90m━━━━━━━━━━━━━━━━━━━━━━━━━━━━━━━━━━━━━━━━\u001b[0m \u001b[32m61.1/61.1 kB\u001b[0m \u001b[31m5.2 MB/s\u001b[0m eta \u001b[36m0:00:00\u001b[0m\n",
      "\u001b[?25hInstalling collected packages: bert_score\n",
      "Successfully installed bert_score-0.3.13\n"
     ]
    }
   ],
   "source": [
    "!pip install bert_score"
   ]
  },
  {
   "cell_type": "code",
   "execution_count": null,
   "metadata": {
    "id": "k4EhZdVexBxb"
   },
   "outputs": [],
   "source": [
    "# STEP 1: Load and clean MedDialog dataset\n",
    "import json\n",
    "import pandas as pd\n",
    "from datasets import Dataset, DatasetDict\n",
    "from sklearn.model_selection import train_test_split\n",
    "\n",
    "def load_and_filter_dataset(path):\n",
    "    with open(path, \"r\") as f:\n",
    "        data = json.load(f)\n",
    "\n",
    "    cleaned_data = []\n",
    "    for entry in data:\n",
    "        utterances = entry.get(\"utterances\", [])\n",
    "        if len(utterances) < 2:\n",
    "            continue\n",
    "        patient = utterances[0].replace(\"patient:\", \"\").strip()\n",
    "        doctor = utterances[1].replace(\"doctor:\", \"\").strip()\n",
    "\n",
    "        if 10 < len(doctor.split()) < 100:  # filter bad/short/long responses\n",
    "            input_text = f\"You are a helpful telehealth doctor. Provide a short, clear response.\\nPatient: {patient}\\nDoctor:\"\n",
    "            cleaned_data.append({\"input\": input_text, \"output\": doctor})\n",
    "\n",
    "    return pd.DataFrame(cleaned_data)\n",
    "\n",
    "# Load datasets\n",
    "train_df = load_and_filter_dataset(\"english-train.json\")\n",
    "val_df   = load_and_filter_dataset(\"english-dev.json\")\n",
    "test_df  = load_and_filter_dataset(\"english-test.json\")\n",
    "\n",
    "# Split 20% of train data for validation (benchmarking)\n",
    "train_df, benchmark_df = train_test_split(train_df, test_size=0.2, random_state=42)\n",
    "\n",
    "dataset = DatasetDict({\n",
    "    \"train\": Dataset.from_pandas(train_df),\n",
    "    \"benchmark\": Dataset.from_pandas(benchmark_df),  # Benchmark dataset (20%)\n",
    "    \"test\": Dataset.from_pandas(test_df)\n",
    "})"
   ]
  },
  {
   "cell_type": "code",
   "execution_count": null,
   "metadata": {
    "colab": {
     "base_uri": "https://localhost:8080/"
    },
    "id": "sj4kRMTTxBuz",
    "outputId": "14e4d088-7593-41e9-a593-69a42de0ce72"
   },
   "outputs": [
    {
     "name": "stdout",
     "output_type": "stream",
     "text": [
      "Dataset Sizes\n",
      "Total samples before split (train.json): 2001\n",
      "Validation (dev.json): 142\n",
      "Test (test.json): 355\n",
      "\n",
      "After Split (train - train + benchmark)\n",
      "Train size: 1600\n",
      "Benchmark (20% of train): 401\n",
      "Validation (dev): 142\n",
      "Test size: 355\n",
      "\n",
      "Final\n",
      "Total samples before split: 2001\n",
      "Train size: 1600\n",
      "Eval size: 401\n",
      "Test size: 355\n"
     ]
    }
   ],
   "source": [
    "# After loading all datasets\n",
    "print(\"Dataset Sizes\")\n",
    "print(f\"Total samples before split (train.json): {len(load_and_filter_dataset('english-train.json'))}\")\n",
    "print(f\"Validation (dev.json): {len(val_df)}\")\n",
    "print(f\"Test (test.json): {len(test_df)}\")\n",
    "\n",
    "# Sizes after your 80/20 split\n",
    "print(\"\\nAfter Split (train - train + benchmark)\")\n",
    "print(f\"Train size: {len(train_df)}\")\n",
    "print(f\"Benchmark (20% of train): {len(benchmark_df)}\")\n",
    "print(f\"Validation (dev): {len(val_df)}\")\n",
    "print(f\"Test size: {len(test_df)}\")\n",
    "\n",
    "# Final\n",
    "print(\"\\nFinal\")\n",
    "print(f\"Total samples before split: {len(train_df) + len(benchmark_df)}\")\n",
    "print(f\"Train size: {len(train_df)}\")\n",
    "print(f\"Eval size: {len(benchmark_df)}\")\n",
    "print(f\"Test size: {len(test_df)}\")"
   ]
  },
  {
   "cell_type": "code",
   "execution_count": null,
   "metadata": {
    "colab": {
     "base_uri": "https://localhost:8080/",
     "height": 383,
     "referenced_widgets": [
      "0d8549e98aee456bb3918d669316278f",
      "ba3a1828676d447584f7b9ce16c086e0",
      "cbdf4c45797a4c01960edc2e818df077",
      "542c7c26a8f04026822025fca34e5f30",
      "680b192790754c46923d51b52cfe6627",
      "03bea618649a4bed80def06e7c0ebd2a",
      "b5283ae063464c04a293bf5c774a2826",
      "263a86eb16a94d048bbe8ff80c7f46e1",
      "81b908c3f38c4b5a99a589b04ace4b0b",
      "4acc97b9039143238e0896b93293b0bf",
      "e030ab8c2e7043b487cf55702ec8f973",
      "f1b957321c4344a882b3dba78438ff41",
      "7d9607d12c674d2a9dbb7132d5ea0f28",
      "90b83e935fc447d5b8550aacfd47591d",
      "a292c85dd18f4ce9a2639346bd2c7288",
      "f2925580bfa84bbfa62b453514bfe923",
      "dc4c65a8d6624d2392d7a933c94a3080",
      "4452b78818d542bfab6d9b0b1a1d35a2",
      "aaf88a68e3e24a8a9831f8ced291f028",
      "32f7b98b6d854c41bfcbffe906a4c019",
      "ec91e6282d4a4ba3a6ca828c83c48e61",
      "c70d802f55bf4e20ba9f87d52c4f9743",
      "d3d8d2e15bb849fbbd9488e22d203508",
      "2c5614efac73429aa352915a5d832588",
      "6848c1dd213f45e0a951ece4e4ae23d2",
      "e9ce387561a0492cbf7c49bd877b01f6",
      "6089570f183b4206ae9c050a83abc010",
      "7f2ba26c3fec4a6398aafdae2b8d0403",
      "e49e2ab3ae994df08ec4f06125790d4e",
      "7d00a05039ba40f6969bde4ab9a19a19",
      "7c38977deeab4bb09924e6630dfb9ba0",
      "cdc69b789135417b964f5d120467957b",
      "474bf8da346742fa99674c7abab510b5",
      "32e6ec208ef149bda3118d6c72695af2",
      "0c68b86beec24aaeabcc9c6f92c38304",
      "0d85baa7a7174f74bb89d2821e454b51",
      "0b194aafa09a4d599499a576d44bb7d9",
      "d158cf0c52604311b761a112e296db08",
      "bc42eca1cddf4993b4d06add0187c577",
      "0750ab0415ad487baffbff2c741ca911",
      "d13fb931e7594736a89ecb348b1a4ee8",
      "1fb377ba9c56418aa3139f63369f9b39",
      "365e9c3dce9b4223ace46794adcd610a",
      "c089ab5d8a884282979d75004ce966b4",
      "6afc321c6f7748999e2855d13e765efa",
      "3b72af01014b4bb1afdfdbe40ed83f05",
      "a05dbe79f5fd4966aaa0e13a50d063d9",
      "141873ec6433467695537ee040159886",
      "6a5efdfa9abf4b8c80e76824139e98ea",
      "6a9654c6be54463781418b959cbd99eb",
      "7244cf99915b42138898989faf7fc4b5",
      "4150303f030b4747887092d7310bd05f",
      "3e41cc2fe1b9413781bcc19ddbb1dad5",
      "9a746feb4f594445a681f4cba8d9e045",
      "70eb7f5014394968bf7cae4e2e329780",
      "ebbe3a15e8fe4bff8c8eaa28f5f3e159",
      "abc5d7308e0344368a1445c4525d7355",
      "146dff8b39d04a70b64a5e2c7f33ee6c",
      "3731ede2c7d44860897eabc23246f302",
      "7036778993344645b19ab9400fc54a36",
      "383a899d579448b3a3ec01e4b26f036e",
      "0d5047f9340d4a8c9501bd925d99ba35",
      "f01fd755abb5405c9406506b0fc5c0a7",
      "f192281e30934e3d8655c7be9159b22a",
      "95ecb8ff6a8046a685a26a78e88935af",
      "295e5cf43dd14165a2a5918b5e01c029",
      "3d84249e7b1a4453a62471fd5d7dc66d",
      "d33d5316aa0a459cb6f1bc860b649d43",
      "b3ca57c99c4743db8e7d164f8dca3345",
      "ef220d19335a40f5bc0f7d67fc957aad",
      "7425450430de4b35a2beeb57fe6fa004",
      "9e93e7aef31d48e58481095ebbe2e04f",
      "5f8fe24b9e9241c4861b7301de1ced5b",
      "feed0842266c4a96b9d3f3439a41271f",
      "194bbc4720294e64a91ac642d164fa82",
      "8fb5ef8e0a594277a971125938133061",
      "0e7c99c5fe0a4c57b263109395be62fd"
     ]
    },
    "id": "WUiZzzd_xBrr",
    "outputId": "d6f639ae-5e91-4b97-99f6-f8d8ad9fe6e2"
   },
   "outputs": [
    {
     "name": "stderr",
     "output_type": "stream",
     "text": [
      "/usr/local/lib/python3.12/dist-packages/huggingface_hub/utils/_auth.py:94: UserWarning: \n",
      "The secret `HF_TOKEN` does not exist in your Colab secrets.\n",
      "To authenticate with the Hugging Face Hub, create a token in your settings tab (https://huggingface.co/settings/tokens), set it as secret in your Google Colab and restart your session.\n",
      "You will be able to reuse this secret in all of your notebooks.\n",
      "Please note that authentication is recommended but still optional to access public models or datasets.\n",
      "  warnings.warn(\n"
     ]
    },
    {
     "data": {
      "application/vnd.jupyter.widget-view+json": {
       "model_id": "0d8549e98aee456bb3918d669316278f",
       "version_major": 2,
       "version_minor": 0
      },
      "text/plain": [
       "tokenizer_config.json: 0.00B [00:00, ?B/s]"
      ]
     },
     "metadata": {},
     "output_type": "display_data"
    },
    {
     "data": {
      "application/vnd.jupyter.widget-view+json": {
       "model_id": "f1b957321c4344a882b3dba78438ff41",
       "version_major": 2,
       "version_minor": 0
      },
      "text/plain": [
       "spiece.model:   0%|          | 0.00/792k [00:00<?, ?B/s]"
      ]
     },
     "metadata": {},
     "output_type": "display_data"
    },
    {
     "data": {
      "application/vnd.jupyter.widget-view+json": {
       "model_id": "d3d8d2e15bb849fbbd9488e22d203508",
       "version_major": 2,
       "version_minor": 0
      },
      "text/plain": [
       "special_tokens_map.json: 0.00B [00:00, ?B/s]"
      ]
     },
     "metadata": {},
     "output_type": "display_data"
    },
    {
     "data": {
      "application/vnd.jupyter.widget-view+json": {
       "model_id": "32e6ec208ef149bda3118d6c72695af2",
       "version_major": 2,
       "version_minor": 0
      },
      "text/plain": [
       "tokenizer.json: 0.00B [00:00, ?B/s]"
      ]
     },
     "metadata": {},
     "output_type": "display_data"
    },
    {
     "name": "stderr",
     "output_type": "stream",
     "text": [
      "You are using the default legacy behaviour of the <class 'transformers.models.t5.tokenization_t5.T5Tokenizer'>. This is expected, and simply means that the `legacy` (previous) behavior will be used so nothing changes for you. If you want to use the new behaviour, set `legacy=False`. This should only be set if you understand what it means, and thoroughly read the reason why this was added as explained in https://github.com/huggingface/transformers/pull/24565\n"
     ]
    },
    {
     "data": {
      "application/vnd.jupyter.widget-view+json": {
       "model_id": "6afc321c6f7748999e2855d13e765efa",
       "version_major": 2,
       "version_minor": 0
      },
      "text/plain": [
       "Map:   0%|          | 0/1600 [00:00<?, ? examples/s]"
      ]
     },
     "metadata": {},
     "output_type": "display_data"
    },
    {
     "data": {
      "application/vnd.jupyter.widget-view+json": {
       "model_id": "ebbe3a15e8fe4bff8c8eaa28f5f3e159",
       "version_major": 2,
       "version_minor": 0
      },
      "text/plain": [
       "Map:   0%|          | 0/401 [00:00<?, ? examples/s]"
      ]
     },
     "metadata": {},
     "output_type": "display_data"
    },
    {
     "data": {
      "application/vnd.jupyter.widget-view+json": {
       "model_id": "3d84249e7b1a4453a62471fd5d7dc66d",
       "version_major": 2,
       "version_minor": 0
      },
      "text/plain": [
       "Map:   0%|          | 0/355 [00:00<?, ? examples/s]"
      ]
     },
     "metadata": {},
     "output_type": "display_data"
    }
   ],
   "source": [
    "# STEP 2: Tokenize data for flan-t5-base\n",
    "from transformers import T5Tokenizer\n",
    "\n",
    "model_name = \"google/flan-t5-base\"  # Load the tokenizer\n",
    "tokenizer = T5Tokenizer.from_pretrained(model_name)   # Load the pretrained FLAN-T5-Base model\n",
    "\n",
    "def preprocess(example):\n",
    "    inputs = tokenizer(example[\"input\"], padding=\"max_length\", truncation=True, max_length=512)\n",
    "    targets = tokenizer(example[\"output\"], padding=\"max_length\", truncation=True, max_length=128)\n",
    "    inputs[\"labels\"] = [t if t != tokenizer.pad_token_id else -100 for t in targets[\"input_ids\"]]\n",
    "    return inputs\n",
    "\n",
    "tokenized_dataset = dataset.map(preprocess, batched=True)"
   ]
  },
  {
   "cell_type": "code",
   "execution_count": null,
   "metadata": {
    "colab": {
     "base_uri": "https://localhost:8080/",
     "height": 113,
     "referenced_widgets": [
      "561989d6519b47f6b8f1a802f7d22f92",
      "47c9c5c9d96548b1817bb5cdbe063db5",
      "3835d330e7df4628bac51400f15e735a",
      "eb847d68d41142988b976a492a475bfc",
      "a00ac158a0334e70be58865221b0e6b3",
      "7381a928f1764da29fbea99a39c43c8f",
      "cc2698da466a4c71b6c00f742e3e02dc",
      "efb3c19442914a739a9dc3c0bf1f450d",
      "87efda83ec99461c9c0be3342ee10e20",
      "a8b3de37a6c1489badd9f7e6d6ff851d",
      "6cb4aabfaa594831864553d33d398bef",
      "e464efaef9ae46bd8db163bd9682e29d",
      "aab30d55f0b445b5a709ba3cad5892ae",
      "41b014d4f8b2473d8017656521867fc5",
      "c4121d3fc7b04f4ab7c1a71867fc3cdc",
      "8874d1f725014ff4ac3d8dd08e5f2fd2",
      "7bafbfc7562b461e82ae9c199c476d67",
      "6e90d57293c246e49f7e725cea37c21c",
      "ef8c8b7c817a48439f9b39b93b4a71f2",
      "5b259731e43547c29c87bcad0bb4e6eb",
      "7622325b10c748c7b6f871462a2ca563",
      "4efb61a207694a0398057a573530434c",
      "2a8b96c173d54ec68c175956a350aaa9",
      "799dbdf4809045e7a08025e807515dec",
      "95c6c6d378ba49d485e3fa2667563e54",
      "4077c7ff2ca34f3cbefa64a036dc9f99",
      "14c2859140634df68b8c1f3c42607f59",
      "cc030e129c0042eebf7b358d250bf900",
      "ccaa46049efc42e8a818158a6cf4b1ac",
      "a2fa43feccc0495182f12f73d96ce2e6",
      "74236bee071c43c2b1954a21757a5dc0",
      "265414d4797c4fa9bc9af7ab4f8be10d",
      "71013e4091da43b1893d30d0b71a66d2"
     ]
    },
    "id": "Rr13FQAlxBoj",
    "outputId": "6729df54-44a7-4374-b39a-ea867dfb93c9"
   },
   "outputs": [
    {
     "data": {
      "application/vnd.jupyter.widget-view+json": {
       "model_id": "561989d6519b47f6b8f1a802f7d22f92",
       "version_major": 2,
       "version_minor": 0
      },
      "text/plain": [
       "config.json: 0.00B [00:00, ?B/s]"
      ]
     },
     "metadata": {},
     "output_type": "display_data"
    },
    {
     "data": {
      "application/vnd.jupyter.widget-view+json": {
       "model_id": "e464efaef9ae46bd8db163bd9682e29d",
       "version_major": 2,
       "version_minor": 0
      },
      "text/plain": [
       "model.safetensors:   0%|          | 0.00/990M [00:00<?, ?B/s]"
      ]
     },
     "metadata": {},
     "output_type": "display_data"
    },
    {
     "data": {
      "application/vnd.jupyter.widget-view+json": {
       "model_id": "2a8b96c173d54ec68c175956a350aaa9",
       "version_major": 2,
       "version_minor": 0
      },
      "text/plain": [
       "generation_config.json:   0%|          | 0.00/147 [00:00<?, ?B/s]"
      ]
     },
     "metadata": {},
     "output_type": "display_data"
    }
   ],
   "source": [
    "# STEP 3: Setup PEFT LoRA config\n",
    "from transformers import T5ForConditionalGeneration\n",
    "from peft import get_peft_model, LoraConfig, TaskType\n",
    "\n",
    "model = T5ForConditionalGeneration.from_pretrained(model_name)\n",
    "\n",
    "lora_config = LoraConfig(\n",
    "    r=16,\n",
    "    lora_alpha=32,\n",
    "    lora_dropout=0.1,\n",
    "    target_modules=[\"q\", \"v\", \"k\", \"o\", \"wi\", \"wo\"],\n",
    "    bias=\"none\",\n",
    "    task_type=TaskType.SEQ_2_SEQ_LM\n",
    ")\n",
    "\n",
    "model = get_peft_model(model, lora_config)"
   ]
  },
  {
   "cell_type": "code",
   "execution_count": null,
   "metadata": {
    "colab": {
     "base_uri": "https://localhost:8080/",
     "height": 1000
    },
    "id": "0w4wX1N2xBlT",
    "outputId": "d79c683a-7e0b-4814-e9cb-254914714469"
   },
   "outputs": [
    {
     "name": "stderr",
     "output_type": "stream",
     "text": [
      "/tmp/ipython-input-4245134283.py:18: FutureWarning: `tokenizer` is deprecated and will be removed in version 5.0.0 for `Trainer.__init__`. Use `processing_class` instead.\n",
      "  trainer = Trainer(\n"
     ]
    },
    {
     "data": {
      "text/html": [
       "\n",
       "    <div>\n",
       "      \n",
       "      <progress value='12000' max='12000' style='width:300px; height:20px; vertical-align: middle;'></progress>\n",
       "      [12000/12000 2:12:19, Epoch 30/30]\n",
       "    </div>\n",
       "    <table border=\"1\" class=\"dataframe\">\n",
       "  <thead>\n",
       " <tr style=\"text-align: left;\">\n",
       "      <th>Epoch</th>\n",
       "      <th>Training Loss</th>\n",
       "      <th>Validation Loss</th>\n",
       "    </tr>\n",
       "  </thead>\n",
       "  <tbody>\n",
       "    <tr>\n",
       "      <td>1</td>\n",
       "      <td>1.232500</td>\n",
       "      <td>0.922221</td>\n",
       "    </tr>\n",
       "    <tr>\n",
       "      <td>2</td>\n",
       "      <td>0.888600</td>\n",
       "      <td>0.833157</td>\n",
       "    </tr>\n",
       "    <tr>\n",
       "      <td>3</td>\n",
       "      <td>0.786000</td>\n",
       "      <td>0.789624</td>\n",
       "    </tr>\n",
       "    <tr>\n",
       "      <td>4</td>\n",
       "      <td>0.898400</td>\n",
       "      <td>0.761712</td>\n",
       "    </tr>\n",
       "    <tr>\n",
       "      <td>5</td>\n",
       "      <td>0.756300</td>\n",
       "      <td>0.741800</td>\n",
       "    </tr>\n",
       "    <tr>\n",
       "      <td>6</td>\n",
       "      <td>0.710400</td>\n",
       "      <td>0.728316</td>\n",
       "    </tr>\n",
       "    <tr>\n",
       "      <td>7</td>\n",
       "      <td>0.907600</td>\n",
       "      <td>0.710487</td>\n",
       "    </tr>\n",
       "    <tr>\n",
       "      <td>8</td>\n",
       "      <td>0.693800</td>\n",
       "      <td>0.699710</td>\n",
       "    </tr>\n",
       "    <tr>\n",
       "      <td>9</td>\n",
       "      <td>0.795400</td>\n",
       "      <td>0.689593</td>\n",
       "    </tr>\n",
       "    <tr>\n",
       "      <td>10</td>\n",
       "      <td>0.641500</td>\n",
       "      <td>0.681998</td>\n",
       "    </tr>\n",
       "    <tr>\n",
       "      <td>11</td>\n",
       "      <td>0.723800</td>\n",
       "      <td>0.675486</td>\n",
       "    </tr>\n",
       "    <tr>\n",
       "      <td>12</td>\n",
       "      <td>0.596600</td>\n",
       "      <td>0.671910</td>\n",
       "    </tr>\n",
       "    <tr>\n",
       "      <td>13</td>\n",
       "      <td>0.621700</td>\n",
       "      <td>0.666521</td>\n",
       "    </tr>\n",
       "    <tr>\n",
       "      <td>14</td>\n",
       "      <td>0.585400</td>\n",
       "      <td>0.664083</td>\n",
       "    </tr>\n",
       "    <tr>\n",
       "      <td>15</td>\n",
       "      <td>0.540200</td>\n",
       "      <td>0.663053</td>\n",
       "    </tr>\n",
       "    <tr>\n",
       "      <td>16</td>\n",
       "      <td>0.739200</td>\n",
       "      <td>0.658193</td>\n",
       "    </tr>\n",
       "    <tr>\n",
       "      <td>17</td>\n",
       "      <td>0.554600</td>\n",
       "      <td>0.653566</td>\n",
       "    </tr>\n",
       "    <tr>\n",
       "      <td>18</td>\n",
       "      <td>0.721600</td>\n",
       "      <td>0.650172</td>\n",
       "    </tr>\n",
       "    <tr>\n",
       "      <td>19</td>\n",
       "      <td>0.557800</td>\n",
       "      <td>0.646249</td>\n",
       "    </tr>\n",
       "    <tr>\n",
       "      <td>20</td>\n",
       "      <td>0.732800</td>\n",
       "      <td>0.646254</td>\n",
       "    </tr>\n",
       "    <tr>\n",
       "      <td>21</td>\n",
       "      <td>0.542700</td>\n",
       "      <td>0.643977</td>\n",
       "    </tr>\n",
       "    <tr>\n",
       "      <td>22</td>\n",
       "      <td>0.600500</td>\n",
       "      <td>0.644585</td>\n",
       "    </tr>\n",
       "    <tr>\n",
       "      <td>23</td>\n",
       "      <td>0.615600</td>\n",
       "      <td>0.642109</td>\n",
       "    </tr>\n",
       "    <tr>\n",
       "      <td>24</td>\n",
       "      <td>0.526600</td>\n",
       "      <td>0.641755</td>\n",
       "    </tr>\n",
       "    <tr>\n",
       "      <td>25</td>\n",
       "      <td>0.675200</td>\n",
       "      <td>0.642162</td>\n",
       "    </tr>\n",
       "    <tr>\n",
       "      <td>26</td>\n",
       "      <td>0.645500</td>\n",
       "      <td>0.641449</td>\n",
       "    </tr>\n",
       "    <tr>\n",
       "      <td>27</td>\n",
       "      <td>0.456700</td>\n",
       "      <td>0.639812</td>\n",
       "    </tr>\n",
       "    <tr>\n",
       "      <td>28</td>\n",
       "      <td>0.797100</td>\n",
       "      <td>0.640480</td>\n",
       "    </tr>\n",
       "    <tr>\n",
       "      <td>29</td>\n",
       "      <td>0.551700</td>\n",
       "      <td>0.639781</td>\n",
       "    </tr>\n",
       "    <tr>\n",
       "      <td>30</td>\n",
       "      <td>0.537400</td>\n",
       "      <td>0.640555</td>\n",
       "    </tr>\n",
       "  </tbody>\n",
       "</table><p>"
      ],
      "text/plain": [
       "<IPython.core.display.HTML object>"
      ]
     },
     "metadata": {},
     "output_type": "display_data"
    }
   ],
   "source": [
    "# STEP 4: Setup Trainer\n",
    "from transformers import TrainingArguments, Trainer\n",
    "\n",
    "training_args = TrainingArguments(\n",
    "    output_dir=\"./flan-t5-base-telehealth-lora\",\n",
    "    eval_strategy=\"epoch\",\n",
    "    save_strategy=\"epoch\",\n",
    "    learning_rate=2e-4,\n",
    "    per_device_train_batch_size=4,\n",
    "    per_device_eval_batch_size=4,\n",
    "    num_train_epochs=30,\n",
    "    weight_decay=0.01,\n",
    "    logging_steps=20,\n",
    "    report_to=\"none\",\n",
    "    save_total_limit=2\n",
    ")\n",
    "\n",
    "trainer = Trainer(\n",
    "    model=model,\n",
    "    args=training_args,\n",
    "    train_dataset=tokenized_dataset[\"train\"],\n",
    "    eval_dataset=tokenized_dataset[\"benchmark\"],  # Evaluation on benchmark dataset\n",
    "    tokenizer=tokenizer\n",
    ")\n",
    "\n",
    "trainer.train()\n",
    "model.save_pretrained(\"./flan-t5-base-telehealth-lora\")"
   ]
  },
  {
   "cell_type": "code",
   "execution_count": null,
   "metadata": {
    "colab": {
     "base_uri": "https://localhost:8080/",
     "height": 429,
     "referenced_widgets": [
      "e2453c5de1bb42d4a44e14951380bf1d",
      "77377b1a5ce54a1fb5a4824ae6e1b118",
      "9cb502f939e148d98f18eab2aaf647b2",
      "cc03734375dd408093b05cc537e5388f",
      "42d7f4e45e6e4c4dae2051280879addb",
      "9a0061bb15654493a210489ae7e9fb80",
      "8496d38bfb8c4664851eeb17c7c5c1dc",
      "ace6e9ded28942e58a6c2fe9fd6e4805",
      "fc6cafec6ed547af860eb30a8343b0cc",
      "c070d4fcab934407925939b37fab3da5",
      "a3603f29c21f41248a55809ce3deb8c9",
      "1ce77d9c7cf5477ca422e0a512879545",
      "69a3a555ebcb4a329d4c94722b46d931",
      "c70a8814bc9949f9b773a5180505bf91",
      "ae53096579e84a3a8d683d75aa3261ad",
      "a1696729b5224d0595075cad85d08257",
      "0f13ec23ff374611a50522d5e4a9cba3",
      "0c2742f6c153466bac7376c91dd67bf2",
      "bfeba143956c46b79234d2c0f601bfaa",
      "5ea8e7d24b6b42fd927c1dae3c76bd62",
      "f1e86dca0ddb4d94b43ef3ab1fdfe8a1",
      "07921813caf74adf8c32d58a92cd8f55",
      "1bd739a50e4c4cb39dc236a4ecfde1dc",
      "c1147fb1defb47a0b15c13fa1f19957e",
      "59c68a59f7ee4187b8432ad20f767d55",
      "97dfe55c2dea42459ec24efad9200045",
      "ea97305246b94676859abc9d5420576e",
      "2378855c683d4e7781b15dad67858661",
      "828a45ce2c2d4dc8845148e5e7725fe8",
      "e36ed4307a444f19b556ab4186ab0ae2",
      "8d13481a87674e8a8f2600065d19e19c",
      "04d796834ef348b296db9010d4f63285",
      "fa4400ef661d485e98a1f63772fb5757",
      "d6834c9c726441ff9690d43c6e23be4b",
      "93233ec8a13a4227a0f7a44d51409404",
      "938b2d9805d147f79f65a3e36c82e601",
      "1110d6386aa84c9b9c4240fc13d91c7f",
      "58273d71c1c641489a1728a968a7f5db",
      "59e17c29ec9c41e7b34afb8869e587e1",
      "b18f1b40e1fa484e9e7720c3d906cd0d",
      "98711d2bcd1c424eb1a54baf7eef9436",
      "780f186fdd70403e8852bc2176bf75cc",
      "aee2b8d2fbd5409f834956e4ce573057",
      "a8654e91fc844ac7b9b5f5f5e0e307fe",
      "349212e411154f038c8ffdc55264fcdb",
      "186d54729a004585a540287039668b68",
      "39ec082f7b7d41b9aa9366995bcb8677",
      "cf2f7958ceb64ce183da3d734d81e16c",
      "c4ab7cc4417b4fb98b3b44cbfeaea7c5",
      "62c6650aa55b4a2e8d311b1b0389872b",
      "d48c070ace0a44048a1b4f16ac10398b",
      "3f38040df4c841759145459b177147bb",
      "c2df96ab4a27478fbb716cb2e56f544c",
      "e1484e02c93f41829300b478685dea36",
      "b40b195109cb49c38f3b659d28af9905",
      "8178e13ee98f43428d08f06149829870",
      "462c544c901f444eb6bb0d0877f1cf11",
      "20256a25d1684ad48e6da8a11a107073",
      "5155a2734e0f4e8c9bdefe986bdb3b68",
      "8bfccbc8e3c74c15b90a8cb779605cc4",
      "8ff1efbc58fa48368d0921070cfecb38",
      "e79deeb96641440ab14b6400ecd0360e",
      "c0d227e25ceb46c8a0eb54ada25a4315",
      "16fe8c9d05e644008a4df9ee6b50ac42",
      "ac72249737e64aee94c0f1f7622bfbbb",
      "8643e36522ff413c81ad51cdbf080fc7",
      "7d734fbe45e14c728557fc8733d65ba3",
      "53936521991d41a5b7460105ce9b8cab",
      "7c8f3e71f1f44196a19b8c943fc48f98",
      "61849176210d42ccb185811539c4b1ce",
      "5b3eb01feaf64b54a492a568df28f984",
      "57eac736a2b94656a4e20a663225f013",
      "bb79258952bb4649b61ad3f82ff5ecdf",
      "6ffab40e6b58478492484f190ce3592f",
      "0e3151b810f44c7c8c55f72ec0db6967",
      "42686baa47944effa1a3b17d41946230",
      "494b9e4b32494183986b1fb3e2dc96f5",
      "93c72af2fd9c494e9bd78e8b23b2c89c",
      "4a77ee5231244e2289b9b6a16bd70d7e",
      "b9ac108ebfa2470c89be7d3ffd50d2eb",
      "8bdc62d3e3e84d56989a9657ce12aef7",
      "2a0ea6865e474216aed2be8297eb0d18",
      "16e3fb333b384ecbac93d8324ce727c0",
      "0943f91ca4b245d5adb9423653475221",
      "4b5e3f995ada4b2487e0c8e854c3918d",
      "5200e3755fff40179d61e6f8c12b491b",
      "aed8725106524cfea9c48980c4fd7cbf",
      "b67f3767c8e149fba87621912ba4030d"
     ]
    },
    "id": "Lfw6M_n-xRP8",
    "outputId": "448ddd9d-412c-4661-b359-d3298759544b"
   },
   "outputs": [
    {
     "data": {
      "application/vnd.jupyter.widget-view+json": {
       "model_id": "e2453c5de1bb42d4a44e14951380bf1d",
       "version_major": 2,
       "version_minor": 0
      },
      "text/plain": [
       "Downloading builder script: 0.00B [00:00, ?B/s]"
      ]
     },
     "metadata": {},
     "output_type": "display_data"
    },
    {
     "data": {
      "application/vnd.jupyter.widget-view+json": {
       "model_id": "1ce77d9c7cf5477ca422e0a512879545",
       "version_major": 2,
       "version_minor": 0
      },
      "text/plain": [
       "Downloading builder script: 0.00B [00:00, ?B/s]"
      ]
     },
     "metadata": {},
     "output_type": "display_data"
    },
    {
     "name": "stdout",
     "output_type": "stream",
     "text": [
      "Evaluating Pretrained Model on Benchmark Dataset...\n"
     ]
    },
    {
     "data": {
      "application/vnd.jupyter.widget-view+json": {
       "model_id": "1bd739a50e4c4cb39dc236a4ecfde1dc",
       "version_major": 2,
       "version_minor": 0
      },
      "text/plain": [
       "tokenizer_config.json:   0%|          | 0.00/25.0 [00:00<?, ?B/s]"
      ]
     },
     "metadata": {},
     "output_type": "display_data"
    },
    {
     "data": {
      "application/vnd.jupyter.widget-view+json": {
       "model_id": "d6834c9c726441ff9690d43c6e23be4b",
       "version_major": 2,
       "version_minor": 0
      },
      "text/plain": [
       "config.json:   0%|          | 0.00/482 [00:00<?, ?B/s]"
      ]
     },
     "metadata": {},
     "output_type": "display_data"
    },
    {
     "data": {
      "application/vnd.jupyter.widget-view+json": {
       "model_id": "349212e411154f038c8ffdc55264fcdb",
       "version_major": 2,
       "version_minor": 0
      },
      "text/plain": [
       "vocab.json:   0%|          | 0.00/899k [00:00<?, ?B/s]"
      ]
     },
     "metadata": {},
     "output_type": "display_data"
    },
    {
     "data": {
      "application/vnd.jupyter.widget-view+json": {
       "model_id": "8178e13ee98f43428d08f06149829870",
       "version_major": 2,
       "version_minor": 0
      },
      "text/plain": [
       "merges.txt:   0%|          | 0.00/456k [00:00<?, ?B/s]"
      ]
     },
     "metadata": {},
     "output_type": "display_data"
    },
    {
     "data": {
      "application/vnd.jupyter.widget-view+json": {
       "model_id": "7d734fbe45e14c728557fc8733d65ba3",
       "version_major": 2,
       "version_minor": 0
      },
      "text/plain": [
       "tokenizer.json:   0%|          | 0.00/1.36M [00:00<?, ?B/s]"
      ]
     },
     "metadata": {},
     "output_type": "display_data"
    },
    {
     "data": {
      "application/vnd.jupyter.widget-view+json": {
       "model_id": "93c72af2fd9c494e9bd78e8b23b2c89c",
       "version_major": 2,
       "version_minor": 0
      },
      "text/plain": [
       "model.safetensors:   0%|          | 0.00/1.42G [00:00<?, ?B/s]"
      ]
     },
     "metadata": {},
     "output_type": "display_data"
    },
    {
     "name": "stderr",
     "output_type": "stream",
     "text": [
      "Some weights of RobertaModel were not initialized from the model checkpoint at roberta-large and are newly initialized: ['pooler.dense.bias', 'pooler.dense.weight']\n",
      "You should probably TRAIN this model on a down-stream task to be able to use it for predictions and inference.\n"
     ]
    },
    {
     "name": "stdout",
     "output_type": "stream",
     "text": [
      "Evaluating LoRA Fine-Tuned Model on Benchmark Dataset...\n",
      "         Metric  Pretrained  LoRA Fine-Tuned\n",
      "0       ROUGE-1    0.047819         0.414246\n",
      "1       ROUGE-2    0.006027         0.218925\n",
      "2       ROUGE-L    0.041879         0.366255\n",
      "3  BERTScore-F1    0.837975         0.902521\n"
     ]
    }
   ],
   "source": [
    "# STEP 5: Evaluate (ROUGE + BERTScore)\n",
    "\n",
    "import torch\n",
    "from evaluate import load\n",
    "from datasets import Dataset\n",
    "\n",
    "device = torch.device(\"cuda\" if torch.cuda.is_available() else \"cpu\")\n",
    "rouge = load(\"rouge\")\n",
    "bertscore = load(\"bertscore\")\n",
    "\n",
    "def evaluate_model(model, eval_df):\n",
    "    preds, refs = [], []\n",
    "\n",
    "    # Convert the Dataset to a pandas DataFrame\n",
    "    eval_df = eval_df.to_pandas()\n",
    "\n",
    "    for i, row in eval_df.iterrows():\n",
    "        patient_text = row[\"input\"].split(\"Patient:\")[1].split(\"\\n\")[0].strip()\n",
    "        prompt = f\"You are a helpful telehealth doctor. Provide a short, clear response.\\nPatient: {patient_text}\\nDoctor:\"\n",
    "        inputs = tokenizer(prompt, return_tensors=\"pt\", truncation=True, padding=\"max_length\", max_length=512).to(device)\n",
    "        outputs = model.generate(\n",
    "            **inputs,\n",
    "            max_new_tokens=128,\n",
    "            num_beams=4,\n",
    "            early_stopping=True,\n",
    "            repetition_penalty=1.2,\n",
    "            no_repeat_ngram_size=3\n",
    "        )\n",
    "        preds.append(tokenizer.decode(outputs[0], skip_special_tokens=True))\n",
    "        refs.append(row[\"output\"])\n",
    "\n",
    "    # Evaluate ROUGE\n",
    "    rouge_result = rouge.compute(predictions=preds, references=refs)\n",
    "\n",
    "    # Evaluate BERTScore\n",
    "    bert_result = bertscore.compute(predictions=preds, references=refs, lang=\"en\")\n",
    "\n",
    "    return rouge_result, sum(bert_result[\"f1\"]) / len(bert_result[\"f1\"])\n",
    "\n",
    "# Evaluate pretrained model\n",
    "print(\"Evaluating Pretrained Model on Benchmark Dataset...\")\n",
    "pre_model = T5ForConditionalGeneration.from_pretrained(model_name).to(device)\n",
    "pre_rouge, pre_bert = evaluate_model(pre_model, dataset[\"benchmark\"])\n",
    "\n",
    "# Evaluate LoRA fine-tuned model\n",
    "print(\"Evaluating LoRA Fine-Tuned Model on Benchmark Dataset...\")\n",
    "lora_model = T5ForConditionalGeneration.from_pretrained(\"./flan-t5-base-telehealth-lora\").to(device)\n",
    "lora_rouge, lora_bert = evaluate_model(lora_model, dataset[\"benchmark\"])\n",
    "\n",
    "# Performance comparison (Before vs After Fine-Tuning)\n",
    "import pandas as pd\n",
    "\n",
    "comparison_df = pd.DataFrame({\n",
    "    \"Metric\": [\"ROUGE-1\", \"ROUGE-2\", \"ROUGE-L\", \"BERTScore-F1\"],\n",
    "    \"Pretrained\": [\n",
    "        pre_rouge[\"rouge1\"],\n",
    "        pre_rouge[\"rouge2\"],\n",
    "        pre_rouge[\"rougeL\"],\n",
    "        pre_bert,\n",
    "    ],\n",
    "    \"LoRA Fine-Tuned\": [\n",
    "        lora_rouge[\"rouge1\"],\n",
    "        lora_rouge[\"rouge2\"],\n",
    "        lora_rouge[\"rougeL\"],\n",
    "        lora_bert,\n",
    "    ]\n",
    "})\n",
    "\n",
    "print(comparison_df)\n",
    "comparison_df.to_csv(\"benchmark_model_comparison.csv\", index=False)"
   ]
  },
  {
   "cell_type": "code",
   "execution_count": null,
   "metadata": {
    "colab": {
     "base_uri": "https://localhost:8080/",
     "height": 1000
    },
    "id": "x4PHYbB-xSsG",
    "outputId": "9632a1fe-20bd-4102-ef16-2bd92f019662"
   },
   "outputs": [
    {
     "data": {
      "image/png": "[encoded data removed]",
      "text/plain": [
       "<Figure size 800x500 with 1 Axes>"
      ]
     },
     "metadata": {},
     "output_type": "display_data"
    },
    {
     "data": {
      "image/png": "[encoded data removed]",
      "text/plain": [
       "<Figure size 800x600 with 1 Axes>"
      ]
     },
     "metadata": {},
     "output_type": "display_data"
    }
   ],
   "source": [
    "# Visualization\n",
    "import matplotlib.pyplot as plt\n",
    "\n",
    "def plot_training_logs(trainer):\n",
    "    logs = pd.DataFrame(trainer.state.log_history)\n",
    "    if \"loss\" in logs.columns:\n",
    "        plt.figure(figsize=(8,5))\n",
    "        plt.plot(logs[\"epoch\"], logs[\"loss\"], label=\"Train Loss\")\n",
    "        if \"eval_loss\" in logs.columns:\n",
    "            plt.plot(logs[\"epoch\"], logs[\"eval_loss\"], label=\"Eval Loss\")\n",
    "        plt.xlabel(\"Epoch\")\n",
    "        plt.ylabel(\"Loss\")\n",
    "        plt.title(\"Training & Evaluation Loss\")\n",
    "        plt.legend()\n",
    "        plt.savefig(\"training_loss_curve.png\")\n",
    "        plt.show()\n",
    "\n",
    "# Call after training\n",
    "plot_training_logs(trainer)\n",
    "\n",
    "# Metric Comparison Plot\n",
    "def plot_metrics(comparison_df):\n",
    "    comparison_df.set_index(\"Metric\").plot(kind=\"bar\", figsize=(8,6))\n",
    "    plt.title(\"Pretrained vs Fine-Tuned Model Performance\")\n",
    "    plt.ylabel(\"Score\")\n",
    "    plt.xticks(rotation=0)\n",
    "    plt.legend(loc=\"lower right\")\n",
    "    plt.savefig(\"model_comparison_metrics.png\")\n",
    "    plt.show()\n",
    "\n",
    "# Call after comparison_df is created\n",
    "plot_metrics(comparison_df)"
   ]
  },
  {
   "cell_type": "code",
   "execution_count": null,
   "metadata": {
    "id": "DrR3CZ_DUg1Z"
   },
   "outputs": [],
   "source": [
    "# Prompt engineering\n",
    "# Step 1: Define the prompt engineering template with enhanced responses\n",
    "def build_prompt(input_text, prompt_type=\"general\"):\n",
    "    input_text = input_text.strip()\n",
    "\n",
    "    if prompt_type == \"general\":\n",
    "        return (\n",
    "            f\"You are a helpful telehealth doctor. Provide a clear, actionable response with medical context and next steps.\\n\"\n",
    "            f\"Patient: {input_text}\\nDoctor:\"\n",
    "        )\n",
    "\n",
    "    elif prompt_type == \"diagnosis\":\n",
    "        return (\n",
    "            f\"You are a licensed telehealth physician. Assess the symptoms and explain 1-2 possible causes with suggested next steps.\\n\"\n",
    "            f\"Patient: {input_text}\\nDoctor:\"\n",
    "        )\n",
    "\n",
    "    elif prompt_type == \"psychological\":\n",
    "        return (\n",
    "            f\"You are a compassionate telehealth doctor. Reassure the patient, then provide steps to manage their mental well-being.\\n\"\n",
    "            f\"Patient: {input_text}\\nDoctor:\"\n",
    "        )\n",
    "\n",
    "    elif prompt_type == \"medication\":\n",
    "        return (\n",
    "            f\"You are a helpful telehealth doctor. If medication is needed, suggest general types (not specific brands). Include dosage instructions and when to consult with a healthcare provider.\\n\"\n",
    "            f\"Patient: {input_text}\\nDoctor:\"\n",
    "        )\n",
    "\n",
    "    else:\n",
    "        raise ValueError(\"Unsupported prompt type.\")"
   ]
  },
  {
   "cell_type": "code",
   "execution_count": null,
   "metadata": {
    "id": "we-o0XGIUosY"
   },
   "outputs": [],
   "source": [
    "# Step 2: Generate answers based on the prompt type\n",
    "def generate_answer(input_text, model, tokenizer, prompt_type=\"general\"):\n",
    "    prompt = build_prompt(input_text, prompt_type)\n",
    "    inputs = tokenizer(prompt, return_tensors=\"pt\", truncation=True, padding=\"max_length\", max_length=512).to(model.device)\n",
    "\n",
    "    outputs = model.generate(\n",
    "        **inputs,\n",
    "        max_new_tokens=128,   # 64\n",
    "        num_beams=4,\n",
    "        early_stopping=True,\n",
    "        repetition_penalty=1.2,\n",
    "        no_repeat_ngram_size=3\n",
    "    )\n",
    "\n",
    "    response = tokenizer.decode(outputs[0], skip_special_tokens=True).strip()\n",
    "    if response.lower().startswith(\"doctor:\"):\n",
    "        response = response[7:].strip()\n",
    "    return response"
   ]
  },
  {
   "cell_type": "code",
   "execution_count": null,
   "metadata": {
    "id": "_40slSQtUqAP"
   },
   "outputs": [],
   "source": [
    "# Step 3: Evaluate the model with different prompt types\n",
    "def evaluate_model(model, tokenizer, test_df, prompt_type=\"general\"):\n",
    "    from evaluate import load\n",
    "    rouge = load(\"rouge\")\n",
    "    bertscore = load(\"bertscore\")\n",
    "\n",
    "    preds, refs = [], []\n",
    "    for _, row in test_df.iterrows():\n",
    "        patient_text = row[\"input\"].split(\"Patient:\")[1].split(\"\\n\")[0].strip()\n",
    "        prompt = build_prompt(patient_text, prompt_type)\n",
    "        inputs = tokenizer(prompt, return_tensors=\"pt\", truncation=True, padding=\"max_length\", max_length=512).to(model.device)\n",
    "        outputs = model.generate(\n",
    "            **inputs,\n",
    "            max_new_tokens=64,\n",
    "            num_beams=4,\n",
    "            early_stopping=True,\n",
    "            repetition_penalty=1.2,\n",
    "            no_repeat_ngram_size=3\n",
    "        )\n",
    "        preds.append(tokenizer.decode(outputs[0], skip_special_tokens=True))\n",
    "        refs.append(row[\"output\"])\n",
    "\n",
    "    rouge_result = rouge.compute(predictions=preds, references=refs)\n",
    "    bert_result = bertscore.compute(predictions=preds, references=refs, lang=\"en\")\n",
    "    return rouge_result, sum(bert_result[\"f1\"]) / len(bert_result[\"f1\"])"
   ]
  },
  {
   "cell_type": "code",
   "execution_count": null,
   "metadata": {
    "colab": {
     "base_uri": "https://localhost:8080/"
    },
    "id": "zJsNaIi9dwUb",
    "outputId": "769b5682-61a9-4e20-a5d3-a0fdc84ce8c1"
   },
   "outputs": [
    {
     "name": "stderr",
     "output_type": "stream",
     "text": [
      "Some weights of RobertaModel were not initialized from the model checkpoint at roberta-large and are newly initialized: ['pooler.dense.bias', 'pooler.dense.weight']\n",
      "You should probably TRAIN this model on a down-stream task to be able to use it for predictions and inference.\n"
     ]
    },
    {
     "name": "stdout",
     "output_type": "stream",
     "text": [
      "\n",
      "Prompt Type: general\n",
      "ROUGE-1: 0.3620\n",
      "ROUGE-2: 0.1498\n",
      "ROUGE-L: 0.3113\n",
      "BERTScore-F1: 0.8934\n"
     ]
    },
    {
     "name": "stderr",
     "output_type": "stream",
     "text": [
      "Some weights of RobertaModel were not initialized from the model checkpoint at roberta-large and are newly initialized: ['pooler.dense.bias', 'pooler.dense.weight']\n",
      "You should probably TRAIN this model on a down-stream task to be able to use it for predictions and inference.\n"
     ]
    },
    {
     "name": "stdout",
     "output_type": "stream",
     "text": [
      "\n",
      "Prompt Type: diagnosis\n",
      "ROUGE-1: 0.3590\n",
      "ROUGE-2: 0.1456\n",
      "ROUGE-L: 0.3078\n",
      "BERTScore-F1: 0.8922\n"
     ]
    },
    {
     "name": "stderr",
     "output_type": "stream",
     "text": [
      "Some weights of RobertaModel were not initialized from the model checkpoint at roberta-large and are newly initialized: ['pooler.dense.bias', 'pooler.dense.weight']\n",
      "You should probably TRAIN this model on a down-stream task to be able to use it for predictions and inference.\n"
     ]
    },
    {
     "name": "stdout",
     "output_type": "stream",
     "text": [
      "\n",
      "Prompt Type: psychological\n",
      "ROUGE-1: 0.3570\n",
      "ROUGE-2: 0.1466\n",
      "ROUGE-L: 0.3107\n",
      "BERTScore-F1: 0.8930\n"
     ]
    },
    {
     "name": "stderr",
     "output_type": "stream",
     "text": [
      "Some weights of RobertaModel were not initialized from the model checkpoint at roberta-large and are newly initialized: ['pooler.dense.bias', 'pooler.dense.weight']\n",
      "You should probably TRAIN this model on a down-stream task to be able to use it for predictions and inference.\n"
     ]
    },
    {
     "name": "stdout",
     "output_type": "stream",
     "text": [
      "\n",
      "Prompt Type: medication\n",
      "ROUGE-1: 0.3189\n",
      "ROUGE-2: 0.1200\n",
      "ROUGE-L: 0.2733\n",
      "BERTScore-F1: 0.8861\n"
     ]
    }
   ],
   "source": [
    "# Step 4: Perform evaluation with different prompt types\n",
    "\n",
    "results = []\n",
    "\n",
    "for prompt_type in [\"general\", \"diagnosis\", \"psychological\", \"medication\"]:\n",
    "    rouge_result, bert_f1 = evaluate_model(model, tokenizer, test_df, prompt_type=prompt_type)\n",
    "    results.append({\n",
    "        \"Prompt Type\": prompt_type,\n",
    "        \"ROUGE-1\": rouge_result[\"rouge1\"],\n",
    "        \"ROUGE-2\": rouge_result[\"rouge2\"],\n",
    "        \"ROUGE-L\": rouge_result[\"rougeL\"],\n",
    "        \"BERTScore-F1\": bert_f1\n",
    "    })\n",
    "    print(f\"\\nPrompt Type: {prompt_type}\")\n",
    "    print(f\"ROUGE-1: {rouge_result['rouge1']:.4f}\")\n",
    "    print(f\"ROUGE-2: {rouge_result['rouge2']:.4f}\")\n",
    "    print(f\"ROUGE-L: {rouge_result['rougeL']:.4f}\")\n",
    "    print(f\"BERTScore-F1: {bert_f1:.4f}\")\n",
    "\n",
    "# Convert results to DataFrame\n",
    "df_results = pd.DataFrame(results)"
   ]
  },
  {
   "cell_type": "code",
   "execution_count": null,
   "metadata": {
    "colab": {
     "base_uri": "https://localhost:8080/",
     "height": 1000
    },
    "id": "0HbHUgE1dpxU",
    "outputId": "c247f110-1397-42e6-947d-018c2e43d198"
   },
   "outputs": [
    {
     "data": {
      "image/png": "[encoded data removed]",
      "text/plain": [
       "<Figure size 1000x600 with 1 Axes>"
      ]
     },
     "metadata": {},
     "output_type": "display_data"
    },
    {
     "data": {
      "image/png": "[encoded data removed]",
      "text/plain": [
       "<Figure size 1000x600 with 1 Axes>"
      ]
     },
     "metadata": {},
     "output_type": "display_data"
    }
   ],
   "source": [
    "# Visualization 1: Grouped Bar Plot (comparison across metrics)\n",
    "df_results.set_index(\"Prompt Type\")[[\"ROUGE-1\", \"ROUGE-2\", \"ROUGE-L\", \"BERTScore-F1\"]].plot(\n",
    "    kind=\"bar\", figsize=(10,6), width=0.8\n",
    ")\n",
    "plt.title(\"Evaluation Metrics by Prompt Type\")\n",
    "plt.ylabel(\"Score\")\n",
    "plt.xticks(rotation=0)\n",
    "plt.legend(title=\"Metric\")\n",
    "plt.tight_layout()\n",
    "plt.savefig(\"prompt_type_evaluation.png\")\n",
    "plt.show()\n",
    "\n",
    "# Visualization 2: Line Plot (trend across prompt types)\n",
    "df_results.set_index(\"Prompt Type\")[[\"ROUGE-1\", \"ROUGE-2\", \"ROUGE-L\", \"BERTScore-F1\"]].plot(\n",
    "    kind=\"line\", marker=\"o\", figsize=(10,6)\n",
    ")\n",
    "plt.title(\"Metric Trends Across Prompt Types\")\n",
    "plt.ylabel(\"Score\")\n",
    "plt.xticks(rotation=0)\n",
    "plt.grid(True, linestyle=\"--\", alpha=0.6)\n",
    "plt.tight_layout()\n",
    "plt.savefig(\"prompt_type_trends.png\")\n",
    "plt.show()"
   ]
  },
  {
   "cell_type": "code",
   "execution_count": null,
   "metadata": {
    "colab": {
     "base_uri": "https://localhost:8080/"
    },
    "id": "SHdBXjrCUs9g",
    "outputId": "dd1f4010-17b1-4e6b-940d-6d51f008443f"
   },
   "outputs": [
    {
     "name": "stdout",
     "output_type": "stream",
     "text": [
      "\n",
      "Telehealth Assistant is ready.\n",
      "Please choose a prompt mode:\n",
      "1 - General\n",
      "2 - Diagnosis\n",
      "3 - Psychological\n",
      "4 - Medication\n",
      "Enter mode number (1-4): 1\n",
      "\n",
      "Prompt mode set to [GENERAL]. Type 'exit' to quit.\n",
      "\n",
      "Patient: Hey Doc, I’ve been sneezing nonstop, do you think it’s just allergies?\n",
      "Doctor: it may be allergies. Stay hydrated, use antihistamines if needed, and monitor symptoms. Seek care if symptoms persist or worsen. \n",
      "\n",
      "Patient: I’ve had a cough and low-grade fever for three days. Should I be worried?\n",
      "Doctor: this may be a mild viral infection. Rest, hydrate, and monitor. Seek care if symptoms worsen or persist. \n",
      "\n",
      "Patient: I just twisted my ankle while jogging. It’s swollen but not bruised, should I get an X-ray?\n",
      "Doctor: swollen ankle. Rest, ice, compression, and compression may help. Seek medical attention if swelling worsens, blisters, or is severe. \n",
      "\n",
      "Patient: Is it okay to exercise if I have a cold?\n",
      "Doctor: if you are not able to exercise, rest, hydrate, and monitor symptoms. If symptoms persist, we will consider antihistamines or physical therapy. \n",
      "\n",
      "Patient: I have a sore throat and mild fever. What should I do?\n",
      "Doctor: rest, hydrate, and monitor. Seek care if symptoms worsen. \n",
      "\n",
      "Patient: exit\n",
      "Thank you. Stay healthy!\n"
     ]
    }
   ],
   "source": [
    "# Step 5: Interactive Chat with the model\n",
    "def chat_with_model(model, tokenizer):\n",
    "    print(\"\\nTelehealth Assistant is ready.\")\n",
    "    print(\"Please choose a prompt mode:\")\n",
    "    print(\"1 - General\")\n",
    "    print(\"2 - Diagnosis\")\n",
    "    print(\"3 - Psychological\")\n",
    "    print(\"4 - Medication\")\n",
    "\n",
    "    mode_map = {\n",
    "        \"1\": \"general\",\n",
    "        \"2\": \"diagnosis\",\n",
    "        \"3\": \"psychological\",\n",
    "        \"4\": \"medication\"\n",
    "    }\n",
    "\n",
    "    mode = input(\"Enter mode number (1-4): \").strip()\n",
    "    prompt_type = mode_map.get(mode, \"general\")  # default to general\n",
    "\n",
    "    print(f\"\\nPrompt mode set to [{prompt_type.upper()}]. Type 'exit' to quit.\\n\")\n",
    "\n",
    "    while True:\n",
    "        user_input = input(\"Patient: \").strip()\n",
    "        if user_input.lower() == \"exit\":\n",
    "            print(\"Thank you. Stay healthy!\")\n",
    "            break\n",
    "        doctor_reply = generate_answer(user_input, model, tokenizer, prompt_type=prompt_type)\n",
    "        print(\"Doctor:\", doctor_reply, \"\\n\")\n",
    "\n",
    "# Start the chat system\n",
    "chat_with_model(model, tokenizer)"
   ]
  },
  {
   "cell_type": "code",
   "execution_count": 1,
   "metadata": {},
   "outputs": [
    {
     "name": "stderr",
     "output_type": "stream",
     "text": [
      "[NbConvertApp] Converting notebook Model_FAQ_Telehealth_Flan_T5_Base_OhWenChi.ipynb to pdf\n",
      "[NbConvertApp] Support files will be in Model_FAQ_Telehealth_Flan_T5_Base_OhWenChi_files\\\n",
      "[NbConvertApp] Making directory .\\Model_FAQ_Telehealth_Flan_T5_Base_OhWenChi_files\n",
      "[NbConvertApp] Writing 94047 bytes to notebook.tex\n",
      "[NbConvertApp] Building PDF\n",
      "[NbConvertApp] Running xelatex 3 times: ['xelatex', 'notebook.tex', '-quiet']\n",
      "[NbConvertApp] Running bibtex 1 time: ['bibtex', 'notebook']\n",
      "[NbConvertApp] WARNING | b had problems, most likely because there were no citations\n",
      "[NbConvertApp] PDF successfully created\n",
      "[NbConvertApp] Writing 185135 bytes to Model_FAQ_Telehealth_Flan_T5_Base_OhWenChi.pdf\n"
     ]
    }
   ],
   "source": [
    "!jupyter nbconvert --to pdf Model_FAQ_Telehealth_Flan_T5_Base_OhWenChi.ipynb"
   ]
  },
  {
   "cell_type": "code",
   "execution_count": null,
   "metadata": {},
   "outputs": [],
   "source": []
  }
 ],
 "metadata": {
  "accelerator": "GPU",
  "colab": {
   "gpuType": "T4",
   "provenance": []
  },
  "kernelspec": {
   "display_name": "Python [conda env:base] *",
   "language": "python",
   "name": "conda-base-py"
  },
  "language_info": {
   "codemirror_mode": {
    "name": "ipython",
    "version": 3
   },
   "file_extension": ".py",
   "mimetype": "text/x-python",
   "name": "python",
   "nbconvert_exporter": "python",
   "pygments_lexer": "ipython3",
   "version": "3.12.7"
  }
 },
 "nbformat": 4,
 "nbformat_minor": 4
}
