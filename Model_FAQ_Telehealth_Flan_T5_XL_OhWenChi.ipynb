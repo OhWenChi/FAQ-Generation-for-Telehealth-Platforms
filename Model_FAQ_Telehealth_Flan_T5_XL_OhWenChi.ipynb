{
 "cells": [
  {
   "cell_type": "code",
   "execution_count": null,
   "metadata": {
    "colab": {
     "base_uri": "https://localhost:8080/"
    },
    "id": "PGNYVZ2MmS8W",
    "outputId": "9109725e-97fd-48d1-d2ed-1233def9bed7"
   },
   "outputs": [
    {
     "name": "stdout",
     "output_type": "stream",
     "text": [
      "Requirement already satisfied: transformers in /usr/local/lib/python3.12/dist-packages (4.56.0)\n",
      "Requirement already satisfied: datasets in /usr/local/lib/python3.12/dist-packages (4.0.0)\n",
      "Collecting evaluate\n",
      "  Downloading evaluate-0.4.5-py3-none-any.whl.metadata (9.5 kB)\n",
      "Requirement already satisfied: peft in /usr/local/lib/python3.12/dist-packages (0.17.1)\n",
      "Requirement already satisfied: accelerate in /usr/local/lib/python3.12/dist-packages (1.10.1)\n",
      "Collecting bitsandbytes\n",
      "  Downloading bitsandbytes-0.47.0-py3-none-manylinux_2_24_x86_64.whl.metadata (11 kB)\n",
      "Requirement already satisfied: filelock in /usr/local/lib/python3.12/dist-packages (from transformers) (3.19.1)\n",
      "Requirement already satisfied: huggingface-hub<1.0,>=0.34.0 in /usr/local/lib/python3.12/dist-packages (from transformers) (0.34.4)\n",
      "Requirement already satisfied: numpy>=1.17 in /usr/local/lib/python3.12/dist-packages (from transformers) (2.0.2)\n",
      "Requirement already satisfied: packaging>=20.0 in /usr/local/lib/python3.12/dist-packages (from transformers) (25.0)\n",
      "Requirement already satisfied: pyyaml>=5.1 in /usr/local/lib/python3.12/dist-packages (from transformers) (6.0.2)\n",
      "Requirement already satisfied: regex!=2019.12.17 in /usr/local/lib/python3.12/dist-packages (from transformers) (2024.11.6)\n",
      "Requirement already satisfied: requests in /usr/local/lib/python3.12/dist-packages (from transformers) (2.32.4)\n",
      "Requirement already satisfied: tokenizers<=0.23.0,>=0.22.0 in /usr/local/lib/python3.12/dist-packages (from transformers) (0.22.0)\n",
      "Requirement already satisfied: safetensors>=0.4.3 in /usr/local/lib/python3.12/dist-packages (from transformers) (0.6.2)\n",
      "Requirement already satisfied: tqdm>=4.27 in /usr/local/lib/python3.12/dist-packages (from transformers) (4.67.1)\n",
      "Requirement already satisfied: pyarrow>=15.0.0 in /usr/local/lib/python3.12/dist-packages (from datasets) (18.1.0)\n",
      "Requirement already satisfied: dill<0.3.9,>=0.3.0 in /usr/local/lib/python3.12/dist-packages (from datasets) (0.3.8)\n",
      "Requirement already satisfied: pandas in /usr/local/lib/python3.12/dist-packages (from datasets) (2.2.2)\n",
      "Requirement already satisfied: xxhash in /usr/local/lib/python3.12/dist-packages (from datasets) (3.5.0)\n",
      "Requirement already satisfied: multiprocess<0.70.17 in /usr/local/lib/python3.12/dist-packages (from datasets) (0.70.16)\n",
      "Requirement already satisfied: fsspec<=2025.3.0,>=2023.1.0 in /usr/local/lib/python3.12/dist-packages (from fsspec[http]<=2025.3.0,>=2023.1.0->datasets) (2025.3.0)\n",
      "Requirement already satisfied: psutil in /usr/local/lib/python3.12/dist-packages (from peft) (5.9.5)\n",
      "Requirement already satisfied: torch>=1.13.0 in /usr/local/lib/python3.12/dist-packages (from peft) (2.8.0+cu126)\n",
      "Requirement already satisfied: aiohttp!=4.0.0a0,!=4.0.0a1 in /usr/local/lib/python3.12/dist-packages (from fsspec[http]<=2025.3.0,>=2023.1.0->datasets) (3.12.15)\n",
      "Requirement already satisfied: typing-extensions>=3.7.4.3 in /usr/local/lib/python3.12/dist-packages (from huggingface-hub<1.0,>=0.34.0->transformers) (4.15.0)\n",
      "Requirement already satisfied: hf-xet<2.0.0,>=1.1.3 in /usr/local/lib/python3.12/dist-packages (from huggingface-hub<1.0,>=0.34.0->transformers) (1.1.9)\n",
      "Requirement already satisfied: charset_normalizer<4,>=2 in /usr/local/lib/python3.12/dist-packages (from requests->transformers) (3.4.3)\n",
      "Requirement already satisfied: idna<4,>=2.5 in /usr/local/lib/python3.12/dist-packages (from requests->transformers) (3.10)\n",
      "Requirement already satisfied: urllib3<3,>=1.21.1 in /usr/local/lib/python3.12/dist-packages (from requests->transformers) (2.5.0)\n",
      "Requirement already satisfied: certifi>=2017.4.17 in /usr/local/lib/python3.12/dist-packages (from requests->transformers) (2025.8.3)\n",
      "Requirement already satisfied: setuptools in /usr/local/lib/python3.12/dist-packages (from torch>=1.13.0->peft) (75.2.0)\n",
      "Requirement already satisfied: sympy>=1.13.3 in /usr/local/lib/python3.12/dist-packages (from torch>=1.13.0->peft) (1.13.3)\n",
      "Requirement already satisfied: networkx in /usr/local/lib/python3.12/dist-packages (from torch>=1.13.0->peft) (3.5)\n",
      "Requirement already satisfied: jinja2 in /usr/local/lib/python3.12/dist-packages (from torch>=1.13.0->peft) (3.1.6)\n",
      "Requirement already satisfied: nvidia-cuda-nvrtc-cu12==12.6.77 in /usr/local/lib/python3.12/dist-packages (from torch>=1.13.0->peft) (12.6.77)\n",
      "Requirement already satisfied: nvidia-cuda-runtime-cu12==12.6.77 in /usr/local/lib/python3.12/dist-packages (from torch>=1.13.0->peft) (12.6.77)\n",
      "Requirement already satisfied: nvidia-cuda-cupti-cu12==12.6.80 in /usr/local/lib/python3.12/dist-packages (from torch>=1.13.0->peft) (12.6.80)\n",
      "Requirement already satisfied: nvidia-cudnn-cu12==9.10.2.21 in /usr/local/lib/python3.12/dist-packages (from torch>=1.13.0->peft) (9.10.2.21)\n",
      "Requirement already satisfied: nvidia-cublas-cu12==12.6.4.1 in /usr/local/lib/python3.12/dist-packages (from torch>=1.13.0->peft) (12.6.4.1)\n",
      "Requirement already satisfied: nvidia-cufft-cu12==11.3.0.4 in /usr/local/lib/python3.12/dist-packages (from torch>=1.13.0->peft) (11.3.0.4)\n",
      "Requirement already satisfied: nvidia-curand-cu12==10.3.7.77 in /usr/local/lib/python3.12/dist-packages (from torch>=1.13.0->peft) (10.3.7.77)\n",
      "Requirement already satisfied: nvidia-cusolver-cu12==11.7.1.2 in /usr/local/lib/python3.12/dist-packages (from torch>=1.13.0->peft) (11.7.1.2)\n",
      "Requirement already satisfied: nvidia-cusparse-cu12==12.5.4.2 in /usr/local/lib/python3.12/dist-packages (from torch>=1.13.0->peft) (12.5.4.2)\n",
      "Requirement already satisfied: nvidia-cusparselt-cu12==0.7.1 in /usr/local/lib/python3.12/dist-packages (from torch>=1.13.0->peft) (0.7.1)\n",
      "Requirement already satisfied: nvidia-nccl-cu12==2.27.3 in /usr/local/lib/python3.12/dist-packages (from torch>=1.13.0->peft) (2.27.3)\n",
      "Requirement already satisfied: nvidia-nvtx-cu12==12.6.77 in /usr/local/lib/python3.12/dist-packages (from torch>=1.13.0->peft) (12.6.77)\n",
      "Requirement already satisfied: nvidia-nvjitlink-cu12==12.6.85 in /usr/local/lib/python3.12/dist-packages (from torch>=1.13.0->peft) (12.6.85)\n",
      "Requirement already satisfied: nvidia-cufile-cu12==1.11.1.6 in /usr/local/lib/python3.12/dist-packages (from torch>=1.13.0->peft) (1.11.1.6)\n",
      "Requirement already satisfied: triton==3.4.0 in /usr/local/lib/python3.12/dist-packages (from torch>=1.13.0->peft) (3.4.0)\n",
      "Requirement already satisfied: python-dateutil>=2.8.2 in /usr/local/lib/python3.12/dist-packages (from pandas->datasets) (2.9.0.post0)\n",
      "Requirement already satisfied: pytz>=2020.1 in /usr/local/lib/python3.12/dist-packages (from pandas->datasets) (2025.2)\n",
      "Requirement already satisfied: tzdata>=2022.7 in /usr/local/lib/python3.12/dist-packages (from pandas->datasets) (2025.2)\n",
      "Requirement already satisfied: aiohappyeyeballs>=2.5.0 in /usr/local/lib/python3.12/dist-packages (from aiohttp!=4.0.0a0,!=4.0.0a1->fsspec[http]<=2025.3.0,>=2023.1.0->datasets) (2.6.1)\n",
      "Requirement already satisfied: aiosignal>=1.4.0 in /usr/local/lib/python3.12/dist-packages (from aiohttp!=4.0.0a0,!=4.0.0a1->fsspec[http]<=2025.3.0,>=2023.1.0->datasets) (1.4.0)\n",
      "Requirement already satisfied: attrs>=17.3.0 in /usr/local/lib/python3.12/dist-packages (from aiohttp!=4.0.0a0,!=4.0.0a1->fsspec[http]<=2025.3.0,>=2023.1.0->datasets) (25.3.0)\n",
      "Requirement already satisfied: frozenlist>=1.1.1 in /usr/local/lib/python3.12/dist-packages (from aiohttp!=4.0.0a0,!=4.0.0a1->fsspec[http]<=2025.3.0,>=2023.1.0->datasets) (1.7.0)\n",
      "Requirement already satisfied: multidict<7.0,>=4.5 in /usr/local/lib/python3.12/dist-packages (from aiohttp!=4.0.0a0,!=4.0.0a1->fsspec[http]<=2025.3.0,>=2023.1.0->datasets) (6.6.4)\n",
      "Requirement already satisfied: propcache>=0.2.0 in /usr/local/lib/python3.12/dist-packages (from aiohttp!=4.0.0a0,!=4.0.0a1->fsspec[http]<=2025.3.0,>=2023.1.0->datasets) (0.3.2)\n",
      "Requirement already satisfied: yarl<2.0,>=1.17.0 in /usr/local/lib/python3.12/dist-packages (from aiohttp!=4.0.0a0,!=4.0.0a1->fsspec[http]<=2025.3.0,>=2023.1.0->datasets) (1.20.1)\n",
      "Requirement already satisfied: six>=1.5 in /usr/local/lib/python3.12/dist-packages (from python-dateutil>=2.8.2->pandas->datasets) (1.17.0)\n",
      "Requirement already satisfied: mpmath<1.4,>=1.1.0 in /usr/local/lib/python3.12/dist-packages (from sympy>=1.13.3->torch>=1.13.0->peft) (1.3.0)\n",
      "Requirement already satisfied: MarkupSafe>=2.0 in /usr/local/lib/python3.12/dist-packages (from jinja2->torch>=1.13.0->peft) (3.0.2)\n",
      "Downloading evaluate-0.4.5-py3-none-any.whl (84 kB)\n",
      "\u001b[2K   \u001b[90m━━━━━━━━━━━━━━━━━━━━━━━━━━━━━━━━━━━━━━━━\u001b[0m \u001b[32m84.1/84.1 kB\u001b[0m \u001b[31m5.1 MB/s\u001b[0m eta \u001b[36m0:00:00\u001b[0m\n",
      "\u001b[?25hDownloading bitsandbytes-0.47.0-py3-none-manylinux_2_24_x86_64.whl (61.3 MB)\n",
      "\u001b[2K   \u001b[90m━━━━━━━━━━━━━━━━━━━━━━━━━━━━━━━━━━━━━━━━\u001b[0m \u001b[32m61.3/61.3 MB\u001b[0m \u001b[31m15.5 MB/s\u001b[0m eta \u001b[36m0:00:00\u001b[0m\n",
      "\u001b[?25hInstalling collected packages: bitsandbytes, evaluate\n",
      "Successfully installed bitsandbytes-0.47.0 evaluate-0.4.5\n"
     ]
    }
   ],
   "source": [
    "!pip install transformers datasets evaluate peft accelerate bitsandbytes"
   ]
  },
  {
   "cell_type": "code",
   "execution_count": null,
   "metadata": {
    "colab": {
     "base_uri": "https://localhost:8080/"
    },
    "id": "NWkc_C_ymWYf",
    "outputId": "5e5f1516-6083-4a16-f0ce-fafce2d3a2ae"
   },
   "outputs": [
    {
     "name": "stdout",
     "output_type": "stream",
     "text": [
      "Collecting rouge_score\n",
      "  Downloading rouge_score-0.1.2.tar.gz (17 kB)\n",
      "  Preparing metadata (setup.py) ... \u001b[?25l\u001b[?25hdone\n",
      "Requirement already satisfied: absl-py in /usr/local/lib/python3.12/dist-packages (from rouge_score) (1.4.0)\n",
      "Requirement already satisfied: nltk in /usr/local/lib/python3.12/dist-packages (from rouge_score) (3.9.1)\n",
      "Requirement already satisfied: numpy in /usr/local/lib/python3.12/dist-packages (from rouge_score) (2.0.2)\n",
      "Requirement already satisfied: six>=1.14.0 in /usr/local/lib/python3.12/dist-packages (from rouge_score) (1.17.0)\n",
      "Requirement already satisfied: click in /usr/local/lib/python3.12/dist-packages (from nltk->rouge_score) (8.2.1)\n",
      "Requirement already satisfied: joblib in /usr/local/lib/python3.12/dist-packages (from nltk->rouge_score) (1.5.2)\n",
      "Requirement already satisfied: regex>=2021.8.3 in /usr/local/lib/python3.12/dist-packages (from nltk->rouge_score) (2024.11.6)\n",
      "Requirement already satisfied: tqdm in /usr/local/lib/python3.12/dist-packages (from nltk->rouge_score) (4.67.1)\n",
      "Building wheels for collected packages: rouge_score\n",
      "  Building wheel for rouge_score (setup.py) ... \u001b[?25l\u001b[?25hdone\n",
      "  Created wheel for rouge_score: filename=rouge_score-0.1.2-py3-none-any.whl size=24934 sha256=2ea14628152fffa6def46df4675e4a79f828267942087a9527d1aea25efc7db8\n",
      "  Stored in directory: /root/.cache/pip/wheels/85/9d/af/01feefbe7d55ef5468796f0c68225b6788e85d9d0a281e7a70\n",
      "Successfully built rouge_score\n",
      "Installing collected packages: rouge_score\n",
      "Successfully installed rouge_score-0.1.2\n"
     ]
    }
   ],
   "source": [
    "!pip install rouge_score"
   ]
  },
  {
   "cell_type": "code",
   "execution_count": null,
   "metadata": {
    "colab": {
     "base_uri": "https://localhost:8080/"
    },
    "id": "f4eNYGZ7maPv",
    "outputId": "821feec7-46ff-4ba0-a135-a18b08376210"
   },
   "outputs": [
    {
     "name": "stdout",
     "output_type": "stream",
     "text": [
      "Collecting bert_score\n",
      "  Downloading bert_score-0.3.13-py3-none-any.whl.metadata (15 kB)\n",
      "Requirement already satisfied: torch>=1.0.0 in /usr/local/lib/python3.12/dist-packages (from bert_score) (2.8.0+cu126)\n",
      "Requirement already satisfied: pandas>=1.0.1 in /usr/local/lib/python3.12/dist-packages (from bert_score) (2.2.2)\n",
      "Requirement already satisfied: transformers>=3.0.0 in /usr/local/lib/python3.12/dist-packages (from bert_score) (4.56.0)\n",
      "Requirement already satisfied: numpy in /usr/local/lib/python3.12/dist-packages (from bert_score) (2.0.2)\n",
      "Requirement already satisfied: requests in /usr/local/lib/python3.12/dist-packages (from bert_score) (2.32.4)\n",
      "Requirement already satisfied: tqdm>=4.31.1 in /usr/local/lib/python3.12/dist-packages (from bert_score) (4.67.1)\n",
      "Requirement already satisfied: matplotlib in /usr/local/lib/python3.12/dist-packages (from bert_score) (3.10.0)\n",
      "Requirement already satisfied: packaging>=20.9 in /usr/local/lib/python3.12/dist-packages (from bert_score) (25.0)\n",
      "Requirement already satisfied: python-dateutil>=2.8.2 in /usr/local/lib/python3.12/dist-packages (from pandas>=1.0.1->bert_score) (2.9.0.post0)\n",
      "Requirement already satisfied: pytz>=2020.1 in /usr/local/lib/python3.12/dist-packages (from pandas>=1.0.1->bert_score) (2025.2)\n",
      "Requirement already satisfied: tzdata>=2022.7 in /usr/local/lib/python3.12/dist-packages (from pandas>=1.0.1->bert_score) (2025.2)\n",
      "Requirement already satisfied: filelock in /usr/local/lib/python3.12/dist-packages (from torch>=1.0.0->bert_score) (3.19.1)\n",
      "Requirement already satisfied: typing-extensions>=4.10.0 in /usr/local/lib/python3.12/dist-packages (from torch>=1.0.0->bert_score) (4.15.0)\n",
      "Requirement already satisfied: setuptools in /usr/local/lib/python3.12/dist-packages (from torch>=1.0.0->bert_score) (75.2.0)\n",
      "Requirement already satisfied: sympy>=1.13.3 in /usr/local/lib/python3.12/dist-packages (from torch>=1.0.0->bert_score) (1.13.3)\n",
      "Requirement already satisfied: networkx in /usr/local/lib/python3.12/dist-packages (from torch>=1.0.0->bert_score) (3.5)\n",
      "Requirement already satisfied: jinja2 in /usr/local/lib/python3.12/dist-packages (from torch>=1.0.0->bert_score) (3.1.6)\n",
      "Requirement already satisfied: fsspec in /usr/local/lib/python3.12/dist-packages (from torch>=1.0.0->bert_score) (2025.3.0)\n",
      "Requirement already satisfied: nvidia-cuda-nvrtc-cu12==12.6.77 in /usr/local/lib/python3.12/dist-packages (from torch>=1.0.0->bert_score) (12.6.77)\n",
      "Requirement already satisfied: nvidia-cuda-runtime-cu12==12.6.77 in /usr/local/lib/python3.12/dist-packages (from torch>=1.0.0->bert_score) (12.6.77)\n",
      "Requirement already satisfied: nvidia-cuda-cupti-cu12==12.6.80 in /usr/local/lib/python3.12/dist-packages (from torch>=1.0.0->bert_score) (12.6.80)\n",
      "Requirement already satisfied: nvidia-cudnn-cu12==9.10.2.21 in /usr/local/lib/python3.12/dist-packages (from torch>=1.0.0->bert_score) (9.10.2.21)\n",
      "Requirement already satisfied: nvidia-cublas-cu12==12.6.4.1 in /usr/local/lib/python3.12/dist-packages (from torch>=1.0.0->bert_score) (12.6.4.1)\n",
      "Requirement already satisfied: nvidia-cufft-cu12==11.3.0.4 in /usr/local/lib/python3.12/dist-packages (from torch>=1.0.0->bert_score) (11.3.0.4)\n",
      "Requirement already satisfied: nvidia-curand-cu12==10.3.7.77 in /usr/local/lib/python3.12/dist-packages (from torch>=1.0.0->bert_score) (10.3.7.77)\n",
      "Requirement already satisfied: nvidia-cusolver-cu12==11.7.1.2 in /usr/local/lib/python3.12/dist-packages (from torch>=1.0.0->bert_score) (11.7.1.2)\n",
      "Requirement already satisfied: nvidia-cusparse-cu12==12.5.4.2 in /usr/local/lib/python3.12/dist-packages (from torch>=1.0.0->bert_score) (12.5.4.2)\n",
      "Requirement already satisfied: nvidia-cusparselt-cu12==0.7.1 in /usr/local/lib/python3.12/dist-packages (from torch>=1.0.0->bert_score) (0.7.1)\n",
      "Requirement already satisfied: nvidia-nccl-cu12==2.27.3 in /usr/local/lib/python3.12/dist-packages (from torch>=1.0.0->bert_score) (2.27.3)\n",
      "Requirement already satisfied: nvidia-nvtx-cu12==12.6.77 in /usr/local/lib/python3.12/dist-packages (from torch>=1.0.0->bert_score) (12.6.77)\n",
      "Requirement already satisfied: nvidia-nvjitlink-cu12==12.6.85 in /usr/local/lib/python3.12/dist-packages (from torch>=1.0.0->bert_score) (12.6.85)\n",
      "Requirement already satisfied: nvidia-cufile-cu12==1.11.1.6 in /usr/local/lib/python3.12/dist-packages (from torch>=1.0.0->bert_score) (1.11.1.6)\n",
      "Requirement already satisfied: triton==3.4.0 in /usr/local/lib/python3.12/dist-packages (from torch>=1.0.0->bert_score) (3.4.0)\n",
      "Requirement already satisfied: huggingface-hub<1.0,>=0.34.0 in /usr/local/lib/python3.12/dist-packages (from transformers>=3.0.0->bert_score) (0.34.4)\n",
      "Requirement already satisfied: pyyaml>=5.1 in /usr/local/lib/python3.12/dist-packages (from transformers>=3.0.0->bert_score) (6.0.2)\n",
      "Requirement already satisfied: regex!=2019.12.17 in /usr/local/lib/python3.12/dist-packages (from transformers>=3.0.0->bert_score) (2024.11.6)\n",
      "Requirement already satisfied: tokenizers<=0.23.0,>=0.22.0 in /usr/local/lib/python3.12/dist-packages (from transformers>=3.0.0->bert_score) (0.22.0)\n",
      "Requirement already satisfied: safetensors>=0.4.3 in /usr/local/lib/python3.12/dist-packages (from transformers>=3.0.0->bert_score) (0.6.2)\n",
      "Requirement already satisfied: contourpy>=1.0.1 in /usr/local/lib/python3.12/dist-packages (from matplotlib->bert_score) (1.3.3)\n",
      "Requirement already satisfied: cycler>=0.10 in /usr/local/lib/python3.12/dist-packages (from matplotlib->bert_score) (0.12.1)\n",
      "Requirement already satisfied: fonttools>=4.22.0 in /usr/local/lib/python3.12/dist-packages (from matplotlib->bert_score) (4.59.2)\n",
      "Requirement already satisfied: kiwisolver>=1.3.1 in /usr/local/lib/python3.12/dist-packages (from matplotlib->bert_score) (1.4.9)\n",
      "Requirement already satisfied: pillow>=8 in /usr/local/lib/python3.12/dist-packages (from matplotlib->bert_score) (11.3.0)\n",
      "Requirement already satisfied: pyparsing>=2.3.1 in /usr/local/lib/python3.12/dist-packages (from matplotlib->bert_score) (3.2.3)\n",
      "Requirement already satisfied: charset_normalizer<4,>=2 in /usr/local/lib/python3.12/dist-packages (from requests->bert_score) (3.4.3)\n",
      "Requirement already satisfied: idna<4,>=2.5 in /usr/local/lib/python3.12/dist-packages (from requests->bert_score) (3.10)\n",
      "Requirement already satisfied: urllib3<3,>=1.21.1 in /usr/local/lib/python3.12/dist-packages (from requests->bert_score) (2.5.0)\n",
      "Requirement already satisfied: certifi>=2017.4.17 in /usr/local/lib/python3.12/dist-packages (from requests->bert_score) (2025.8.3)\n",
      "Requirement already satisfied: hf-xet<2.0.0,>=1.1.3 in /usr/local/lib/python3.12/dist-packages (from huggingface-hub<1.0,>=0.34.0->transformers>=3.0.0->bert_score) (1.1.9)\n",
      "Requirement already satisfied: six>=1.5 in /usr/local/lib/python3.12/dist-packages (from python-dateutil>=2.8.2->pandas>=1.0.1->bert_score) (1.17.0)\n",
      "Requirement already satisfied: mpmath<1.4,>=1.1.0 in /usr/local/lib/python3.12/dist-packages (from sympy>=1.13.3->torch>=1.0.0->bert_score) (1.3.0)\n",
      "Requirement already satisfied: MarkupSafe>=2.0 in /usr/local/lib/python3.12/dist-packages (from jinja2->torch>=1.0.0->bert_score) (3.0.2)\n",
      "Downloading bert_score-0.3.13-py3-none-any.whl (61 kB)\n",
      "\u001b[2K   \u001b[90m━━━━━━━━━━━━━━━━━━━━━━━━━━━━━━━━━━━━━━━━\u001b[0m \u001b[32m61.1/61.1 kB\u001b[0m \u001b[31m5.5 MB/s\u001b[0m eta \u001b[36m0:00:00\u001b[0m\n",
      "\u001b[?25hInstalling collected packages: bert_score\n",
      "Successfully installed bert_score-0.3.13\n"
     ]
    }
   ],
   "source": [
    "!pip install bert_score"
   ]
  },
  {
   "cell_type": "code",
   "execution_count": null,
   "metadata": {
    "id": "e5HPa3ZxmaM2"
   },
   "outputs": [],
   "source": [
    "# FLAN-T5-XL + LoRA (PEFT)\n",
    "\n",
    "# Environment and cleanup\n",
    "import os, gc, random\n",
    "import numpy as np\n",
    "import torch\n",
    "\n",
    "# Helps reduce CUDA fragmentation spikes\n",
    "os.environ[\"PYTORCH_CUDA_ALLOC_CONF\"] = \"expandable_segments:True\"\n",
    "\n",
    "# Reproducibility\n",
    "SEED = 42\n",
    "random.seed(SEED); np.random.seed(SEED); torch.manual_seed(SEED)\n",
    "\n",
    "# If rerunning the cell, free stale objects first\n",
    "for n in [\"trainer\", \"model\", \"tokenizer\"]:\n",
    "    if n in globals():\n",
    "        try:\n",
    "            del globals()[n]\n",
    "        except:\n",
    "            pass\n",
    "gc.collect()\n",
    "if torch.cuda.is_available():\n",
    "    torch.cuda.empty_cache()\n",
    "\n",
    "assert torch.cuda.is_available(), \"This script expects a GPU (T4).\"\n",
    "device = torch.device(\"cuda\")"
   ]
  },
  {
   "cell_type": "code",
   "execution_count": null,
   "metadata": {
    "id": "pAuJA16bLYz3"
   },
   "outputs": [],
   "source": [
    "# STEP 1: Load and clean MedDialog dataset\n",
    "import json\n",
    "import pandas as pd\n",
    "from datasets import Dataset, DatasetDict\n",
    "from sklearn.model_selection import train_test_split\n",
    "\n",
    "def load_and_filter_dataset(path):\n",
    "    with open(path, \"r\") as f:\n",
    "        data = json.load(f)\n",
    "    cleaned = []\n",
    "    for entry in data:\n",
    "        utt = entry.get(\"utterances\", [])\n",
    "        if len(utt) < 2:\n",
    "            continue\n",
    "        patient = utt[0].replace(\"patient:\", \"\").strip()\n",
    "        doctor  = utt[1].replace(\"doctor:\", \"\").strip()\n",
    "        # Keep medium-length, clean answers\n",
    "        if 10 < len(doctor.split()) < 100:\n",
    "            prompt = (\n",
    "                \"You are a helpful telehealth doctor. Provide a short, clear response.\\n\"\n",
    "                f\"Patient: {patient}\\nDoctor:\"\n",
    "            )\n",
    "            cleaned.append({\"input\": prompt, \"output\": doctor})\n",
    "    return pd.DataFrame(cleaned)\n",
    "\n",
    "train_df = load_and_filter_dataset(\"english-train.json\")\n",
    "val_df   = load_and_filter_dataset(\"english-dev.json\")\n",
    "test_df  = load_and_filter_dataset(\"english-test.json\")\n",
    "\n",
    "# 20% of train - benchmark/eval split (train 1600, eval 401)\n",
    "train_df, benchmark_df = train_test_split(train_df, test_size=0.2, random_state=SEED)\n",
    "\n",
    "dataset = DatasetDict({\n",
    "    \"train\":     Dataset.from_pandas(train_df.reset_index(drop=True)),\n",
    "    \"benchmark\": Dataset.from_pandas(benchmark_df.reset_index(drop=True)),\n",
    "    \"test\":      Dataset.from_pandas(test_df.reset_index(drop=True)),\n",
    "})"
   ]
  },
  {
   "cell_type": "code",
   "execution_count": null,
   "metadata": {
    "colab": {
     "base_uri": "https://localhost:8080/"
    },
    "id": "B8_VrRuMLElG",
    "outputId": "58dff7e8-ed95-4d6e-dba6-6deba05e6ec1"
   },
   "outputs": [
    {
     "name": "stdout",
     "output_type": "stream",
     "text": [
      "Dataset Sizes\n",
      "Total samples before split (train.json): 2001\n",
      "Validation (dev.json): 142\n",
      "Test (test.json): 355\n",
      "\n",
      "After Split (train - train + benchmark)\n",
      "Train size: 1600\n",
      "Benchmark (20% of train): 401\n",
      "Validation (dev): 142\n",
      "Test size: 355\n",
      "\n",
      "Final\n",
      "Total samples before split: 2001\n",
      "Train size: 1600\n",
      "Eval size: 401\n",
      "Test size: 355\n"
     ]
    }
   ],
   "source": [
    "# After loading all datasets\n",
    "print(\"Dataset Sizes\")\n",
    "print(f\"Total samples before split (train.json): {len(load_and_filter_dataset('english-train.json'))}\")\n",
    "print(f\"Validation (dev.json): {len(val_df)}\")\n",
    "print(f\"Test (test.json): {len(test_df)}\")\n",
    "\n",
    "# Sizes after your 80/20 split\n",
    "print(\"\\nAfter Split (train - train + benchmark)\")\n",
    "print(f\"Train size: {len(train_df)}\")\n",
    "print(f\"Benchmark (20% of train): {len(benchmark_df)}\")\n",
    "print(f\"Validation (dev): {len(val_df)}\")\n",
    "print(f\"Test size: {len(test_df)}\")\n",
    "\n",
    "# Final\n",
    "print(\"\\nFinal\")\n",
    "print(f\"Total samples before split: {len(train_df) + len(benchmark_df)}\")\n",
    "print(f\"Train size: {len(train_df)}\")\n",
    "print(f\"Eval size: {len(benchmark_df)}\")\n",
    "print(f\"Test size: {len(test_df)}\")"
   ]
  },
  {
   "cell_type": "code",
   "execution_count": null,
   "metadata": {
    "colab": {
     "base_uri": "https://localhost:8080/",
     "height": 591,
     "referenced_widgets": [
      "3bf4e5897de747b78899cf4ccfcd1493",
      "e29b96ac6f0a49db8e066a7b779bf147",
      "87b5917e9cb14bbd8d70429c51e8961f",
      "9f0a1c8bf74a43e09c0a37be726d3594",
      "bc695dfbd037483584c8861274f8244f",
      "d91b291ff06340df814bfa68bbcdf10a",
      "3cf197c28f1c4b889a53c6414685a376",
      "89f79b4f0cc04989af340e86f75e7aa3",
      "be1b3d8279b74b1c80d7e75b9824b8b8",
      "9fb1475aabc94f36b2fa99ca1e5ccb23",
      "af6bad546c60435abe5a3c845ddb95f7",
      "37636fb786b547fba992263150444dda",
      "c0b351c8bcd947549568b9d31496b100",
      "41972f830cf34b3595d75da9cd229125",
      "e21e7e5ee4d041b8a66d6953e63c5e63",
      "b02f5c26526248df812e04f20ddeee65",
      "de641f6ac46640bc9d51a93010e16f27",
      "a107107751ec4262b6aacd2b1f592f71",
      "3e03d6ddbcc1401899f8b6e9316c8db8",
      "d1749bc8e3c3404caadab55c7f17d787",
      "d87d3c2c286643d9905d2f91466496ec",
      "feba3dceef7841d6ba2d9d29b2778d1d",
      "31433cb601b44e3c9de6421b64d64ede",
      "e730ff2c1d43422d9822e6eadc19f909",
      "4781baf45e1e4759b688f228d76693b3",
      "39444a8db852449ca0b340c81bba5a67",
      "335327dda2f840e99d1f1a2816f8b95a",
      "01bac149abbf410b910096c03df21d65",
      "d681a9ed271748a2b0f9f95605aa93cb",
      "c80be36fbdc1491ca895b349aa041a00",
      "11b433a120b640b48d3a4717b81eee3c",
      "4f26fa482ea5471eb91452130f12c505",
      "32a17d2949994a7b9db7b81c3e6f63eb",
      "92610bbefffd41488de440f1e4e4b8cf",
      "23564d0c98eb44ff8c3a4bea04356054",
      "2b0fbbe3b20941018c9d81a820ff353a",
      "1ec2c603585545ac8642142671970d45",
      "1223c914b21c4907a9744ea0745c5667",
      "261e5f4a278643b3b63679f47ba9b8da",
      "818ecd6697a4498fb10705b11fd9545e",
      "c27fb8a8d1524ceab18afc52f3f92a14",
      "c1fde0a91d0742c2b639898f9942ec66",
      "d5176234af324fddba943e6221da3fec",
      "fe1f478c2f314fb7b501b8eea82699ad",
      "fdb51bea308b4dc09f2facb5392d5e64",
      "5066499e54d24580b9b663d2f7883036",
      "ab06933915114565883e6d4c4473c043",
      "08b1d643efd4453e928551af1478d059",
      "371f0809053346f2908a28c66ce84cab",
      "ab11f506df4448909b80fdc199db2230",
      "1b7c0d8c31954204a48566c04c9e9779",
      "bbdbda586e2e4da18e37020a13ecdb72",
      "660ee76f0e4f43ceb3c40ddef5053ebf",
      "5e50cb7cca1246d3976cd7386d01a4b0",
      "6f58517467644f2096c134bf9447e307",
      "2a05cda7d90644b3b331bccca06e484f",
      "23c1aca14c57454986b576ad176fbb57",
      "b3c0e8ac3c5446e1afa3f5c976dc383f",
      "1bdddcf4aa2d4ba7b6694b3b24e2ff4c",
      "fee3f360c8a44a118795c0a8c948ea38",
      "332ab607964b41d9ac30177ed48ec8a0",
      "7ef8b3a4f6fa4743af7b187fdc584993",
      "56fe3c0b3975400dab2fb406a5b117b9",
      "a8b597bdfa984c7c9cc6a0ce02016483",
      "7da988f1e7cc4ab8962a861188a8a5d3",
      "f8d3944e50ec472a8c4a71d9dd4dd6cf",
      "e021722bf5e6467f911776e2d5db183f",
      "02a399b62853485b884c31c76389c3e2",
      "fbd8b9c5b5cd45e7b6e2d762e09dc79b",
      "cf588cad418e483dbd7c70279ef1fe7a",
      "0de134c549eb4e75a27e8daccb86591e",
      "3271e2002e4e4b6dba086f78cbdd3e73",
      "57d1048f2b594117ba656e3caa17bc18",
      "aad993f58c47412aafcc6a7f88a87ade",
      "33e2d53b68404d4bb4e219a478d1fe0a",
      "8a81cec6d2544b2380fac15711770cdc",
      "0a140134a91e4c41a636c22b2168874e"
     ]
    },
    "id": "9UJPtL_MmwHn",
    "outputId": "dc925f81-ba6e-467d-f2d1-2e1a1eadf74b"
   },
   "outputs": [
    {
     "name": "stderr",
     "output_type": "stream",
     "text": [
      "/usr/local/lib/python3.12/dist-packages/huggingface_hub/utils/_auth.py:94: UserWarning: \n",
      "The secret `HF_TOKEN` does not exist in your Colab secrets.\n",
      "To authenticate with the Hugging Face Hub, create a token in your settings tab (https://huggingface.co/settings/tokens), set it as secret in your Google Colab and restart your session.\n",
      "You will be able to reuse this secret in all of your notebooks.\n",
      "Please note that authentication is recommended but still optional to access public models or datasets.\n",
      "  warnings.warn(\n"
     ]
    },
    {
     "data": {
      "application/vnd.jupyter.widget-view+json": {
       "model_id": "3bf4e5897de747b78899cf4ccfcd1493",
       "version_major": 2,
       "version_minor": 0
      },
      "text/plain": [
       "tokenizer_config.json: 0.00B [00:00, ?B/s]"
      ]
     },
     "metadata": {},
     "output_type": "display_data"
    },
    {
     "data": {
      "application/vnd.jupyter.widget-view+json": {
       "model_id": "37636fb786b547fba992263150444dda",
       "version_major": 2,
       "version_minor": 0
      },
      "text/plain": [
       "spiece.model:   0%|          | 0.00/792k [00:00<?, ?B/s]"
      ]
     },
     "metadata": {},
     "output_type": "display_data"
    },
    {
     "data": {
      "application/vnd.jupyter.widget-view+json": {
       "model_id": "31433cb601b44e3c9de6421b64d64ede",
       "version_major": 2,
       "version_minor": 0
      },
      "text/plain": [
       "special_tokens_map.json: 0.00B [00:00, ?B/s]"
      ]
     },
     "metadata": {},
     "output_type": "display_data"
    },
    {
     "data": {
      "application/vnd.jupyter.widget-view+json": {
       "model_id": "92610bbefffd41488de440f1e4e4b8cf",
       "version_major": 2,
       "version_minor": 0
      },
      "text/plain": [
       "tokenizer.json: 0.00B [00:00, ?B/s]"
      ]
     },
     "metadata": {},
     "output_type": "display_data"
    },
    {
     "name": "stderr",
     "output_type": "stream",
     "text": [
      "You are using the default legacy behaviour of the <class 'transformers.models.t5.tokenization_t5.T5Tokenizer'>. This is expected, and simply means that the `legacy` (previous) behavior will be used so nothing changes for you. If you want to use the new behaviour, set `legacy=False`. This should only be set if you understand what it means, and thoroughly read the reason why this was added as explained in https://github.com/huggingface/transformers/pull/24565\n"
     ]
    },
    {
     "data": {
      "application/vnd.jupyter.widget-view+json": {
       "model_id": "fdb51bea308b4dc09f2facb5392d5e64",
       "version_major": 2,
       "version_minor": 0
      },
      "text/plain": [
       "Map (num_proc=2):   0%|          | 0/356 [00:00<?, ? examples/s]"
      ]
     },
     "metadata": {},
     "output_type": "display_data"
    },
    {
     "name": "stderr",
     "output_type": "stream",
     "text": [
      "/usr/local/lib/python3.12/dist-packages/transformers/tokenization_utils_base.py:4007: UserWarning: `as_target_tokenizer` is deprecated and will be removed in v5 of Transformers. You can tokenize your labels by using the argument `text_target` of the regular `__call__` method (either in the same call as your input texts if you use the same keyword arguments, or in a separate call.\n",
      "  warnings.warn(\n",
      "/usr/local/lib/python3.12/dist-packages/transformers/tokenization_utils_base.py:4007: UserWarning: `as_target_tokenizer` is deprecated and will be removed in v5 of Transformers. You can tokenize your labels by using the argument `text_target` of the regular `__call__` method (either in the same call as your input texts if you use the same keyword arguments, or in a separate call.\n",
      "  warnings.warn(\n"
     ]
    },
    {
     "data": {
      "application/vnd.jupyter.widget-view+json": {
       "model_id": "2a05cda7d90644b3b331bccca06e484f",
       "version_major": 2,
       "version_minor": 0
      },
      "text/plain": [
       "Map (num_proc=2):   0%|          | 0/89 [00:00<?, ? examples/s]"
      ]
     },
     "metadata": {},
     "output_type": "display_data"
    },
    {
     "name": "stderr",
     "output_type": "stream",
     "text": [
      "/usr/local/lib/python3.12/dist-packages/transformers/tokenization_utils_base.py:4007: UserWarning: `as_target_tokenizer` is deprecated and will be removed in v5 of Transformers. You can tokenize your labels by using the argument `text_target` of the regular `__call__` method (either in the same call as your input texts if you use the same keyword arguments, or in a separate call.\n",
      "  warnings.warn(\n",
      "/usr/local/lib/python3.12/dist-packages/transformers/tokenization_utils_base.py:4007: UserWarning: `as_target_tokenizer` is deprecated and will be removed in v5 of Transformers. You can tokenize your labels by using the argument `text_target` of the regular `__call__` method (either in the same call as your input texts if you use the same keyword arguments, or in a separate call.\n",
      "  warnings.warn(\n"
     ]
    },
    {
     "data": {
      "application/vnd.jupyter.widget-view+json": {
       "model_id": "e021722bf5e6467f911776e2d5db183f",
       "version_major": 2,
       "version_minor": 0
      },
      "text/plain": [
       "Map (num_proc=2):   0%|          | 0/52 [00:00<?, ? examples/s]"
      ]
     },
     "metadata": {},
     "output_type": "display_data"
    },
    {
     "name": "stderr",
     "output_type": "stream",
     "text": [
      "/usr/local/lib/python3.12/dist-packages/transformers/tokenization_utils_base.py:4007: UserWarning: `as_target_tokenizer` is deprecated and will be removed in v5 of Transformers. You can tokenize your labels by using the argument `text_target` of the regular `__call__` method (either in the same call as your input texts if you use the same keyword arguments, or in a separate call.\n",
      "  warnings.warn(\n",
      "/usr/local/lib/python3.12/dist-packages/transformers/tokenization_utils_base.py:4007: UserWarning: `as_target_tokenizer` is deprecated and will be removed in v5 of Transformers. You can tokenize your labels by using the argument `text_target` of the regular `__call__` method (either in the same call as your input texts if you use the same keyword arguments, or in a separate call.\n",
      "  warnings.warn(\n"
     ]
    }
   ],
   "source": [
    "# STEP 2: Tokenize data for flan-t5-xl\n",
    "from transformers import T5Tokenizer\n",
    "\n",
    "model_name = \"google/flan-t5-xl\"\n",
    "tokenizer  = T5Tokenizer.from_pretrained(model_name)\n",
    "\n",
    "# Runtime-friendly lengths\n",
    "INPUT_MAX_LEN  = 256\n",
    "TARGET_MAX_LEN = 96\n",
    "\n",
    "# Preprocessing\n",
    "def preprocess(batch):\n",
    "    # Encoder inputs\n",
    "    enc = tokenizer(\n",
    "        batch[\"input\"],\n",
    "        truncation=True,\n",
    "        max_length=INPUT_MAX_LEN,\n",
    "    )\n",
    "    # Decoder targets\n",
    "    with tokenizer.as_target_tokenizer():\n",
    "        dec = tokenizer(\n",
    "            batch[\"output\"],\n",
    "            truncation=True,\n",
    "            max_length=TARGET_MAX_LEN,\n",
    "        )\n",
    "    input_ids      = enc[\"input_ids\"]\n",
    "    attention_mask = enc[\"attention_mask\"]\n",
    "    labels         = dec[\"input_ids\"]\n",
    "    # Mask out padding tokens in labels\n",
    "    labels = [[tid if tid != tokenizer.pad_token_id else -100 for tid in seq] for seq in labels]\n",
    "    return {\n",
    "        \"input_ids\": input_ids,\n",
    "        \"attention_mask\": attention_mask,\n",
    "        \"labels\": labels\n",
    "    }\n",
    "\n",
    "# Map with multiprocessing for speed\n",
    "tokenized_dataset = dataset.map(\n",
    "    preprocess,\n",
    "    batched=True,\n",
    "    remove_columns=dataset[\"train\"].column_names,\n",
    "    num_proc=2\n",
    ")"
   ]
  },
  {
   "cell_type": "code",
   "execution_count": null,
   "metadata": {
    "colab": {
     "base_uri": "https://localhost:8080/",
     "height": 241,
     "referenced_widgets": [
      "0f443da648e44b73bf37dfa1c90b76b8",
      "906af5d2ab0f45b09dbd4cdff53d56fd",
      "aa8ded1d1cc44894b36debfe70ba1324",
      "3372649496594ce88fb7038db2c88ba0",
      "b4203a49618d4829bacb5dba41a44d1a",
      "6cf9dc86ab7449eab1684d4e5fee97e9",
      "4f4a93ce1d484d9ab3413ea80f7bf545",
      "09bb6c922dc04b5baf3cd5006084c41a",
      "edd0f08678444a1284a3e767ac874300",
      "2ecc8315f28947efb45b26e049bea0fd",
      "cac62474680246b6bc867f97e752563d",
      "cefdcd14ed0c4d9ba960e4d681962802",
      "bd79e383b0654963988db5aee26a6d87",
      "c97c0e79d3a1420a90ad536310b72922",
      "97b4be5979d3470fa0e05e4d41524ed8",
      "f17ab4aa083a448293a599a9a33e6be5",
      "87afc6a3815a420987280b83536c228c",
      "7bed8396b0024ff9af8e0286e7a97464",
      "abe9fe5d8b2e41c88c828e23a398a67f",
      "99c809d707394ed89fbcccfae6884cd9",
      "75e9ba9c7a414efd842f93a8350849a9",
      "2494b33a1ca14cb4be7af12e2dc408f5",
      "fb88a8fb54774108ac47489b6b19d373",
      "c3471228b84643939c06221d99d32331",
      "b0b888b1db7642cc95c7b76602cc0269",
      "230acff61ff5462db0de1bee8331cd61",
      "7bc0a1b7ee204779903ecec6f50b7d90",
      "50ce25565380414d8f7fc12af85719a1",
      "55938198abf543cfa680c371f122d538",
      "ed4348474df445feb49fd4fa5b30d9f3",
      "b67921fa9c8a4da8a616c8e12080ba0f",
      "dffe53800f4846c18aea674e7c6d6f12",
      "766f69eba44345a4a310764ba6e25802",
      "8a23eaad165e4ee1b0003ec17c432269",
      "d465f309c8414919a7e28f5756eeabaa",
      "680d209bff6a4454ba53c1f27d35b955",
      "b67ec58e6fe04056a95f857f0eb95e1c",
      "f2cf6fc023fd401a92492cdb5e1dd1ff",
      "ff683822d8b6400c87f9c2ebb68d07cc",
      "f878362c6dd2491c8927ce39b8c13fc0",
      "210f7e5959d740639925df6b285226bf",
      "75213d4b6f2343f3898f3785a3f7d00e",
      "faf99c8508a44f319511acb26adc35db",
      "6bf528e7b6f540c7bb62ebe888bc347a",
      "38f8bdc1e31a4032b7bfdbbd9f6c2dee",
      "762498c298d04e7680a629414a31be49",
      "e3cd0463313445beaf6218282501a655",
      "09fe6751a0cf40a588562a2364dab126",
      "027157eab72f4b9195840888b356e6db",
      "703d91ec846b4b0abf59aebac4aa970a",
      "aab87113eb09481bbdd27f42602e0a55",
      "75c3656bc9cf4fc1aa25e3caebf7aba9",
      "711297a4c283421585848f5adff0888f",
      "b1f080af4de4454794fce5be9903662b",
      "8b151dde81da437ea9f787488c5ab77c",
      "511e6834f4184af2b6a972b64bd1f9eb",
      "36954dffba7f4ebaa976c9ccf199da0c",
      "77ccafe2f7104e0a8df2d292243f7f2c",
      "9526b90c68f34783abc2d84810087207",
      "997d173522484105bbd889e6a9e720f0",
      "d55e166d86874b3995e73c20024607b5",
      "4357b08d8ff34a3ebb69300b894094a6",
      "63596ced1d624113b94140643bbc221a",
      "7c568ff0aefa4de1884c2312ae9ea89a",
      "03aa3c9dc19a4bc8bf7b0c92e26f73df",
      "6e09069851c24553bea487378c1e3ea5",
      "2c8d0f6bd82f49ffb1bcbf11483185ef",
      "771155aec1c44dbdbb38529db3649015",
      "eeab1785c81141698e65312fd1dbfe4f",
      "608e798d280a4419ae0df2f039c8e505",
      "89bcf6be93d242da8e5f9ea98988a30d",
      "7df3d58064d44f05bd464ffef7bc76d2",
      "fd93f7021fc4420ca90584a2bdeab523",
      "aac2a34137424b09b8f08b676f8c6d76",
      "065fcf8de21841da85f54461f9c123e6",
      "0b02d1cfaee14076a0278b6bb489108b",
      "77da62689c5c467cb08b168660fa9174"
     ]
    },
    "id": "mhbGOi7wm2ce",
    "outputId": "87ea08a2-01a0-48fe-a4dc-4384b9593c58"
   },
   "outputs": [
    {
     "data": {
      "application/vnd.jupyter.widget-view+json": {
       "model_id": "0f443da648e44b73bf37dfa1c90b76b8",
       "version_major": 2,
       "version_minor": 0
      },
      "text/plain": [
       "config.json: 0.00B [00:00, ?B/s]"
      ]
     },
     "metadata": {},
     "output_type": "display_data"
    },
    {
     "data": {
      "application/vnd.jupyter.widget-view+json": {
       "model_id": "cefdcd14ed0c4d9ba960e4d681962802",
       "version_major": 2,
       "version_minor": 0
      },
      "text/plain": [
       "model.safetensors.index.json: 0.00B [00:00, ?B/s]"
      ]
     },
     "metadata": {},
     "output_type": "display_data"
    },
    {
     "data": {
      "application/vnd.jupyter.widget-view+json": {
       "model_id": "fb88a8fb54774108ac47489b6b19d373",
       "version_major": 2,
       "version_minor": 0
      },
      "text/plain": [
       "Fetching 2 files:   0%|          | 0/2 [00:00<?, ?it/s]"
      ]
     },
     "metadata": {},
     "output_type": "display_data"
    },
    {
     "data": {
      "application/vnd.jupyter.widget-view+json": {
       "model_id": "8a23eaad165e4ee1b0003ec17c432269",
       "version_major": 2,
       "version_minor": 0
      },
      "text/plain": [
       "model-00001-of-00002.safetensors:   0%|          | 0.00/9.45G [00:00<?, ?B/s]"
      ]
     },
     "metadata": {},
     "output_type": "display_data"
    },
    {
     "data": {
      "application/vnd.jupyter.widget-view+json": {
       "model_id": "38f8bdc1e31a4032b7bfdbbd9f6c2dee",
       "version_major": 2,
       "version_minor": 0
      },
      "text/plain": [
       "model-00002-of-00002.safetensors:   0%|          | 0.00/1.95G [00:00<?, ?B/s]"
      ]
     },
     "metadata": {},
     "output_type": "display_data"
    },
    {
     "data": {
      "application/vnd.jupyter.widget-view+json": {
       "model_id": "511e6834f4184af2b6a972b64bd1f9eb",
       "version_major": 2,
       "version_minor": 0
      },
      "text/plain": [
       "Loading checkpoint shards:   0%|          | 0/2 [00:00<?, ?it/s]"
      ]
     },
     "metadata": {},
     "output_type": "display_data"
    },
    {
     "data": {
      "application/vnd.jupyter.widget-view+json": {
       "model_id": "2c8d0f6bd82f49ffb1bcbf11483185ef",
       "version_major": 2,
       "version_minor": 0
      },
      "text/plain": [
       "generation_config.json:   0%|          | 0.00/147 [00:00<?, ?B/s]"
      ]
     },
     "metadata": {},
     "output_type": "display_data"
    }
   ],
   "source": [
    "# Load model (4-bit) and add LoRA\n",
    "from transformers import T5ForConditionalGeneration, BitsAndBytesConfig\n",
    "from peft import get_peft_model, LoraConfig, TaskType\n",
    "\n",
    "bnb_config = BitsAndBytesConfig(\n",
    "    load_in_4bit=True,\n",
    "    bnb_4bit_compute_dtype=torch.float16,\n",
    "    bnb_4bit_use_double_quant=True,\n",
    "    bnb_4bit_quant_type=\"nf4\",\n",
    ")\n",
    "\n",
    "# Pin to GPU 0 to avoid offload validator issues\n",
    "model = T5ForConditionalGeneration.from_pretrained(\n",
    "    model_name,\n",
    "    quantization_config=bnb_config,\n",
    "    device_map={\"\": 0},\n",
    ")\n",
    "\n",
    "# STEP 3: Setup PEFT LoRA config\n",
    "lora_config = LoraConfig(\n",
    "    r=16,\n",
    "    lora_alpha=32,\n",
    "    lora_dropout=0.1,\n",
    "    target_modules=[\"q\", \"k\", \"v\", \"o\", \"wi\", \"wo\"],  # T5 proj/ffn modules\n",
    "    bias=\"none\",\n",
    "    task_type=TaskType.SEQ_2_SEQ_LM,\n",
    ")\n",
    "\n",
    "model = get_peft_model(model, lora_config)"
   ]
  },
  {
   "cell_type": "code",
   "execution_count": null,
   "metadata": {
    "colab": {
     "base_uri": "https://localhost:8080/",
     "height": 459
    },
    "id": "OkI1fI5Um2X4",
    "outputId": "9470a60d-92d1-47a6-ca6e-d2f47adc1349"
   },
   "outputs": [
    {
     "data": {
      "text/html": [
       "\n",
       "    <div>\n",
       "      \n",
       "      <progress value='534' max='534' style='width:300px; height:20px; vertical-align: middle;'></progress>\n",
       "      [534/534 14:46, Epoch 3/3]\n",
       "    </div>\n",
       "    <table border=\"1\" class=\"dataframe\">\n",
       "  <thead>\n",
       " <tr style=\"text-align: left;\">\n",
       "      <th>Step</th>\n",
       "      <th>Training Loss</th>\n",
       "    </tr>\n",
       "  </thead>\n",
       "  <tbody>\n",
       "    <tr>\n",
       "      <td>50</td>\n",
       "      <td>0.000000</td>\n",
       "    </tr>\n",
       "    <tr>\n",
       "      <td>100</td>\n",
       "      <td>0.000000</td>\n",
       "    </tr>\n",
       "    <tr>\n",
       "      <td>150</td>\n",
       "      <td>0.000000</td>\n",
       "    </tr>\n",
       "    <tr>\n",
       "      <td>200</td>\n",
       "      <td>0.000000</td>\n",
       "    </tr>\n",
       "    <tr>\n",
       "      <td>250</td>\n",
       "      <td>0.000000</td>\n",
       "    </tr>\n",
       "    <tr>\n",
       "      <td>300</td>\n",
       "      <td>0.000000</td>\n",
       "    </tr>\n",
       "    <tr>\n",
       "      <td>350</td>\n",
       "      <td>0.000000</td>\n",
       "    </tr>\n",
       "    <tr>\n",
       "      <td>400</td>\n",
       "      <td>0.000000</td>\n",
       "    </tr>\n",
       "    <tr>\n",
       "      <td>450</td>\n",
       "      <td>0.000000</td>\n",
       "    </tr>\n",
       "    <tr>\n",
       "      <td>500</td>\n",
       "      <td>10.355400</td>\n",
       "    </tr>\n",
       "  </tbody>\n",
       "</table><p>"
      ],
      "text/plain": [
       "<IPython.core.display.HTML object>"
      ]
     },
     "metadata": {},
     "output_type": "display_data"
    },
    {
     "data": {
      "text/plain": [
       "('./flan-t5-xl-telehealth-lora/tokenizer_config.json',\n",
       " './flan-t5-xl-telehealth-lora/special_tokens_map.json',\n",
       " './flan-t5-xl-telehealth-lora/spiece.model',\n",
       " './flan-t5-xl-telehealth-lora/added_tokens.json')"
      ]
     },
     "execution_count": 10,
     "metadata": {},
     "output_type": "execute_result"
    }
   ],
   "source": [
    "# STEP 4: Setup Trainer\n",
    "from transformers import Seq2SeqTrainingArguments, Seq2SeqTrainer, DataCollatorForSeq2Seq\n",
    "\n",
    "data_collator = DataCollatorForSeq2Seq(tokenizer=tokenizer, model=model)\n",
    "\n",
    "EPOCHS   = 3\n",
    "LR       = 2e-4\n",
    "BATCH    = 1\n",
    "GRAD_ACC = 2  # effective batch = 2\n",
    "\n",
    "training_args = Seq2SeqTrainingArguments(\n",
    "    output_dir=\"./flan-t5-xl-telehealth-lora\",\n",
    "    learning_rate=LR,\n",
    "    num_train_epochs=EPOCHS,\n",
    "    per_device_train_batch_size=BATCH,\n",
    "    per_device_eval_batch_size=1,\n",
    "    gradient_accumulation_steps=GRAD_ACC,\n",
    "    lr_scheduler_type=\"cosine\",\n",
    "    warmup_ratio=0.03,\n",
    "    weight_decay=0.01,\n",
    "    logging_steps=50,\n",
    "    save_strategy=\"epoch\",\n",
    "    save_total_limit=2,\n",
    "    fp16=True,                 # T4 supports FP16\n",
    "    report_to=\"none\",\n",
    "    seed=SEED,\n",
    "\n",
    "    # Seq2Seq-friendly defaults\n",
    "    predict_with_generate=False,\n",
    "    generation_max_length=80,\n",
    ")\n",
    "\n",
    "trainer_kwargs = dict(\n",
    "    model=model,\n",
    "    args=training_args,\n",
    "    train_dataset=tokenized_dataset[\"train\"],\n",
    "    data_collator=data_collator,\n",
    ")\n",
    "try:\n",
    "    trainer = Seq2SeqTrainer(**trainer_kwargs, processing_class=tokenizer)\n",
    "except TypeError:\n",
    "    trainer = Seq2SeqTrainer(**trainer_kwargs, tokenizer=tokenizer)\n",
    "\n",
    "trainer.train()\n",
    "\n",
    "# Save LoRA adapters + tokenizer\n",
    "save_dir = \"./flan-t5-xl-telehealth-lora\"\n",
    "model.save_pretrained(save_dir)\n",
    "tokenizer.save_pretrained(save_dir)\n"
   ]
  },
  {
   "cell_type": "code",
   "execution_count": null,
   "metadata": {
    "colab": {
     "base_uri": "https://localhost:8080/",
     "height": 444,
     "referenced_widgets": [
      "ee099da5d76a466190a3039214dbe965",
      "88f21c7a822c4a9c9c16a81817b04267",
      "72f2b5ddb9bb4cf6b713c020030a5d95",
      "6b52aeef5fd34f85b7e0ba1c3dab24d8",
      "1a0ec1a885a34a9c82e27868a99c0fc9",
      "9b49d78c3695400e96344b9d9d44b9dd",
      "5ef8900a5a904216bb1a25969b565049",
      "95e1d0582d73424a8a5e62f3a7f98c98",
      "30ba24c6672f4f14bf13545ad03a90f8",
      "50225b93499a4e8983e3d65da84517a8",
      "37dbfdbe772644b189667dce8b490b13",
      "294196cd02a44c0482f602c0707f1581",
      "03c56c5812e04ef1a109493d6be95b1c",
      "944db2993ffe49db9a4b00eb4a6b935e",
      "8cae60b95a0545a4b896d4e15d1cbbfe",
      "7010ede86fbd4670b89a32e1690383d4",
      "f8d75354b59243d2ae8c596b6f7d26f2",
      "239b7855aa59499cb0102323636e6df7",
      "631eca37070a40d9a06df521a6d7299b",
      "f3934084720040438b078591577b9813",
      "0257ee00a3694d3193dcfd1694052770",
      "0a2e874ebd8c48699ff065166595c0e4",
      "1816ab9782d842c6a96603ba4fc1aa7a",
      "fa5e999e16604c238f94e7495bf524a3",
      "ac10cd4054164e06a1d188ae9f6847f3",
      "266680e85ee64b2c8c3e72bf6ac14fd3",
      "259f4fd8c4c44ca599d404421529e42e",
      "7511f0946806469998817b51f39cd0ee",
      "c155dfa376a04373917edfd1bfd371f9",
      "8ed0fd23cd8041558a12ce75e5f076f8",
      "75ea5c920f2e4fe6aa8df46f106a7f07",
      "ad50bf6eff4346ffbfcac1528efa6586",
      "b5c2c6a5151c4735861b8720e6ab795e",
      "00e3f64df5a94a65aa9de40a4a2862bf",
      "ee66495d22f34358b544fcf3082eb2c2",
      "cc389d3318fb4e819ab0c1d5afe97ea7",
      "e38ef088f66e44d78bb28a9da75986de",
      "6767a22f80164651ba4517637cbd7984",
      "474032a6a42d444e9ee9229ac87d662e",
      "562b6faedb794dc497bcf53de69a3158",
      "cce3e6637bf94c41a238a6c37d064b1d",
      "dc1016fb641746e9b9f4d8664ba0f95a",
      "72368664d95b47e48619b032b0980ef6",
      "726b79fa7bdd40fe80c9d6d3b64b9b18",
      "d5b57bc0561b487c87cd7593d64188fc",
      "590135fd0efa4024967ea67d2743cd32",
      "adfa8f98d30943a29765a4dace7c1517",
      "11b12444c560403c95ddb9a39c760b11",
      "62777aaee1b24b21af5323a88edf1149",
      "504629da68224ea09b1bce2d8607d8ec",
      "a6317ee1c538440d919f3ae194c6618a",
      "a22b9c3b85264ceeb3be98dea6a717f1",
      "726bb3070d0a4270b255bf30e9833ca6",
      "b2a723ba0d7f418b9a3edce0a2e46818",
      "1cc158a001014cb8916cb981d1842379",
      "67970e11234249749bc1ec198fe2d969",
      "c4a14ff12a9c433e90b556692d25313c",
      "508eacfb5936430d9e6854e49ac20e01",
      "40e62a2546a34897b15396a4d6ec32aa",
      "ae39ab69ad624a5192a04f084b02b74c",
      "7cb253cc407347b0bfaf8b7f4fdaa8bb",
      "592546683cb545408aad21f25a927dbf",
      "eb2a32969d264d11a10760fb10179e89",
      "03971ae42dde420d88abd833b2c27c23",
      "7b9a4cd721a8468084ed07862514442a",
      "d1054a00a3ee41d49bc37d5a16ca48b5",
      "559b702ebc84477f961e66b5e1e896da",
      "2b9064ddb48e4edd87b52b5991ec4520",
      "9667329ff5d94ce9bb5c8ffacdccbae0",
      "61efda6682554a50a4b5e862b5c7f8b6",
      "b704454dcb47419597c1268d028cbfda",
      "d40ba55ec6a046539c841c7ea396e170",
      "6069f635b3094748adb025420a24c683",
      "013cfd1f69a842a1ba460762259a17a9",
      "a22c977140a845d88ef223ac9c2ddcbb",
      "e4761b27c8c04287a55c770c2e90c162",
      "7d5f5f38078d48a8b75ab370454b2ae6",
      "4680a1db1b544b20a45d67e896359190",
      "4540a655246b4cf9a462cb431e4425a7",
      "ddb0560e598b43b4bb1cb6ab6ca5548e",
      "36d08eaec7484629b890378b988ca8eb",
      "cf0207c24a074fefa0ad5309ae2e58ba",
      "e2332c462e024dddaf0c9edd87c0885e",
      "01e26597aa834cfea504b38ba53e9728",
      "f6744a51209048209bed01feaa3e4654",
      "1fde32d5bbd1446f8c636344b343d8a7",
      "be4e3b6aa6fc4b629d829e162739be5c",
      "2800463ecc974732958d419ee7eb0ba4",
      "3bda4ef661b1489b82021bfe96ba490b",
      "fe8dea6db23d4514a9aa7f23dbf02f8d",
      "2a4515ad81804658a7f0a9038806824e",
      "b2314ebbd2f0438fba1623db7ba109aa",
      "71b49bd738904ce5ab312c13944f3bac",
      "f015f9a996b84e15842e8faa9fdf7ba0",
      "f87f22a7cfcf49eea8aaf5e3828a7468",
      "286470b685784d4e9c683d70a910482e",
      "27bceadc9797455fadac481113766793",
      "10229ad733cd4d8f8fda4806e7b76f1d",
      "903049b26098485dbd1647d09798fd17"
     ]
    },
    "id": "dHidk38gm2UO",
    "outputId": "c5b745fe-0500-4be7-eacb-ac85676a7ed9"
   },
   "outputs": [
    {
     "data": {
      "application/vnd.jupyter.widget-view+json": {
       "model_id": "ee099da5d76a466190a3039214dbe965",
       "version_major": 2,
       "version_minor": 0
      },
      "text/plain": [
       "Downloading builder script: 0.00B [00:00, ?B/s]"
      ]
     },
     "metadata": {},
     "output_type": "display_data"
    },
    {
     "data": {
      "application/vnd.jupyter.widget-view+json": {
       "model_id": "294196cd02a44c0482f602c0707f1581",
       "version_major": 2,
       "version_minor": 0
      },
      "text/plain": [
       "Downloading builder script: 0.00B [00:00, ?B/s]"
      ]
     },
     "metadata": {},
     "output_type": "display_data"
    },
    {
     "name": "stdout",
     "output_type": "stream",
     "text": [
      "Evaluating Pretrained Base Model on Benchmark Dataset...\n"
     ]
    },
    {
     "data": {
      "application/vnd.jupyter.widget-view+json": {
       "model_id": "1816ab9782d842c6a96603ba4fc1aa7a",
       "version_major": 2,
       "version_minor": 0
      },
      "text/plain": [
       "Loading checkpoint shards:   0%|          | 0/2 [00:00<?, ?it/s]"
      ]
     },
     "metadata": {},
     "output_type": "display_data"
    },
    {
     "name": "stderr",
     "output_type": "stream",
     "text": [
      "The following generation flags are not valid and may be ignored: ['early_stopping']. Set `TRANSFORMERS_VERBOSITY=info` for more details.\n"
     ]
    },
    {
     "data": {
      "application/vnd.jupyter.widget-view+json": {
       "model_id": "00e3f64df5a94a65aa9de40a4a2862bf",
       "version_major": 2,
       "version_minor": 0
      },
      "text/plain": [
       "tokenizer_config.json:   0%|          | 0.00/48.0 [00:00<?, ?B/s]"
      ]
     },
     "metadata": {},
     "output_type": "display_data"
    },
    {
     "data": {
      "application/vnd.jupyter.widget-view+json": {
       "model_id": "d5b57bc0561b487c87cd7593d64188fc",
       "version_major": 2,
       "version_minor": 0
      },
      "text/plain": [
       "config.json:   0%|          | 0.00/570 [00:00<?, ?B/s]"
      ]
     },
     "metadata": {},
     "output_type": "display_data"
    },
    {
     "data": {
      "application/vnd.jupyter.widget-view+json": {
       "model_id": "67970e11234249749bc1ec198fe2d969",
       "version_major": 2,
       "version_minor": 0
      },
      "text/plain": [
       "vocab.txt:   0%|          | 0.00/232k [00:00<?, ?B/s]"
      ]
     },
     "metadata": {},
     "output_type": "display_data"
    },
    {
     "data": {
      "application/vnd.jupyter.widget-view+json": {
       "model_id": "559b702ebc84477f961e66b5e1e896da",
       "version_major": 2,
       "version_minor": 0
      },
      "text/plain": [
       "tokenizer.json:   0%|          | 0.00/466k [00:00<?, ?B/s]"
      ]
     },
     "metadata": {},
     "output_type": "display_data"
    },
    {
     "data": {
      "application/vnd.jupyter.widget-view+json": {
       "model_id": "4680a1db1b544b20a45d67e896359190",
       "version_major": 2,
       "version_minor": 0
      },
      "text/plain": [
       "model.safetensors:   0%|          | 0.00/440M [00:00<?, ?B/s]"
      ]
     },
     "metadata": {},
     "output_type": "display_data"
    },
    {
     "name": "stdout",
     "output_type": "stream",
     "text": [
      "Evaluating LoRA Fine-Tuned Model on Benchmark Dataset...\n"
     ]
    },
    {
     "data": {
      "application/vnd.jupyter.widget-view+json": {
       "model_id": "3bda4ef661b1489b82021bfe96ba490b",
       "version_major": 2,
       "version_minor": 0
      },
      "text/plain": [
       "Loading checkpoint shards:   0%|          | 0/2 [00:00<?, ?it/s]"
      ]
     },
     "metadata": {},
     "output_type": "display_data"
    },
    {
     "name": "stdout",
     "output_type": "stream",
     "text": [
      "         Metric  Pretrained  LoRA Fine-Tuned\n",
      "0       ROUGE-1    0.108616         0.108616\n",
      "1       ROUGE-2    0.013090         0.013090\n",
      "2       ROUGE-L    0.085083         0.085083\n",
      "3  BERTScore-F1    0.415264         0.415264\n"
     ]
    }
   ],
   "source": [
    "# STEP 5: Evaluate (ROUGE + BERTScore)\n",
    "\n",
    "from transformers import AutoModelForSeq2SeqLM\n",
    "from peft import PeftModel\n",
    "from evaluate import load as load_metric\n",
    "\n",
    "# Free training graphs to lower peak VRAM during eval\n",
    "del trainer\n",
    "gc.collect()\n",
    "torch.cuda.empty_cache()\n",
    "\n",
    "rouge = load_metric(\"rouge\")\n",
    "bertscore = load_metric(\"bertscore\")\n",
    "\n",
    "def load_base_4bit_gpu(name: str):\n",
    "    return AutoModelForSeq2SeqLM.from_pretrained(\n",
    "        name,\n",
    "        quantization_config=bnb_config,\n",
    "        device_map={\"\": 0},\n",
    "        low_cpu_mem_usage=True,\n",
    "    )\n",
    "\n",
    "def load_lora_4bit_gpu(name: str, lora_path: str):\n",
    "    base = AutoModelForSeq2SeqLM.from_pretrained(\n",
    "        name,\n",
    "        quantization_config=bnb_config,\n",
    "        device_map={\"\": 0},\n",
    "        low_cpu_mem_usage=True,\n",
    "    )\n",
    "    return PeftModel.from_pretrained(base, lora_path, device_map={\"\": 0})\n",
    "\n",
    "# Evaluate on full benchmark by default (set to an int to cap for speed)\n",
    "EVAL_LIMIT = None   # use 401 (your eval size) or keep None for full\n",
    "\n",
    "def evaluate_model(model, hf_ds, limit=EVAL_LIMIT):\n",
    "    model.eval()\n",
    "    # Reduce VRAM during generation\n",
    "    if hasattr(model, \"generation_config\"):\n",
    "        model.generation_config.use_cache = False\n",
    "\n",
    "    preds, refs = [], []\n",
    "    df = hf_ds.to_pandas()\n",
    "    if limit is not None:\n",
    "        df = df.head(limit)\n",
    "\n",
    "    with torch.inference_mode():\n",
    "        for _, row in df.iterrows():\n",
    "            prompt = row[\"input\"]\n",
    "            enc = tokenizer(\n",
    "                prompt,\n",
    "                return_tensors=\"pt\",\n",
    "                truncation=True,\n",
    "                padding=\"max_length\",\n",
    "                max_length=256,   # short encoder length for speed\n",
    "            )\n",
    "            enc = {k: v.to(model.device) for k, v in enc.items()}\n",
    "\n",
    "            out_ids = model.generate(\n",
    "                **enc,\n",
    "                max_new_tokens=80,   # modest cap to keep runtime stable\n",
    "                num_beams=1,         # greedy = fastest/leanest\n",
    "                do_sample=False,\n",
    "                early_stopping=True,\n",
    "                no_repeat_ngram_size=3,\n",
    "                repetition_penalty=1.2,\n",
    "                use_cache=False,\n",
    "            )\n",
    "            preds.append(tokenizer.decode(out_ids[0], skip_special_tokens=True))\n",
    "            refs.append(row[\"output\"])\n",
    "\n",
    "    rouge_res = rouge.compute(predictions=preds, references=refs)\n",
    "\n",
    "    # BERTScore on CPU, light backbone to avoid extra VRAM\n",
    "    bert_res = bertscore.compute(\n",
    "        predictions=preds,\n",
    "        references=refs,\n",
    "        lang=\"en\",\n",
    "        model_type=\"bert-base-uncased\",\n",
    "        device=\"cpu\",\n",
    "        batch_size=32,\n",
    "        rescale_with_baseline=False,\n",
    "    )\n",
    "    bert_f1 = float(sum(bert_res[\"f1\"]) / len(bert_res[\"f1\"])) if len(bert_res[\"f1\"]) else 0.0\n",
    "    return rouge_res, bert_f1\n",
    "\n",
    "print(\"Evaluating Pretrained Base Model on Benchmark Dataset...\")\n",
    "base_model = load_base_4bit_gpu(model_name)\n",
    "pre_rouge, pre_bert = evaluate_model(base_model, dataset[\"benchmark\"], limit=EVAL_LIMIT)\n",
    "del base_model; gc.collect(); torch.cuda.empty_cache()\n",
    "\n",
    "print(\"Evaluating LoRA Fine-Tuned Model on Benchmark Dataset...\")\n",
    "lora_model = load_lora_4bit_gpu(model_name, save_dir)\n",
    "lora_rouge, lora_bert = evaluate_model(lora_model, dataset[\"benchmark\"], limit=EVAL_LIMIT)\n",
    "del lora_model; gc.collect(); torch.cuda.empty_cache()\n",
    "\n",
    "# Report\n",
    "comparison_df = pd.DataFrame({\n",
    "    \"Metric\": [\"ROUGE-1\", \"ROUGE-2\", \"ROUGE-L\", \"BERTScore-F1\"],\n",
    "    \"Pretrained\": [\n",
    "        pre_rouge.get(\"rouge1\", 0.0),\n",
    "        pre_rouge.get(\"rouge2\", 0.0),\n",
    "        pre_rouge.get(\"rougeL\", 0.0),\n",
    "        pre_bert,\n",
    "    ],\n",
    "    \"LoRA Fine-Tuned\": [\n",
    "        lora_rouge.get(\"rouge1\", 0.0),\n",
    "        lora_rouge.get(\"rouge2\", 0.0),\n",
    "        lora_rouge.get(\"rougeL\", 0.0),\n",
    "        lora_bert,\n",
    "    ],\n",
    "})\n",
    "print(comparison_df)\n",
    "comparison_df.to_csv(\"benchmark_model_comparison.csv\", index=False)"
   ]
  },
  {
   "cell_type": "code",
   "execution_count": null,
   "metadata": {
    "colab": {
     "base_uri": "https://localhost:8080/",
     "height": 1000
    },
    "id": "b4-JoSbtm2PX",
    "outputId": "4c7e8bfd-4ae3-4817-9c33-dc0699217837"
   },
   "outputs": [
    {
     "name": "stderr",
     "output_type": "stream",
     "text": [
      "/tmp/ipython-input-1244945524.py:46: FutureWarning: Series.fillna with 'method' is deprecated and will raise in a future version. Use obj.ffill() or obj.bfill() instead.\n",
      "  x = df[\"step\"].fillna(method=\"ffill\").fillna(0); xlabel = \"Step\"\n"
     ]
    },
    {
     "data": {
      "image/png": "[encoded data removed]",
      "text/plain": [
       "<Figure size 900x500 with 1 Axes>"
      ]
     },
     "metadata": {},
     "output_type": "display_data"
    },
    {
     "name": "stdout",
     "output_type": "stream",
     "text": [
      "Saved: ./flan-t5-xl-telehealth-lora/training_eval_loss.png\n"
     ]
    },
    {
     "data": {
      "image/png": "[encoded data removed]",
      "text/plain": [
       "<Figure size 900x600 with 1 Axes>"
      ]
     },
     "metadata": {},
     "output_type": "display_data"
    },
    {
     "name": "stdout",
     "output_type": "stream",
     "text": [
      "Saved: model_comparison_metrics.png\n"
     ]
    }
   ],
   "source": [
    "# Two Visualizations\n",
    "# 1) Training & Evaluation Loss\n",
    "# 2) Pretrained vs Fine-Tuned Model Performance\n",
    "import os, json\n",
    "import pandas as pd\n",
    "import matplotlib.pyplot as plt\n",
    "\n",
    "OUTPUT_DIR = \"./flan-t5-xl-telehealth-lora\"   # your training output_dir\n",
    "CMP_CSV    = \"benchmark_model_comparison.csv\" # written in Step 5\n",
    "\n",
    "# ---- helpers ----\n",
    "def _load_logs(output_dir: str) -> pd.DataFrame:\n",
    "    \"\"\"Load logs from OUTPUT_DIR/log_history.csv if present,\n",
    "    else search checkpoints for trainer_state.json and use the latest.\"\"\"\n",
    "    csv_path = os.path.join(output_dir, \"log_history.csv\")\n",
    "    if os.path.exists(csv_path):\n",
    "        return pd.read_csv(csv_path)\n",
    "    # search subfolders for trainer_state.json\n",
    "    best = None\n",
    "    for root, _, files in os.walk(output_dir):\n",
    "        if \"trainer_state.json\" in files:\n",
    "            path = os.path.join(root, \"trainer_state.json\")\n",
    "            try:\n",
    "                with open(path, \"r\") as f:\n",
    "                    state = json.load(f)\n",
    "                step = state.get(\"global_step\", 0) or 0\n",
    "                if best is None or step > best[0]:\n",
    "                    best = (step, state)\n",
    "            except Exception:\n",
    "                pass\n",
    "    if best is None:\n",
    "        raise FileNotFoundError(\n",
    "            f\"No logs found under {output_dir}. \"\n",
    "            \"Save logs after training or keep at least one checkpoint.\"\n",
    "        )\n",
    "    df = pd.DataFrame(best[1].get(\"log_history\", []))\n",
    "    # normalize expected columns\n",
    "    for c in [\"step\",\"epoch\",\"loss\",\"eval_loss\"]:\n",
    "        if c not in df.columns: df[c] = pd.Series(dtype=\"float64\")\n",
    "    return df\n",
    "\n",
    "def plot_training_eval_loss(output_dir: str, out_png: str = None, smooth: int = 5):\n",
    "    df = _load_logs(output_dir).copy()\n",
    "    # x-axis preference: step -> epoch -> index\n",
    "    if \"step\" in df and df[\"step\"].notna().any():\n",
    "        x = df[\"step\"].fillna(method=\"ffill\").fillna(0); xlabel = \"Step\"\n",
    "    elif \"epoch\" in df and df[\"epoch\"].notna().any():\n",
    "        x = df[\"epoch\"].fillna(method=\"ffill\").fillna(0); xlabel = \"Epoch\"\n",
    "    else:\n",
    "        x = range(len(df)); xlabel = \"Record #\"\n",
    "    plt.figure(figsize=(9,5))\n",
    "    if \"loss\" in df and df[\"loss\"].notna().any():\n",
    "        y = df[\"loss\"]\n",
    "        if smooth and smooth > 1:\n",
    "            y = y.rolling(window=smooth, min_periods=1).mean()\n",
    "        plt.plot(x, y, label=\"Train Loss\")\n",
    "    if \"eval_loss\" in df and df[\"eval_loss\"].notna().any():\n",
    "        plt.plot(x, df[\"eval_loss\"], label=\"Eval Loss\")\n",
    "    plt.xlabel(xlabel); plt.ylabel(\"Loss\"); plt.title(\"Training & Evaluation Loss\")\n",
    "    plt.legend(); plt.tight_layout()\n",
    "    if out_png is None:\n",
    "        out_png = os.path.join(output_dir, \"training_eval_loss.png\")\n",
    "    plt.savefig(out_png, dpi=150); plt.show()\n",
    "    print(f\"Saved: {out_png}\")\n",
    "\n",
    "def plot_pretrained_vs_lora(csv_path: str = CMP_CSV, out_png: str = \"model_comparison_metrics.png\"):\n",
    "    if not os.path.exists(csv_path):\n",
    "        raise FileNotFoundError(f\"{csv_path} not found. Run Step 5 to create it.\")\n",
    "    cdf = pd.read_csv(csv_path)\n",
    "    ax = cdf.set_index(\"Metric\").plot(kind=\"bar\", figsize=(9,6))\n",
    "    plt.title(\"Pretrained vs Fine-Tuned Model Performance\")\n",
    "    plt.ylabel(\"Score\"); plt.xticks(rotation=0)\n",
    "    plt.tight_layout()\n",
    "    # annotate bars with values\n",
    "    for p in ax.patches:\n",
    "        h = p.get_height()\n",
    "        ax.annotate(f\"{h:.3f}\", (p.get_x()+p.get_width()/2., h),\n",
    "                    ha=\"center\", va=\"bottom\", fontsize=8, xytext=(0,3),\n",
    "                    textcoords=\"offset points\")\n",
    "    plt.savefig(out_png, dpi=150); plt.show()\n",
    "    print(f\"Saved: {out_png}\")\n",
    "\n",
    "# run the two plots\n",
    "plot_training_eval_loss(OUTPUT_DIR)                  # training & eval loss\n",
    "plot_pretrained_vs_lora(CMP_CSV)                     # pretrained vs fine-tuned\n"
   ]
  },
  {
   "cell_type": "code",
   "execution_count": null,
   "metadata": {
    "id": "tIU1asUXnNNg"
   },
   "outputs": [],
   "source": [
    "# Prompt engineering\n",
    "# Step 1: Define the prompt engineering template with enhanced responses\n",
    "def build_prompt(input_text, prompt_type=\"general\"):\n",
    "    input_text = input_text.strip()\n",
    "\n",
    "    if prompt_type == \"general\":\n",
    "        return (\n",
    "            f\"You are a helpful telehealth doctor. Provide a clear, actionable response with medical context and next steps.\\n\"\n",
    "            f\"Patient: {input_text}\\nDoctor:\"\n",
    "        )\n",
    "\n",
    "    elif prompt_type == \"diagnosis\":\n",
    "        return (\n",
    "            f\"You are a licensed telehealth physician. Assess the symptoms and explain 1-2 possible causes with suggested next steps.\\n\"\n",
    "            f\"Patient: {input_text}\\nDoctor:\"\n",
    "        )\n",
    "\n",
    "    elif prompt_type == \"psychological\":\n",
    "        return (\n",
    "            f\"You are a compassionate telehealth doctor. Reassure the patient, then provide steps to manage their mental well-being.\\n\"\n",
    "            f\"Patient: {input_text}\\nDoctor:\"\n",
    "        )\n",
    "\n",
    "    elif prompt_type == \"medication\":\n",
    "        return (\n",
    "            f\"You are a helpful telehealth doctor. If medication is needed, suggest general types (not specific brands). Include dosage instructions and when to consult with a healthcare provider.\\n\"\n",
    "            f\"Patient: {input_text}\\nDoctor:\"\n",
    "        )\n",
    "\n",
    "    else:\n",
    "        raise ValueError(\"Unsupported prompt type.\")"
   ]
  },
  {
   "cell_type": "code",
   "execution_count": null,
   "metadata": {
    "id": "lM6LrQ4dnNJZ"
   },
   "outputs": [],
   "source": [
    "# Step 2: Generate answers based on the prompt type\n",
    "def generate_answer(input_text, model, tokenizer, prompt_type=\"general\"):\n",
    "    prompt = build_prompt(input_text, prompt_type)\n",
    "    inputs = tokenizer(prompt, return_tensors=\"pt\", truncation=True, padding=\"max_length\", max_length=512).to(model.device)\n",
    "\n",
    "    outputs = model.generate(\n",
    "        **inputs,\n",
    "        max_new_tokens=128,   # 64\n",
    "        num_beams=4,\n",
    "        early_stopping=True,\n",
    "        repetition_penalty=1.2,\n",
    "        no_repeat_ngram_size=3\n",
    "    )\n",
    "\n",
    "    response = tokenizer.decode(outputs[0], skip_special_tokens=True).strip()\n",
    "    if response.lower().startswith(\"doctor:\"):\n",
    "        response = response[7:].strip()\n",
    "    return response"
   ]
  },
  {
   "cell_type": "code",
   "execution_count": null,
   "metadata": {
    "id": "VUJRyOcYnNFQ"
   },
   "outputs": [],
   "source": [
    "# Step 3: Evaluate the model with different prompt types\n",
    "def evaluate_model(model, tokenizer, test_df, prompt_type=\"general\"):\n",
    "    from evaluate import load\n",
    "    rouge = load(\"rouge\")\n",
    "    bertscore = load(\"bertscore\")\n",
    "\n",
    "    preds, refs = [], []\n",
    "    for _, row in test_df.iterrows():\n",
    "        patient_text = row[\"input\"].split(\"Patient:\")[1].split(\"\\n\")[0].strip()\n",
    "        prompt = build_prompt(patient_text, prompt_type)\n",
    "        inputs = tokenizer(prompt, return_tensors=\"pt\", truncation=True, padding=\"max_length\", max_length=512).to(model.device)\n",
    "        outputs = model.generate(\n",
    "            **inputs,\n",
    "            max_new_tokens=64,\n",
    "            num_beams=4,\n",
    "            early_stopping=True,\n",
    "            repetition_penalty=1.2,\n",
    "            no_repeat_ngram_size=3\n",
    "        )\n",
    "        preds.append(tokenizer.decode(outputs[0], skip_special_tokens=True))\n",
    "        refs.append(row[\"output\"])\n",
    "\n",
    "    rouge_result = rouge.compute(predictions=preds, references=refs)\n",
    "    bert_result = bertscore.compute(predictions=preds, references=refs, lang=\"en\")\n",
    "    return rouge_result, sum(bert_result[\"f1\"]) / len(bert_result[\"f1\"])"
   ]
  },
  {
   "cell_type": "code",
   "execution_count": null,
   "metadata": {
    "colab": {
     "base_uri": "https://localhost:8080/",
     "height": 765,
     "referenced_widgets": [
      "4471eea657864b3caa6ed7d1dcd23a03",
      "875fe50440ad42fca9bb932a4d3bf06b",
      "e40df1a279ef41a69fbed63f7486919f",
      "7f196cefbd6f41c3a612038b2b624ac8",
      "ce22de31586041d0a6184376526c7403",
      "368ba530276147528b00b0a5e8757581",
      "15ba11b2d3ed422ab5e4a041a5f06e9f",
      "c0ea8f88e02a437da946f9672b3924c6",
      "df24813ba8f04d42b7dc9d9af2112bb5",
      "52d061514f6b41f39b382d86064ffd08",
      "c8881a378fa94fc490f950b672470030",
      "a090f64de03b4599b42ead252f431576",
      "369b44c068b4438fbfc991d8adc9ee57",
      "604915c26af24570b6f275aa65646386",
      "06206d97175445769de2bcebde99f614",
      "5fd30b84a77d4b36a5f54afd471447de",
      "d3c83af775d6432abf17759a3d884cd0",
      "ea9eeeb99a6742e8bd07a9e30fc91c83",
      "f7047c74b55147aa8eb385915f7bef68",
      "56710fc2018849d58ffcdbd1388bcfc8",
      "b7240406e80145dbb9b3e3f345183173",
      "a1631695310f4ce0af939d9154e25bc3",
      "6693fe37373b4ae1b26a4b24093f639c",
      "51dc02fd3ddb46b1afa79dde20171083",
      "8bf5a8145395482c88bbb9f3c53f5e76",
      "3ddeac6b99574d24b99ded25f1611165",
      "a0817b9b04074c26b1a434e207b65ffa",
      "8b9a59b7e281474e8a31d4c1680d47d0",
      "e27cf9da101d44cf9f8dc48b953ac267",
      "8a68056525b84801813dee9d34f85927",
      "eab376d5b432400abcdefa9fa5a771fe",
      "b980e365f73f4753a9dcac96bb57bddf",
      "ac294ed5d3b64b61aa359000786132dd",
      "45eeb24c33b640c293e00d83b14583ba",
      "96b00ea2c2724082b640d923f8a60430",
      "14d6d7866e3648e884b1369075a454a6",
      "4271b8681c2c4985ab2a76bdafe0ab54",
      "9d2659acecdc4ca88616ae154af8681b",
      "54b600b1de0b4a7a9c1f06eb6ed9b759",
      "801fdbdb324742c6ab0c08be9f78b1a7",
      "d2078244102d4bd981543969ddc9b0f7",
      "0aac0fc5994a404c8d59faf5eefc8daf",
      "01bd3f5f97f54abfabbd853499aece3f",
      "b305263ec2b34ec4b27d9f31f661babe",
      "374c400cf0a94fe4bec4fd064c720d76",
      "e589a32eccac41efb578c63ac329fcc9",
      "92aee0da1ad74d3995a1a41e32bd22d8",
      "92514d9421734938a885f6a0e9582eef",
      "deddd5a0946c472c857018da148f60f3",
      "5a429019420142698666280896bcaa93",
      "4abf907c1dea4b2d928dea16a149c7a0",
      "7a6f925143d54b528cfe2bf2a8b0e8de",
      "7e7b558cdc634c1a939b1247137311d8",
      "592568da4b114b07b98b9dc5b2a624dd",
      "e6a24200226c463bbc66599442ab16f5",
      "85127f1255634bdab1c99f99c487886e",
      "b62d09d0481047938fd15d1ccebf1f0b",
      "5c6678a10bd6464ab7be285b6acc5282",
      "912eccc758b74c78aec374c47e86a323",
      "4247ee52ae994dc7aed6949bb92a8063",
      "d1412d84ca3746e9b188bc879bcfaa72",
      "3a68250fc649457fb44bdae62f5c80dd",
      "62b4437138404926a5980d6044f3575d",
      "7bd5732fd1b14ffe9ccdcdd4b3114f8f",
      "d0a81e31918d46c5b8bcafc57972ebb7",
      "e3807dcdd2044113a1956acde242c3f2"
     ]
    },
    "id": "Sm36fotGnM6w",
    "outputId": "1e0f7617-f36e-4f2b-be5c-dfac42f4acc9"
   },
   "outputs": [
    {
     "data": {
      "application/vnd.jupyter.widget-view+json": {
       "model_id": "4471eea657864b3caa6ed7d1dcd23a03",
       "version_major": 2,
       "version_minor": 0
      },
      "text/plain": [
       "tokenizer_config.json:   0%|          | 0.00/25.0 [00:00<?, ?B/s]"
      ]
     },
     "metadata": {},
     "output_type": "display_data"
    },
    {
     "data": {
      "application/vnd.jupyter.widget-view+json": {
       "model_id": "a090f64de03b4599b42ead252f431576",
       "version_major": 2,
       "version_minor": 0
      },
      "text/plain": [
       "config.json:   0%|          | 0.00/482 [00:00<?, ?B/s]"
      ]
     },
     "metadata": {},
     "output_type": "display_data"
    },
    {
     "data": {
      "application/vnd.jupyter.widget-view+json": {
       "model_id": "6693fe37373b4ae1b26a4b24093f639c",
       "version_major": 2,
       "version_minor": 0
      },
      "text/plain": [
       "vocab.json:   0%|          | 0.00/899k [00:00<?, ?B/s]"
      ]
     },
     "metadata": {},
     "output_type": "display_data"
    },
    {
     "data": {
      "application/vnd.jupyter.widget-view+json": {
       "model_id": "45eeb24c33b640c293e00d83b14583ba",
       "version_major": 2,
       "version_minor": 0
      },
      "text/plain": [
       "merges.txt:   0%|          | 0.00/456k [00:00<?, ?B/s]"
      ]
     },
     "metadata": {},
     "output_type": "display_data"
    },
    {
     "data": {
      "application/vnd.jupyter.widget-view+json": {
       "model_id": "374c400cf0a94fe4bec4fd064c720d76",
       "version_major": 2,
       "version_minor": 0
      },
      "text/plain": [
       "tokenizer.json:   0%|          | 0.00/1.36M [00:00<?, ?B/s]"
      ]
     },
     "metadata": {},
     "output_type": "display_data"
    },
    {
     "data": {
      "application/vnd.jupyter.widget-view+json": {
       "model_id": "85127f1255634bdab1c99f99c487886e",
       "version_major": 2,
       "version_minor": 0
      },
      "text/plain": [
       "model.safetensors:   0%|          | 0.00/1.42G [00:00<?, ?B/s]"
      ]
     },
     "metadata": {},
     "output_type": "display_data"
    },
    {
     "name": "stderr",
     "output_type": "stream",
     "text": [
      "Some weights of RobertaModel were not initialized from the model checkpoint at roberta-large and are newly initialized: ['pooler.dense.bias', 'pooler.dense.weight']\n",
      "You should probably TRAIN this model on a down-stream task to be able to use it for predictions and inference.\n"
     ]
    },
    {
     "name": "stdout",
     "output_type": "stream",
     "text": [
      "\n",
      "Prompt Type: general\n",
      "ROUGE-1: 0.1195\n",
      "ROUGE-2: 0.0170\n",
      "ROUGE-L: 0.0894\n",
      "BERTScore-F1: 0.8398\n"
     ]
    },
    {
     "name": "stderr",
     "output_type": "stream",
     "text": [
      "Some weights of RobertaModel were not initialized from the model checkpoint at roberta-large and are newly initialized: ['pooler.dense.bias', 'pooler.dense.weight']\n",
      "You should probably TRAIN this model on a down-stream task to be able to use it for predictions and inference.\n"
     ]
    },
    {
     "name": "stdout",
     "output_type": "stream",
     "text": [
      "\n",
      "Prompt Type: diagnosis\n",
      "ROUGE-1: 0.1319\n",
      "ROUGE-2: 0.0164\n",
      "ROUGE-L: 0.0874\n",
      "BERTScore-F1: 0.8317\n"
     ]
    },
    {
     "name": "stderr",
     "output_type": "stream",
     "text": [
      "Some weights of RobertaModel were not initialized from the model checkpoint at roberta-large and are newly initialized: ['pooler.dense.bias', 'pooler.dense.weight']\n",
      "You should probably TRAIN this model on a down-stream task to be able to use it for predictions and inference.\n"
     ]
    },
    {
     "name": "stdout",
     "output_type": "stream",
     "text": [
      "\n",
      "Prompt Type: psychological\n",
      "ROUGE-1: 0.1420\n",
      "ROUGE-2: 0.0148\n",
      "ROUGE-L: 0.1006\n",
      "BERTScore-F1: 0.8426\n"
     ]
    },
    {
     "name": "stderr",
     "output_type": "stream",
     "text": [
      "Some weights of RobertaModel were not initialized from the model checkpoint at roberta-large and are newly initialized: ['pooler.dense.bias', 'pooler.dense.weight']\n",
      "You should probably TRAIN this model on a down-stream task to be able to use it for predictions and inference.\n"
     ]
    },
    {
     "name": "stdout",
     "output_type": "stream",
     "text": [
      "\n",
      "Prompt Type: medication\n",
      "ROUGE-1: 0.1306\n",
      "ROUGE-2: 0.0146\n",
      "ROUGE-L: 0.0969\n",
      "BERTScore-F1: 0.8396\n"
     ]
    }
   ],
   "source": [
    "# Step 4: Perform evaluation with different prompt types\n",
    "\n",
    "results = []\n",
    "\n",
    "for prompt_type in [\"general\", \"diagnosis\", \"psychological\", \"medication\"]:\n",
    "    rouge_result, bert_f1 = evaluate_model(model, tokenizer, test_df, prompt_type=prompt_type)\n",
    "    results.append({\n",
    "        \"Prompt Type\": prompt_type,\n",
    "        \"ROUGE-1\": rouge_result[\"rouge1\"],\n",
    "        \"ROUGE-2\": rouge_result[\"rouge2\"],\n",
    "        \"ROUGE-L\": rouge_result[\"rougeL\"],\n",
    "        \"BERTScore-F1\": bert_f1\n",
    "    })\n",
    "    print(f\"\\nPrompt Type: {prompt_type}\")\n",
    "    print(f\"ROUGE-1: {rouge_result['rouge1']:.4f}\")\n",
    "    print(f\"ROUGE-2: {rouge_result['rouge2']:.4f}\")\n",
    "    print(f\"ROUGE-L: {rouge_result['rougeL']:.4f}\")\n",
    "    print(f\"BERTScore-F1: {bert_f1:.4f}\")\n",
    "\n",
    "# Convert results to DataFrame\n",
    "df_results = pd.DataFrame(results)"
   ]
  },
  {
   "cell_type": "code",
   "execution_count": null,
   "metadata": {
    "colab": {
     "base_uri": "https://localhost:8080/",
     "height": 1000
    },
    "id": "RwX0LO95nSCX",
    "outputId": "c9467dd1-1b73-4c10-c936-f58788423ff7"
   },
   "outputs": [
    {
     "data": {
      "image/png": "[encoded data removed]",
      "text/plain": [
       "<Figure size 1000x600 with 1 Axes>"
      ]
     },
     "metadata": {},
     "output_type": "display_data"
    },
    {
     "data": {
      "image/png": "[encoded data removed]",
      "text/plain": [
       "<Figure size 1000x600 with 1 Axes>"
      ]
     },
     "metadata": {},
     "output_type": "display_data"
    }
   ],
   "source": [
    "# Visualization 1: Grouped Bar Plot (comparison across metrics)\n",
    "df_results.set_index(\"Prompt Type\")[[\"ROUGE-1\", \"ROUGE-2\", \"ROUGE-L\", \"BERTScore-F1\"]].plot(\n",
    "    kind=\"bar\", figsize=(10,6), width=0.8\n",
    ")\n",
    "plt.title(\"Evaluation Metrics by Prompt Type\")\n",
    "plt.ylabel(\"Score\")\n",
    "plt.xticks(rotation=0)\n",
    "plt.legend(title=\"Metric\")\n",
    "plt.tight_layout()\n",
    "plt.savefig(\"prompt_type_evaluation.png\")\n",
    "plt.show()\n",
    "\n",
    "# Visualization 2: Line Plot (trend across prompt types)\n",
    "df_results.set_index(\"Prompt Type\")[[\"ROUGE-1\", \"ROUGE-2\", \"ROUGE-L\", \"BERTScore-F1\"]].plot(\n",
    "    kind=\"line\", marker=\"o\", figsize=(10,6)\n",
    ")\n",
    "plt.title(\"Metric Trends Across Prompt Types\")\n",
    "plt.ylabel(\"Score\")\n",
    "plt.xticks(rotation=0)\n",
    "plt.grid(True, linestyle=\"--\", alpha=0.6)\n",
    "plt.tight_layout()\n",
    "plt.savefig(\"prompt_type_trends.png\")\n",
    "plt.show()"
   ]
  },
  {
   "cell_type": "code",
   "execution_count": null,
   "metadata": {
    "colab": {
     "base_uri": "https://localhost:8080/"
    },
    "id": "Z_0MaTnFnR9f",
    "outputId": "507dd5af-7225-483c-962a-9812a43e54ab"
   },
   "outputs": [
    {
     "name": "stdout",
     "output_type": "stream",
     "text": [
      "\n",
      "Telehealth Assistant is ready.\n",
      "Please choose a prompt mode:\n",
      "1 - General\n",
      "2 - Diagnosis\n",
      "3 - Psychological\n",
      "4 - Medication\n",
      "Enter mode number (1-4): 1\n",
      "\n",
      "Prompt mode set to [GENERAL]. Type 'exit' to quit.\n",
      "\n",
      "Patient: Hey Doc, I’ve been sneezing nonstop, do you think it’s just allergies?\n",
      "Doctor: Yes, allergies can cause sneezing and itchy eyes. \n",
      "\n",
      "Patient: I’ve had a cough and low-grade fever for three days. Should I be worried?\n",
      "Doctor: Yes, you need to see your doctor. \n",
      "\n",
      "Patient: I just twisted my ankle while jogging. It’s swollen but not bruised, should I get an X-ray?\n",
      "Doctor: Yes, you should get an X-ray. \n",
      "\n",
      "Patient: Is it okay to exercise if I have a cold?\n",
      "Doctor: No, you should not exercise if you have a cold. \n",
      "\n",
      "Patient: I have a sore throat and mild fever. What should I do?\n",
      "Doctor: You should see a doctor about your sore throat. \n",
      "\n",
      "Patient: exit\n",
      "Thank you. Stay healthy!\n"
     ]
    }
   ],
   "source": [
    "# Step 5: Interactive Chat with the model\n",
    "def chat_with_model(model, tokenizer):\n",
    "    print(\"\\nTelehealth Assistant is ready.\")\n",
    "    print(\"Please choose a prompt mode:\")\n",
    "    print(\"1 - General\")\n",
    "    print(\"2 - Diagnosis\")\n",
    "    print(\"3 - Psychological\")\n",
    "    print(\"4 - Medication\")\n",
    "\n",
    "    mode_map = {\n",
    "        \"1\": \"general\",\n",
    "        \"2\": \"diagnosis\",\n",
    "        \"3\": \"psychological\",\n",
    "        \"4\": \"medication\"\n",
    "    }\n",
    "\n",
    "    mode = input(\"Enter mode number (1-4): \").strip()\n",
    "    prompt_type = mode_map.get(mode, \"general\")  # default to general\n",
    "\n",
    "    print(f\"\\nPrompt mode set to [{prompt_type.upper()}]. Type 'exit' to quit.\\n\")\n",
    "\n",
    "    while True:\n",
    "        user_input = input(\"Patient: \").strip()\n",
    "        if user_input.lower() == \"exit\":\n",
    "            print(\"Thank you. Stay healthy!\")\n",
    "            break\n",
    "        doctor_reply = generate_answer(user_input, model, tokenizer, prompt_type=prompt_type)\n",
    "        print(\"Doctor:\", doctor_reply, \"\\n\")\n",
    "\n",
    "# Start the chat system\n",
    "chat_with_model(model, tokenizer)"
   ]
  },
  {
   "cell_type": "code",
   "execution_count": 1,
   "metadata": {},
   "outputs": [
    {
     "name": "stderr",
     "output_type": "stream",
     "text": [
      "[NbConvertApp] Converting notebook Model_FAQ_Telehealth_Flan_T5_XL_OhWenChi.ipynb to pdf\n",
      "[NbConvertApp] Support files will be in Model_FAQ_Telehealth_Flan_T5_XL_OhWenChi_files\\\n",
      "[NbConvertApp] Making directory .\\Model_FAQ_Telehealth_Flan_T5_XL_OhWenChi_files\n",
      "[NbConvertApp] Writing 118035 bytes to notebook.tex\n",
      "[NbConvertApp] Building PDF\n",
      "[NbConvertApp] Running xelatex 3 times: ['xelatex', 'notebook.tex', '-quiet']\n",
      "[NbConvertApp] Running bibtex 1 time: ['bibtex', 'notebook']\n",
      "[NbConvertApp] WARNING | b had problems, most likely because there were no citations\n",
      "[NbConvertApp] PDF successfully created\n",
      "[NbConvertApp] Writing 197309 bytes to Model_FAQ_Telehealth_Flan_T5_XL_OhWenChi.pdf\n"
     ]
    }
   ],
   "source": [
    "!jupyter nbconvert --to pdf Model_FAQ_Telehealth_Flan_T5_XL_OhWenChi.ipynb"
   ]
  },
  {
   "cell_type": "code",
   "execution_count": null,
   "metadata": {},
   "outputs": [],
   "source": []
  }
 ],
 "metadata": {
  "accelerator": "GPU",
  "colab": {
   "gpuType": "T4",
   "provenance": []
  },
  "kernelspec": {
   "display_name": "Python [conda env:base] *",
   "language": "python",
   "name": "conda-base-py"
  },
  "language_info": {
   "codemirror_mode": {
    "name": "ipython",
    "version": 3
   },
   "file_extension": ".py",
   "mimetype": "text/x-python",
   "name": "python",
   "nbconvert_exporter": "python",
   "pygments_lexer": "ipython3",
   "version": "3.12.7"
  }
 },
 "nbformat": 4,
 "nbformat_minor": 4
}
